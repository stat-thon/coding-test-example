{
 "cells": [
  {
   "attachments": {},
   "cell_type": "markdown",
   "metadata": {},
   "source": [
    "# Leetcode - Most Common Word"
   ]
  },
  {
   "cell_type": "code",
   "execution_count": 46,
   "metadata": {},
   "outputs": [],
   "source": [
    "paragraph = \"Bob hit a ball, the hit BALL flew far after it was hit.\"\n",
    "banned = [\"hit\"]"
   ]
  },
  {
   "cell_type": "code",
   "execution_count": 53,
   "metadata": {},
   "outputs": [
    {
     "name": "stdout",
     "output_type": "stream",
     "text": [
      "['bob', 'hit', 'a', 'ball', '', 'the', 'hit', 'ball', 'flew', 'far', 'after', 'it', 'was', 'hit', '']\n"
     ]
    }
   ],
   "source": [
    "temp = ''\n",
    "words = []\n",
    "for letter in paragraph + '.':\n",
    "    if letter.isalnum():\n",
    "        temp += letter.lower()\n",
    "    else:\n",
    "        words.append(temp)\n",
    "        temp = ''\n",
    "print(words)"
   ]
  },
  {
   "cell_type": "code",
   "execution_count": 54,
   "metadata": {},
   "outputs": [
    {
     "data": {
      "text/plain": [
       "Counter({'bob': 1,\n",
       "         'hit': 3,\n",
       "         'a': 1,\n",
       "         'ball': 2,\n",
       "         '': 2,\n",
       "         'the': 1,\n",
       "         'flew': 1,\n",
       "         'far': 1,\n",
       "         'after': 1,\n",
       "         'it': 1,\n",
       "         'was': 1})"
      ]
     },
     "execution_count": 54,
     "metadata": {},
     "output_type": "execute_result"
    }
   ],
   "source": [
    "Counter(words)"
   ]
  },
  {
   "cell_type": "code",
   "execution_count": 55,
   "metadata": {},
   "outputs": [],
   "source": [
    "class Solution:\n",
    "    def mostCommonWord(self, paragraph, banned):\n",
    "        from collections import Counter\n",
    "        temp = ''\n",
    "        words = []\n",
    "        for letter in paragraph + '.':\n",
    "            if letter.isalnum():\n",
    "                temp += letter.lower()\n",
    "            else:\n",
    "                words.append(temp)\n",
    "                temp = ''\n",
    "        word_count = Counter(words)\n",
    "\n",
    "\n",
    "        banned.append('')\n",
    "        for ban in banned:\n",
    "            del word_count[ban]\n",
    "\n",
    "        return word_count.most_common(1)[0][0]"
   ]
  }
 ],
 "metadata": {
  "kernelspec": {
   "display_name": "base",
   "language": "python",
   "name": "python3"
  },
  "language_info": {
   "codemirror_mode": {
    "name": "ipython",
    "version": 3
   },
   "file_extension": ".py",
   "mimetype": "text/x-python",
   "name": "python",
   "nbconvert_exporter": "python",
   "pygments_lexer": "ipython3",
   "version": "3.9.7"
  },
  "orig_nbformat": 4,
  "vscode": {
   "interpreter": {
    "hash": "89ac6dd2201b5666063839014919a6a8e5ab411e0482cec326965e3203c35655"
   }
  }
 },
 "nbformat": 4,
 "nbformat_minor": 2
}
