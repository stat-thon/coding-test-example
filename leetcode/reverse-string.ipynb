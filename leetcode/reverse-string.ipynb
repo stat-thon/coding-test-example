{
 "cells": [
  {
   "attachments": {},
   "cell_type": "markdown",
   "metadata": {},
   "source": [
    "# Leetcode - Reverse String"
   ]
  },
  {
   "cell_type": "code",
   "execution_count": 15,
   "metadata": {},
   "outputs": [],
   "source": [
    "s = [\"h\",\"e\",\"l\",\"l\",\"o\"]"
   ]
  },
  {
   "cell_type": "code",
   "execution_count": null,
   "metadata": {},
   "outputs": [],
   "source": [
    "class Solution:\n",
    "    # My solution\n",
    "    def reverseString(self, s):\n",
    "        s.reverse()\n",
    "        print(s)\n",
    "\n",
    "    # Solution 1. Classical Way using Two Pointers\n",
    "    def solution1(self, s):\n",
    "        left, right = 0, len(s) - 1\n",
    "        while left < right:\n",
    "            s[left], s[right] = s[right], s[left] # -> Swap\n",
    "            left += 1\n",
    "            right += 1\n",
    "    \n",
    "    # Solution 2. Pythonic Way\n",
    "    def solution2(self, s):\n",
    "        s.reverse()\n",
    "        # You don't nee to print(s), because this problem says \"you don't need to return\"\n",
    "\n",
    "    # Tip\n",
    "    def solution3(self, s):\n",
    "        # s = s[::-1] # It should be work but it doesn't work in leetcode because they constrain memory with O(1)\n",
    "        # so you need a  trick\n",
    "        s[:] = s[::-1] # It works"
   ]
  }
 ],
 "metadata": {
  "kernelspec": {
   "display_name": "base",
   "language": "python",
   "name": "python3"
  },
  "language_info": {
   "codemirror_mode": {
    "name": "ipython",
    "version": 3
   },
   "file_extension": ".py",
   "mimetype": "text/x-python",
   "name": "python",
   "nbconvert_exporter": "python",
   "pygments_lexer": "ipython3",
   "version": "3.9.7"
  },
  "orig_nbformat": 4,
  "vscode": {
   "interpreter": {
    "hash": "89ac6dd2201b5666063839014919a6a8e5ab411e0482cec326965e3203c35655"
   }
  }
 },
 "nbformat": 4,
 "nbformat_minor": 2
}
