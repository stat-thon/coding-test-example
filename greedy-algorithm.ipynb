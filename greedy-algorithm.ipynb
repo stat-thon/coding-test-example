{
 "cells": [
  {
   "cell_type": "markdown",
   "metadata": {},
   "source": [
    "# Greedy Algorithm"
   ]
  },
  {
   "cell_type": "markdown",
   "metadata": {},
   "source": [
    "## 예제 3-1 거스름돈"
   ]
  },
  {
   "cell_type": "code",
   "execution_count": 2,
   "metadata": {},
   "outputs": [],
   "source": [
    "# 거스름돈으로 사용할 500, 100, 50, 10원 무한히 존재\n",
    "# 거슬러 줘야 할 돈 : N원\n",
    "# 거스름돈으로 사용할 동전의 최소 개수?"
   ]
  },
  {
   "cell_type": "markdown",
   "metadata": {},
   "source": [
    "### 예제 3-1 내 답안"
   ]
  },
  {
   "cell_type": "code",
   "execution_count": 16,
   "metadata": {},
   "outputs": [
    {
     "name": "stdout",
     "output_type": "stream",
     "text": [
      "거스름돈은 3950 원입니다.\n",
      "500원: 7 개\n",
      "100원: 4 개\n",
      "50원: 1 개\n",
      "10원: 0 개\n",
      "최종 거스름돈의 개수는 12 개 입니다.\n"
     ]
    }
   ],
   "source": [
    "\n",
    "N = int(input('거스름돈:'))\n",
    "print('거스름돈은', N, '원입니다.')\n",
    "\n",
    "num_change = 0\n",
    "\n",
    "print('500원:', N // 500, '개')\n",
    "num_change += N // 500\n",
    "N %= 500\n",
    "\n",
    "print('100원:', N // 100, '개')\n",
    "num_change += N // 100\n",
    "N %= 100\n",
    "\n",
    "print('50원:', N // 50, '개')\n",
    "num_change += N // 50\n",
    "N %= 50\n",
    "\n",
    "print('10원:', N // 10, '개')\n",
    "num_change += N // 10\n",
    "N %= 10\n",
    "\n",
    "print('최종 거스름돈의 개수는', num_change, '개 입니다.')"
   ]
  },
  {
   "cell_type": "markdown",
   "metadata": {},
   "source": [
    "### 예제 3-1 답안"
   ]
  },
  {
   "cell_type": "code",
   "execution_count": 33,
   "metadata": {},
   "outputs": [],
   "source": [
    "N = round(int(input('거스름돈을 입력하세요: ')), -1)"
   ]
  },
  {
   "cell_type": "code",
   "execution_count": 34,
   "metadata": {},
   "outputs": [
    {
     "name": "stdout",
     "output_type": "stream",
     "text": [
      "거스름돈은 570 원입니다. (10원 미만의 단위는 절삭)\n",
      "500 원: 1 개\n",
      "100 원: 0 개\n",
      "50 원: 1 개\n",
      "10 원: 2 개\n",
      "최종 거스름돈의 개수는 4 개입니다.\n"
     ]
    }
   ],
   "source": [
    "# for문 사용\n",
    "\n",
    "print('거스름돈은', N,'원입니다. (10원 미만의 단위는 절삭)')\n",
    "\n",
    "change = [500, 100, 50, 10]\n",
    "num_change = 0\n",
    "\n",
    "for coin in change:\n",
    "    \n",
    "    num_coin = N // coin\n",
    "    print(coin, '원:', num_coin, '개')\n",
    "    num_change += num_coin\n",
    "    N %= coin\n",
    "\n",
    "print('최종 거스름돈의 개수는', num_change, '개입니다.')\n",
    "    "
   ]
  },
  {
   "cell_type": "markdown",
   "metadata": {},
   "source": [
    "## 예제 3-2 큰 수의 법칙"
   ]
  },
  {
   "cell_type": "code",
   "execution_count": 23,
   "metadata": {},
   "outputs": [],
   "source": [
    "# 입력조건1: N, M, K를 한 번에 입력 받음 (공백으로 구분) \n",
    "# 입력조건2: N개의 자연수를 리스트형으로 입력 받음 (공백으로 구분)\n",
    "# 추가조건: K <= M\n",
    "\n",
    "### 문제: 주어진 N개의 자연수와 아래의 조건 하에서 만들 수 있는 덧셈식 중 가장 큰 수?\n",
    "# 조건1: 총 M번 더할 것\n",
    "# 조건2: 같은 수를 연속하여 사용하는 것은 K번만 허용\n",
    "# 조건3: N개의 자연수 리스트 내에서 서로 다른 인덱스로 저장된 똑같은 수는 서로 다른 수로 취급하여 조건2의 제한을 받지 않음"
   ]
  },
  {
   "cell_type": "markdown",
   "metadata": {},
   "source": [
    "### 예제 3-2 내 답안"
   ]
  },
  {
   "cell_type": "code",
   "execution_count": 20,
   "metadata": {},
   "outputs": [
    {
     "name": "stdout",
     "output_type": "stream",
     "text": [
      "5 8 3\n",
      "[2, 4, 5, 4, 6]\n"
     ]
    }
   ],
   "source": [
    "### 입력\n",
    "\n",
    "N, M, K = map(int, input().split())\n",
    "number_list = list(map(int, input().split()))\n",
    "\n",
    "print(N, M, K)\n",
    "print(number_list)"
   ]
  },
  {
   "cell_type": "code",
   "execution_count": 21,
   "metadata": {},
   "outputs": [
    {
     "name": "stdout",
     "output_type": "stream",
     "text": [
      "46\n"
     ]
    }
   ],
   "source": [
    "### 결과\n",
    "\n",
    "number_list.sort() # 시간복잡도: O(NlogN)\n",
    "[second_max, first_max] = number_list[-2:] # 주어진 자연수 중에서 필요한 수는 이 두개 뿐\n",
    "\n",
    "# M을 K+1로 나눈 몫과 나머지 계산\n",
    "mok = M // (K + 1)\n",
    "nameoji = M % (K + 1)\n",
    "\n",
    "# 문제에 주어진 큰 수의 법칙 적용\n",
    "result = first_max * K * mok + first_max * nameoji + second_max * mok # 시간복잡도: O(K) (상수)\n",
    "\n",
    "# 결과 출력\n",
    "print(result) "
   ]
  },
  {
   "cell_type": "markdown",
   "metadata": {},
   "source": [
    "### 예제 3-2 답안"
   ]
  },
  {
   "cell_type": "code",
   "execution_count": 22,
   "metadata": {},
   "outputs": [
    {
     "name": "stdout",
     "output_type": "stream",
     "text": [
      "46\n"
     ]
    }
   ],
   "source": [
    "n, m, k = map(int, input().split())\n",
    "data = list(map(int, input().split()))\n",
    "\n",
    "data.sort()\n",
    "first = data[n - 1]\n",
    "second = data[n - 2]\n",
    "\n",
    "count = int(m / (k + 1)) * k\n",
    "count += m % (k + 1)\n",
    "\n",
    "result = 0\n",
    "result += (count) * first\n",
    "result += (m-count) * second\n",
    "\n",
    "print(result)"
   ]
  },
  {
   "cell_type": "markdown",
   "metadata": {},
   "source": [
    "## 예제 3-3 숫자 카드 게임"
   ]
  },
  {
   "cell_type": "code",
   "execution_count": null,
   "metadata": {},
   "outputs": [],
   "source": [
    "# 입력조건1: N, M은 한번에 입력 (공백으로 나눔)\n",
    "# 입력조건2: N개의 줄에 걸쳐 각 카드에 적힌 숫자 입력 (공백으로 구분?)\n",
    "\n",
    "### 문제: 여러 숫자 카드 중 가장 높은 숫자가 쓰인 카드 한 장을 뽑는 게임\n",
    "# 하지만 룰이 있음\n",
    "\n",
    "# 조건: 숫자 카드는 N X M 행렬로 놓여있음\n",
    "\n",
    "# 진행순서1: 먼저 뽑고자 하는 카드가 포함되어 있는 행 선택\n",
    "# 진행순서2: 선택된 행에 포함된 카드 중 가장 작은 숫자 카드 뽑음 (이 카드가 가장 큰 수여야 함)\n",
    "\n",
    "# 따라서 처음에 카드를 골라낼 행을 선택할 때, 이후에 해당 행에서 가장 숫자가 낮은 카드를 뽑을 것을 고려하여\n",
    "# 최종적으로 가장 높은 숫자의 카드를 뽑을 수 있도록 전략을 세워야 함"
   ]
  },
  {
   "cell_type": "code",
   "execution_count": 28,
   "metadata": {},
   "outputs": [
    {
     "data": {
      "text/plain": [
       "4"
      ]
     },
     "execution_count": 28,
     "metadata": {},
     "output_type": "execute_result"
    }
   ],
   "source": [
    "a = [[3, 1, 2], [4, 1, 4]]\n",
    "max(a[1])"
   ]
  },
  {
   "cell_type": "code",
   "execution_count": 32,
   "metadata": {},
   "outputs": [
    {
     "name": "stdout",
     "output_type": "stream",
     "text": [
      "2 4\n",
      "[[7, 3, 1, 8], [3, 3, 3, 4]]\n",
      "3\n"
     ]
    }
   ],
   "source": [
    "# 입력\n",
    "N, M = map(int, input().split())\n",
    "\n",
    "card = []\n",
    "for _ in range(N): \n",
    "    card.append(list(map(int, input().split()))) # 이중 리스트: N개의 리스트를 큰 리스트의 원소로 입력\n",
    "\n",
    "print(N, M)\n",
    "print(card)\n",
    "\n",
    "\n",
    "# 출력\n",
    "min_card_list = []\n",
    "\n",
    "for i in range(N):\n",
    "    min_card = min(card[i]) \n",
    "    min_card_list.append(min_card)\n",
    "# 위 반복문의 시간복잡도: O(N*M)\n",
    "\n",
    "result = max(min_card_list) # O(N)\n",
    "\n",
    "print(result) # 전체 시간복잡도: O(N*(M+1))"
   ]
  }
 ],
 "metadata": {
  "kernelspec": {
   "display_name": "Python 3.10.2 64-bit",
   "language": "python",
   "name": "python3"
  },
  "language_info": {
   "codemirror_mode": {
    "name": "ipython",
    "version": 3
   },
   "file_extension": ".py",
   "mimetype": "text/x-python",
   "name": "python",
   "nbconvert_exporter": "python",
   "pygments_lexer": "ipython3",
   "version": "3.10.2"
  },
  "orig_nbformat": 4,
  "vscode": {
   "interpreter": {
    "hash": "35a709b18549f3821755cf447a624debe2d5757e6152a382261c019f6f81fca7"
   }
  }
 },
 "nbformat": 4,
 "nbformat_minor": 2
}
