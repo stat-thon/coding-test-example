{
 "cells": [
  {
   "cell_type": "markdown",
   "metadata": {},
   "source": [
    "# Greedy Algorithm"
   ]
  },
  {
   "cell_type": "markdown",
   "metadata": {},
   "source": [
    "### 예제 3-1 거스름돈"
   ]
  },
  {
   "cell_type": "code",
   "execution_count": 2,
   "metadata": {},
   "outputs": [],
   "source": [
    "# 거스름돈으로 사용할 500, 100, 50, 10원 무한히 존재\n",
    "# 거슬러 줘야 할 돈 : N원\n",
    "# 거스름돈으로 사용할 동전의 최소 개수?"
   ]
  },
  {
   "cell_type": "markdown",
   "metadata": {},
   "source": [
    "### 예제 3-1 내 답안"
   ]
  },
  {
   "cell_type": "code",
   "execution_count": 16,
   "metadata": {},
   "outputs": [
    {
     "name": "stdout",
     "output_type": "stream",
     "text": [
      "거스름돈은 3950 원입니다.\n",
      "500원: 7 개\n",
      "100원: 4 개\n",
      "50원: 1 개\n",
      "10원: 0 개\n",
      "최종 거스름돈의 개수는 12 개 입니다.\n"
     ]
    }
   ],
   "source": [
    "\n",
    "N = int(input('거스름돈:'))\n",
    "print('거스름돈은', N, '원입니다.')\n",
    "\n",
    "num_change = 0\n",
    "\n",
    "print('500원:', N // 500, '개')\n",
    "num_change += N // 500\n",
    "N %= 500\n",
    "\n",
    "print('100원:', N // 100, '개')\n",
    "num_change += N // 100\n",
    "N %= 100\n",
    "\n",
    "print('50원:', N // 50, '개')\n",
    "num_change += N // 50\n",
    "N %= 50\n",
    "\n",
    "print('10원:', N // 10, '개')\n",
    "num_change += N // 10\n",
    "N %= 10\n",
    "\n",
    "print('최종 거스름돈의 개수는', num_change, '개 입니다.')"
   ]
  },
  {
   "cell_type": "markdown",
   "metadata": {},
   "source": [
    "### 예제 3-1 답안"
   ]
  },
  {
   "cell_type": "code",
   "execution_count": 33,
   "metadata": {},
   "outputs": [],
   "source": [
    "N = round(int(input('거스름돈을 입력하세요: ')), -1)"
   ]
  },
  {
   "cell_type": "code",
   "execution_count": 34,
   "metadata": {},
   "outputs": [
    {
     "name": "stdout",
     "output_type": "stream",
     "text": [
      "거스름돈은 570 원입니다. (10원 미만의 단위는 절삭)\n",
      "500 원: 1 개\n",
      "100 원: 0 개\n",
      "50 원: 1 개\n",
      "10 원: 2 개\n",
      "최종 거스름돈의 개수는 4 개입니다.\n"
     ]
    }
   ],
   "source": [
    "# for문 사용\n",
    "\n",
    "print('거스름돈은', N,'원입니다. (10원 미만의 단위는 절삭)')\n",
    "\n",
    "change = [500, 100, 50, 10]\n",
    "num_change = 0\n",
    "\n",
    "for coin in change:\n",
    "    \n",
    "    num_coin = N // coin\n",
    "    print(coin, '원:', num_coin, '개')\n",
    "    num_change += num_coin\n",
    "    N %= coin\n",
    "\n",
    "print('최종 거스름돈의 개수는', num_change, '개입니다.')\n",
    "    "
   ]
  }
 ],
 "metadata": {
  "kernelspec": {
   "display_name": "Python 3.10.2 64-bit",
   "language": "python",
   "name": "python3"
  },
  "language_info": {
   "codemirror_mode": {
    "name": "ipython",
    "version": 3
   },
   "file_extension": ".py",
   "mimetype": "text/x-python",
   "name": "python",
   "nbconvert_exporter": "python",
   "pygments_lexer": "ipython3",
   "version": "3.10.2"
  },
  "orig_nbformat": 4,
  "vscode": {
   "interpreter": {
    "hash": "35a709b18549f3821755cf447a624debe2d5757e6152a382261c019f6f81fca7"
   }
  }
 },
 "nbformat": 4,
 "nbformat_minor": 2
}
