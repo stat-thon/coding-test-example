{
 "cells": [
  {
   "attachments": {},
   "cell_type": "markdown",
   "metadata": {},
   "source": [
    "# BFS - 소문난 칠공주"
   ]
  },
  {
   "cell_type": "code",
   "execution_count": 1,
   "metadata": {},
   "outputs": [
    {
     "name": "stdout",
     "output_type": "stream",
     "text": [
      "[['Y', 'Y', 'Y', 'Y', 'Y'], ['S', 'Y', 'S', 'Y', 'S'], ['Y', 'Y', 'Y', 'Y', 'Y'], ['Y', 'S', 'Y', 'Y', 'S'], ['Y', 'Y', 'Y', 'Y', 'Y']]\n"
     ]
    }
   ],
   "source": [
    "graph = []\n",
    "for _ in range(5):\n",
    "    graph.append([i for i in input()])\n",
    "\n",
    "print(graph)"
   ]
  },
  {
   "cell_type": "code",
   "execution_count": 20,
   "metadata": {},
   "outputs": [
    {
     "data": {
      "text/plain": [
       "deque([(0, 0, 0, 0)])"
      ]
     },
     "execution_count": 20,
     "metadata": {},
     "output_type": "execute_result"
    }
   ],
   "source": [
    "from collections import deque\n",
    "\n",
    "dq = deque()\n",
    "dq.append((0, 0, 0, 0)) # 세번째는 count S, 네번째는 level\n",
    "dq"
   ]
  },
  {
   "cell_type": "code",
   "execution_count": 50,
   "metadata": {},
   "outputs": [
    {
     "data": {
      "text/plain": [
       "'S'"
      ]
     },
     "execution_count": 50,
     "metadata": {},
     "output_type": "execute_result"
    }
   ],
   "source": [
    "graph[1][2]"
   ]
  },
  {
   "cell_type": "code",
   "execution_count": 73,
   "metadata": {},
   "outputs": [],
   "source": [
    "from collections import deque\n",
    "\n",
    "dx = [1, -1, 0, 0]\n",
    "dy = [0, 0, 1, -1]\n",
    "\n",
    "def bfs(x, y):\n",
    "\n",
    "    global result\n",
    "    \n",
    "    visited = [[0] * 5 for _ in range(5)]\n",
    "\n",
    "    dq = deque()\n",
    "    if graph[x][y] == 'S':\n",
    "        dq.append((x, y, 1, 1))\n",
    "\n",
    "    else:\n",
    "        dq.append((x, y, 0, 1))\n",
    "        \n",
    "    while dq:\n",
    "        a, b, c, l = dq.popleft()\n",
    "        visited[a][b] = 1\n",
    "\n",
    "        if l - c > 3:\n",
    "            break\n",
    "\n",
    "        if l == 7:\n",
    "            if c >= 4:\n",
    "                print('TRUE')\n",
    "                result += 1\n",
    "            break        \n",
    "    \n",
    "        for i in range(4):\n",
    "            nx = a + dx[i]\n",
    "            ny = b + dy[i]\n",
    "\n",
    "            if 0 <= nx < 5 and 0 < ny < 5 and visited[nx][ny] != 1:\n",
    "                print(nx, ny, c + 1, l + 1, '\\n')\n",
    "                if graph[nx][ny] == 'S':\n",
    "                    dq.append((nx, ny, c + 1, l + 1))\n",
    "                    \n",
    "                else:\n",
    "                    dq.append((nx, ny, c, l + 1))\n",
    "                    #print(nx, ny, c, l + 1)"
   ]
  },
  {
   "cell_type": "code",
   "execution_count": 74,
   "metadata": {},
   "outputs": [
    {
     "name": "stdout",
     "output_type": "stream",
     "text": [
      "2 2 2 2 \n",
      "\n",
      "0 2 2 2 \n",
      "\n",
      "1 3 2 2 \n",
      "\n",
      "1 1 2 2 \n",
      "\n",
      "3 2 2 3 \n",
      "\n",
      "2 3 2 3 \n",
      "\n",
      "2 1 2 3 \n",
      "\n",
      "0 3 2 3 \n",
      "\n",
      "0 1 2 3 \n",
      "\n",
      "2 3 2 3 \n",
      "\n",
      "0 3 2 3 \n",
      "\n",
      "1 4 2 3 \n",
      "\n",
      "2 1 2 3 \n",
      "\n",
      "0 1 2 3 \n",
      "\n",
      "4 2 2 4 \n",
      "\n",
      "3 3 2 4 \n",
      "\n",
      "3 1 2 4 \n",
      "\n",
      "3 3 2 4 \n",
      "\n",
      "2 4 2 4 \n",
      "\n",
      "3 1 2 4 \n",
      "\n",
      "0 4 2 4 \n",
      "\n",
      "3 3 2 4 \n",
      "\n",
      "2 4 2 4 \n",
      "\n",
      "0 4 2 4 \n",
      "\n",
      "2 4 3 4 \n",
      "\n",
      "0 4 3 4 \n",
      "\n",
      "3 1 2 4 \n",
      "\n",
      "4 3 2 5 \n",
      "\n",
      "4 1 2 5 \n",
      "\n",
      "4 3 2 5 \n",
      "\n",
      "3 4 2 5 \n",
      "\n",
      "4 1 3 5 \n",
      "\n",
      "4 3 2 5 \n",
      "\n",
      "3 4 2 5 \n",
      "\n",
      "3 4 2 5 \n",
      "\n",
      "4 1 3 5 \n",
      "\n",
      "4 3 2 5 \n",
      "\n",
      "3 4 2 5 \n",
      "\n",
      "3 4 2 5 \n",
      "\n",
      "3 4 3 5 \n",
      "\n",
      "4 1 3 5 \n",
      "\n"
     ]
    }
   ],
   "source": [
    "bfs(1, 2)"
   ]
  },
  {
   "cell_type": "code",
   "execution_count": 72,
   "metadata": {},
   "outputs": [
    {
     "ename": "NameError",
     "evalue": "name 'visited' is not defined",
     "output_type": "error",
     "traceback": [
      "\u001b[1;31m---------------------------------------------------------------------------\u001b[0m",
      "\u001b[1;31mNameError\u001b[0m                                 Traceback (most recent call last)",
      "\u001b[1;32m~\\AppData\\Local\\Temp/ipykernel_7588/118005182.py\u001b[0m in \u001b[0;36m<module>\u001b[1;34m\u001b[0m\n\u001b[1;32m----> 1\u001b[1;33m \u001b[0mvisited\u001b[0m\u001b[1;33m\u001b[0m\u001b[1;33m\u001b[0m\u001b[0m\n\u001b[0m",
      "\u001b[1;31mNameError\u001b[0m: name 'visited' is not defined"
     ]
    }
   ],
   "source": []
  },
  {
   "cell_type": "code",
   "execution_count": 67,
   "metadata": {},
   "outputs": [
    {
     "name": "stdout",
     "output_type": "stream",
     "text": [
      "0\n"
     ]
    }
   ],
   "source": [
    "result = 0\n",
    "for i in range(5):\n",
    "    for j in range(5):\n",
    "        bfs(i, j)\n",
    "\n",
    "print(result)"
   ]
  },
  {
   "cell_type": "code",
   "execution_count": 38,
   "metadata": {},
   "outputs": [],
   "source": [
    "dq = deque()\n",
    "dq.append((0, 0, 0, 0))\n",
    "\n",
    "while dq:\n",
    "    a, b, c, l = dq.popleft()\n",
    "\n",
    "    if l - c > 3:\n",
    "        break\n",
    "\n",
    "    if l == 7:\n",
    "        if c >= 4:\n",
    "            result += 1\n",
    "        break        \n",
    "    \n",
    "    for i in range(4):\n",
    "        nx = a + dx[i]\n",
    "        ny = b + dy[i]\n",
    "\n",
    "        if 0 <= nx < 5 and 0 < ny < 5:\n",
    "            if graph[nx][ny] == 'S':\n",
    "                dq.append((nx, ny, c + 1, l + 1))\n",
    "            else:\n",
    "                dq.append((nx, ny, c, l + 1))"
   ]
  },
  {
   "cell_type": "code",
   "execution_count": 39,
   "metadata": {},
   "outputs": [
    {
     "data": {
      "text/plain": [
       "deque([(2, 2, 0, 4),\n",
       "       (1, 1, 0, 4),\n",
       "       (0, 2, 0, 4),\n",
       "       (2, 2, 1, 4),\n",
       "       (0, 2, 1, 4),\n",
       "       (1, 3, 1, 4),\n",
       "       (1, 1, 1, 4),\n",
       "       (2, 2, 1, 4),\n",
       "       (0, 2, 1, 4),\n",
       "       (1, 3, 1, 4),\n",
       "       (1, 1, 1, 4),\n",
       "       (1, 3, 0, 4),\n",
       "       (0, 4, 0, 4),\n",
       "       (0, 2, 0, 4),\n",
       "       (1, 1, 0, 4),\n",
       "       (0, 2, 0, 4),\n",
       "       (4, 1, 1, 5),\n",
       "       (2, 1, 1, 5),\n",
       "       (3, 2, 1, 5)])"
      ]
     },
     "execution_count": 39,
     "metadata": {},
     "output_type": "execute_result"
    }
   ],
   "source": [
    "dq"
   ]
  },
  {
   "cell_type": "code",
   "execution_count": 24,
   "metadata": {},
   "outputs": [
    {
     "data": {
      "text/plain": [
       "0"
      ]
     },
     "execution_count": 24,
     "metadata": {},
     "output_type": "execute_result"
    }
   ],
   "source": [
    "result"
   ]
  }
 ],
 "metadata": {
  "kernelspec": {
   "display_name": "base",
   "language": "python",
   "name": "python3"
  },
  "language_info": {
   "codemirror_mode": {
    "name": "ipython",
    "version": 3
   },
   "file_extension": ".py",
   "mimetype": "text/x-python",
   "name": "python",
   "nbconvert_exporter": "python",
   "pygments_lexer": "ipython3",
   "version": "3.9.7 (default, Sep 16 2021, 16:59:28) [MSC v.1916 64 bit (AMD64)]"
  },
  "orig_nbformat": 4,
  "vscode": {
   "interpreter": {
    "hash": "89ac6dd2201b5666063839014919a6a8e5ab411e0482cec326965e3203c35655"
   }
  }
 },
 "nbformat": 4,
 "nbformat_minor": 2
}
