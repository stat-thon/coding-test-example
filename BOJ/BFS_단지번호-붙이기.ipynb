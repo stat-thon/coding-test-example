{
 "cells": [
  {
   "attachments": {},
   "cell_type": "markdown",
   "metadata": {},
   "source": [
    "# BFS - 단지번호 붙이기"
   ]
  },
  {
   "cell_type": "code",
   "execution_count": 25,
   "metadata": {},
   "outputs": [],
   "source": [
    "n = int(input())\n",
    "apt = []\n",
    "for _ in range(n):\n",
    "    temp = str(input())\n",
    "    c = [int(s) for s in temp]\n",
    "    apt.append(c)"
   ]
  },
  {
   "cell_type": "code",
   "execution_count": 30,
   "metadata": {},
   "outputs": [
    {
     "data": {
      "text/plain": [
       "[[0, 1, 1, 0, 1, 0, 0],\n",
       " [0, 1, 1, 0, 1, 0, 1],\n",
       " [1, 1, 1, 0, 1, 0, 1],\n",
       " [0, 0, 0, 0, 1, 1, 1],\n",
       " [0, 1, 0, 0, 0, 0, 0],\n",
       " [0, 1, 1, 1, 1, 1, 0],\n",
       " [0, 1, 1, 1, 0, 0, 0]]"
      ]
     },
     "execution_count": 30,
     "metadata": {},
     "output_type": "execute_result"
    }
   ],
   "source": [
    "import copy\n",
    "\n",
    "# don't touch\n",
    "memory_apt = copy.deepcopy(apt)\n",
    "memory_apt\n"
   ]
  },
  {
   "cell_type": "code",
   "execution_count": 31,
   "metadata": {},
   "outputs": [
    {
     "data": {
      "text/plain": [
       "[[0, 1, 1, 0, 1, 0, 0],\n",
       " [0, 1, 1, 0, 1, 0, 1],\n",
       " [1, 1, 1, 0, 1, 0, 1],\n",
       " [0, 0, 0, 0, 1, 1, 1],\n",
       " [0, 1, 0, 0, 0, 0, 0],\n",
       " [0, 1, 1, 1, 1, 1, 0],\n",
       " [0, 1, 1, 1, 0, 0, 0]]"
      ]
     },
     "execution_count": 31,
     "metadata": {},
     "output_type": "execute_result"
    }
   ],
   "source": [
    "memory_apt"
   ]
  },
  {
   "cell_type": "code",
   "execution_count": 45,
   "metadata": {},
   "outputs": [
    {
     "data": {
      "text/plain": [
       "[[0, 1, 1, 0, 1, 0, 0],\n",
       " [0, 1, 1, 0, 1, 0, 1],\n",
       " [1, 1, 1, 0, 1, 0, 1],\n",
       " [0, 0, 0, 0, 1, 1, 1],\n",
       " [0, 1, 0, 0, 0, 0, 0],\n",
       " [0, 1, 1, 1, 1, 1, 0],\n",
       " [0, 1, 1, 1, 0, 0, 0]]"
      ]
     },
     "execution_count": 45,
     "metadata": {},
     "output_type": "execute_result"
    }
   ],
   "source": [
    "apt = copy.deepcopy(memory_apt)\n",
    "apt"
   ]
  },
  {
   "cell_type": "code",
   "execution_count": 46,
   "metadata": {},
   "outputs": [
    {
     "name": "stdout",
     "output_type": "stream",
     "text": [
      "3\n",
      "7\n",
      "8\n",
      "9\n"
     ]
    }
   ],
   "source": [
    "n = int(input())\n",
    "apt = []\n",
    "for _ in range(n):\n",
    "    temp = str(input())\n",
    "    c = [int(s) for s in temp]\n",
    "    apt.append(c)\n",
    "\n",
    "def dfs(x, y):\n",
    "    global cnt\n",
    "\n",
    "    if x <= -1 or x >= n or y <= -1 or y >= n:\n",
    "        return False\n",
    "    \n",
    "    if apt[x][y] == 1:\n",
    "        cnt += 1\n",
    "        apt[x][y] = 0\n",
    "\n",
    "        dfs(x - 1, y)\n",
    "        dfs(x + 1, y)\n",
    "        dfs(x, y + 1)\n",
    "        dfs(x, y - 1)\n",
    "        return True\n",
    "    return False\n",
    "\n",
    "\n",
    "# 함수 적용\n",
    "result = 0\n",
    "cnt_list = []\n",
    "for i in range(n):\n",
    "    for j in range(n):\n",
    "        cnt = 0\n",
    "        if dfs(i, j) == True:\n",
    "            result += 1\n",
    "            cnt_list.append(cnt)\n",
    "\n",
    "cnt_list = sorted(cnt_list)\n",
    "print(result)\n",
    "for i in cnt_list:\n",
    "    print(i)"
   ]
  },
  {
   "cell_type": "code",
   "execution_count": 36,
   "metadata": {},
   "outputs": [
    {
     "data": {
      "text/plain": [
       "[[0, 0, 0, 0, 0, 0, 0],\n",
       " [0, 0, 0, 0, 0, 0, 0],\n",
       " [0, 0, 0, 0, 0, 0, 0],\n",
       " [0, 0, 0, 0, 0, 0, 0],\n",
       " [0, 0, 0, 0, 0, 0, 0],\n",
       " [0, 0, 0, 0, 0, 0, 0],\n",
       " [0, 0, 0, 0, 0, 0, 0]]"
      ]
     },
     "execution_count": 36,
     "metadata": {},
     "output_type": "execute_result"
    }
   ],
   "source": [
    "apt"
   ]
  },
  {
   "cell_type": "code",
   "execution_count": 33,
   "metadata": {},
   "outputs": [
    {
     "data": {
      "text/plain": [
       "deque([[0, 0, 0, 0],\n",
       "       [1, 0, 1, 0],\n",
       "       [1, 0, 2, 0],\n",
       "       [0, 0, 3, 0],\n",
       "       [1, 0, 4, 0],\n",
       "       [0, 0, 5, 0],\n",
       "       [0, 0, 6, 0],\n",
       "       [0, 1, 0, 0],\n",
       "       [1, 1, 1, 0],\n",
       "       [1, 1, 2, 0],\n",
       "       [0, 1, 3, 0],\n",
       "       [1, 1, 4, 0],\n",
       "       [0, 1, 5, 0],\n",
       "       [1, 1, 6, 0],\n",
       "       [1, 2, 0, 0],\n",
       "       [1, 2, 1, 0],\n",
       "       [1, 2, 2, 0],\n",
       "       [0, 2, 3, 0],\n",
       "       [1, 2, 4, 0],\n",
       "       [0, 2, 5, 0],\n",
       "       [1, 2, 6, 0],\n",
       "       [0, 3, 0, 0],\n",
       "       [0, 3, 1, 0],\n",
       "       [0, 3, 2, 0],\n",
       "       [0, 3, 3, 0],\n",
       "       [1, 3, 4, 0],\n",
       "       [1, 3, 5, 0],\n",
       "       [1, 3, 6, 0],\n",
       "       [0, 4, 0, 0],\n",
       "       [1, 4, 1, 0],\n",
       "       [0, 4, 2, 0],\n",
       "       [0, 4, 3, 0],\n",
       "       [0, 4, 4, 0],\n",
       "       [0, 4, 5, 0],\n",
       "       [0, 4, 6, 0],\n",
       "       [0, 5, 0, 0],\n",
       "       [1, 5, 1, 0],\n",
       "       [1, 5, 2, 0],\n",
       "       [1, 5, 3, 0],\n",
       "       [1, 5, 4, 0],\n",
       "       [1, 5, 5, 0],\n",
       "       [0, 5, 6, 0],\n",
       "       [0, 6, 0, 0],\n",
       "       [1, 6, 1, 0],\n",
       "       [1, 6, 2, 0],\n",
       "       [1, 6, 3, 0],\n",
       "       [0, 6, 4, 0],\n",
       "       [0, 6, 5, 0],\n",
       "       [0, 6, 6, 0]])"
      ]
     },
     "execution_count": 33,
     "metadata": {},
     "output_type": "execute_result"
    }
   ],
   "source": [
    "new_list = []\n",
    "for i in range(n):\n",
    "  for j in range(n):\n",
    "    new_list.append([apt[i][j], i, j, 0])\n",
    "\n",
    "dx = [1, -1, 0, 0]\n",
    "dy = [0, 0, 1, -1]\n",
    "\n",
    "dq = deque(new_list)\n",
    "dq"
   ]
  },
  {
   "cell_type": "code",
   "execution_count": null,
   "metadata": {},
   "outputs": [],
   "source": [
    "new_list = []\n",
    "for i in range(n):\n",
    "  for j in range(n):\n",
    "    new_list.append([apt[i][j], i, j, 0])\n",
    "\n",
    "dx = [1, -1, 0, 0]\n",
    "dy = [0, 0, 1, -1]\n",
    "\n",
    "dq = deque(new_list)\n",
    "apt_list = []\n",
    "\n",
    "while dq:\n",
    "    \n",
    "  a = dq.popleft()\n",
    "  \n",
    "  if a[3] == 4:\n",
    "    break\n",
    "\n",
    "  else:\n",
    "    for i in range(4):\n",
    "      nx = a[1] + dx[i]\n",
    "      ny = a[2] + dy[i]\n",
    "\n",
    "      if nx >= 0 and ny >= 0 and nx < n and ny < n: # 범위 안에 들어와있으면\n",
    "\n",
    "        if apt[nx][ny] == 0: #\n",
    "          apt[nx][ny] = a[0]\n",
    "          dq.append([a[0], nx, ny, a[3] + 1])\n"
   ]
  },
  {
   "cell_type": "code",
   "execution_count": null,
   "metadata": {},
   "outputs": [],
   "source": [
    "dx = [-1, 1, 0, 0]\n",
    "dy = [0, 0, 1, -1]\n",
    "\n",
    "apt_list = []\n",
    "\n",
    "def bfs(x, y):\n",
    "\n",
    "    if q[x][y] == 1:\n",
    "        q[x][y] = 0 # 방문 0\n",
    "        cnt = 1 # 1만나면 카운트 1로 시작\n",
    "\n",
    "        for i in range(4): # 사방향으로 전개\n",
    "            nx = x + dx[i]\n",
    "            ny = y + dy[i]\n",
    "\n",
    "            if nx >= 0 and nx < n and ny >= 0 and ny < n: # 범위 안에\n",
    "                if apt[nx][ny] == 1:\n",
    "                    apt[nx][ny] = 0\n",
    "                    cnt += 1"
   ]
  }
 ],
 "metadata": {
  "kernelspec": {
   "display_name": "Python 3",
   "language": "python",
   "name": "python3"
  },
  "language_info": {
   "codemirror_mode": {
    "name": "ipython",
    "version": 3
   },
   "file_extension": ".py",
   "mimetype": "text/x-python",
   "name": "python",
   "nbconvert_exporter": "python",
   "pygments_lexer": "ipython3",
   "version": "3.10.2 (tags/v3.10.2:a58ebcc, Jan 17 2022, 14:12:15) [MSC v.1929 64 bit (AMD64)]"
  },
  "orig_nbformat": 4,
  "vscode": {
   "interpreter": {
    "hash": "35a709b18549f3821755cf447a624debe2d5757e6152a382261c019f6f81fca7"
   }
  }
 },
 "nbformat": 4,
 "nbformat_minor": 2
}
