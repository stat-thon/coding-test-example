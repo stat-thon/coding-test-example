{
 "cells": [
  {
   "attachments": {},
   "cell_type": "markdown",
   "metadata": {},
   "source": [
    "# DFS - 현수막"
   ]
  },
  {
   "cell_type": "code",
   "execution_count": 1,
   "metadata": {},
   "outputs": [],
   "source": [
    "n, m = map(int, input().split())\n",
    "graph = []\n",
    "for _ in range(n):\n",
    "    graph.append([int(i) for i in input().split()])"
   ]
  },
  {
   "cell_type": "code",
   "execution_count": 2,
   "metadata": {},
   "outputs": [
    {
     "name": "stdout",
     "output_type": "stream",
     "text": [
      "[[0, 0, 0, 0, 0, 0, 0, 0, 0, 0, 0, 0, 0, 0, 0, 0, 0, 0, 0], [0, 0, 0, 1, 0, 0, 0, 1, 0, 0, 0, 1, 0, 1, 1, 1, 1, 1, 0], [0, 0, 1, 0, 1, 0, 0, 1, 1, 0, 0, 1, 0, 0, 0, 1, 0, 0, 0], [0, 1, 0, 0, 0, 1, 0, 1, 0, 1, 0, 1, 0, 0, 0, 1, 0, 0, 0], [0, 1, 1, 1, 1, 1, 0, 1, 0, 1, 0, 1, 0, 0, 0, 1, 0, 0, 0], [0, 1, 0, 0, 0, 1, 0, 1, 0, 0, 1, 1, 0, 0, 0, 1, 0, 0, 0], [0, 1, 0, 0, 0, 1, 0, 1, 0, 0, 0, 1, 0, 0, 0, 1, 0, 0, 0], [0, 0, 0, 0, 0, 0, 0, 0, 0, 0, 0, 0, 0, 0, 0, 0, 0, 0, 0]]\n"
     ]
    }
   ],
   "source": [
    "print(graph)"
   ]
  },
  {
   "cell_type": "code",
   "execution_count": 18,
   "metadata": {},
   "outputs": [
    {
     "name": "stdout",
     "output_type": "stream",
     "text": [
      "3\n"
     ]
    }
   ],
   "source": [
    "dx = [1, 1, 1, -1, -1, -1, 0, 0]\n",
    "dy = [0, 1, -1, 0, 1, -1, 1, -1]\n",
    "\n",
    "visited = [[0] * m for _ in range(n)]\n",
    "\n",
    "def dfs(x, y):\n",
    "\n",
    "    if x < 0 or x >= n or y < 0 or y >= m:\n",
    "        return 0\n",
    "    \n",
    "    if visited[x][y] == 1:\n",
    "        return 0\n",
    "    \n",
    "    visited[x][y] = 1\n",
    "\n",
    "    if graph[x][y] == 1:\n",
    "        \n",
    "        for d in range(8):\n",
    "            nx = x + dx[d]\n",
    "            ny = y + dy[d]\n",
    "            dfs(nx, ny)\n",
    "    \n",
    "        return 1\n",
    "    \n",
    "    return 0\n",
    "\n",
    "cnt = 0\n",
    "for i in range(n):\n",
    "    for j in range(m):\n",
    "        cnt += dfs(i, j)\n",
    "\n",
    "print(cnt)"
   ]
  }
 ],
 "metadata": {
  "kernelspec": {
   "display_name": "base",
   "language": "python",
   "name": "python3"
  },
  "language_info": {
   "codemirror_mode": {
    "name": "ipython",
    "version": 3
   },
   "file_extension": ".py",
   "mimetype": "text/x-python",
   "name": "python",
   "nbconvert_exporter": "python",
   "pygments_lexer": "ipython3",
   "version": "3.9.7 (default, Sep 16 2021, 16:59:28) [MSC v.1916 64 bit (AMD64)]"
  },
  "orig_nbformat": 4,
  "vscode": {
   "interpreter": {
    "hash": "89ac6dd2201b5666063839014919a6a8e5ab411e0482cec326965e3203c35655"
   }
  }
 },
 "nbformat": 4,
 "nbformat_minor": 2
}
