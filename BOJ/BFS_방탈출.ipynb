{
 "cells": [
  {
   "attachments": {},
   "cell_type": "markdown",
   "metadata": {},
   "source": [
    "# BFS - 방탈출"
   ]
  },
  {
   "cell_type": "code",
   "execution_count": 2,
   "metadata": {},
   "outputs": [
    {
     "name": "stdout",
     "output_type": "stream",
     "text": [
      "[[1, 2, 3, 4, 5], [0, 0, 4, 0, 0], [0, 0, 5, 0, 0], [8, 7, 6, 7, 8], [9, 0, 7, 0, 0]]\n"
     ]
    }
   ],
   "source": [
    "n, m = map(int, input().split())\n",
    "graph = []\n",
    "for _ in range(n):\n",
    "    graph.append([int(i) for i in input().split()])\n",
    "\n",
    "print(graph)"
   ]
  },
  {
   "cell_type": "code",
   "execution_count": 3,
   "metadata": {},
   "outputs": [
    {
     "data": {
      "text/plain": [
       "[[0, 0, 0, 0, 0],\n",
       " [0, 0, 0, 0, 0],\n",
       " [0, 0, 0, 0, 0],\n",
       " [0, 0, 0, 0, 0],\n",
       " [0, 0, 0, 0, 0]]"
      ]
     },
     "execution_count": 3,
     "metadata": {},
     "output_type": "execute_result"
    }
   ],
   "source": [
    "visited = [[0] * m for _ in range(n)]\n",
    "visited"
   ]
  },
  {
   "cell_type": "code",
   "execution_count": 46,
   "metadata": {},
   "outputs": [],
   "source": [
    "from collections import deque\n",
    "\n",
    "def bfs(start_x, start_y, end_x, end_y):\n",
    "\n",
    "    visited = [[0] * m for _ in range(n)]\n",
    "    visited[start_x][start_y] = 1\n",
    "    \n",
    "    dq = deque()\n",
    "    dq.append((start_x, start_y, 0))\n",
    "\n",
    "    dx = [1, -1, 0, 0]\n",
    "    dy = [0, 0, 1, -1]\n",
    "\n",
    "    graph_sum = 0\n",
    "\n",
    "    if graph[end_x][end_y] == 0 or graph[start_x][start_y] == 0:\n",
    "        return 0, 0\n",
    "\n",
    "    while dq:\n",
    "        \n",
    "        x, y, cnt = dq.popleft()\n",
    "\n",
    "        if x == end_x and y == end_y:\n",
    "            graph_sum = graph[start_x][start_y] + graph[end_x][end_y]\n",
    "            break\n",
    "\n",
    "        for d in range(4):\n",
    "            nx = x + dx[d]\n",
    "            ny = y + dy[d]\n",
    "\n",
    "            if 0 <= nx < n and 0 <= ny < m:\n",
    "                if visited[nx][ny] == 0:\n",
    "                    if graph[nx][ny] != 0:\n",
    "                        visited[nx][ny] = 1\n",
    "                        dq.append((nx, ny, cnt + 1))\n",
    "        \n",
    "\n",
    "\n",
    "    return cnt, graph_sum"
   ]
  },
  {
   "cell_type": "code",
   "execution_count": 47,
   "metadata": {},
   "outputs": [
    {
     "name": "stdout",
     "output_type": "stream",
     "text": [
      "(8, 10)\n",
      "(8, 14)\n"
     ]
    }
   ],
   "source": [
    "print(bfs(0, 0, 4, 0))\n",
    "print(bfs(0, 4, 4, 0))"
   ]
  },
  {
   "cell_type": "code",
   "execution_count": null,
   "metadata": {},
   "outputs": [],
   "source": [
    "# Easier way 1. using module\n",
    "from itertools import combinations\n",
    "comb_list = []\n",
    "for i in combinations(coor_list, 2):\n",
    "    comb_list.append((i[0][0], i[0][1], i[1][0], i[1][1]))"
   ]
  },
  {
   "cell_type": "code",
   "execution_count": 48,
   "metadata": {},
   "outputs": [
    {
     "name": "stdout",
     "output_type": "stream",
     "text": [
      "1 3 (0, 0, 0, 1)\n",
      "2 4 (0, 0, 0, 2)\n",
      "3 5 (0, 0, 0, 3)\n",
      "4 6 (0, 0, 0, 4)\n",
      "4 6 (0, 0, 2, 2)\n",
      "7 9 (0, 0, 3, 0)\n",
      "7 9 (0, 0, 3, 4)\n",
      "8 10 (0, 0, 4, 0)\n",
      "8 14 (0, 4, 4, 0)\n"
     ]
    }
   ],
   "source": [
    "MAX_dist = 0\n",
    "password = 0\n",
    "for comb in comb_list:\n",
    "    start_x, start_y, end_x, end_y = comb\n",
    "    cnt, graph_sum = bfs(start_x, start_y, end_x, end_y)\n",
    "    if max(cnt, MAX_dist) == cnt:\n",
    "        MAX_dist = max(cnt, MAX_dist)\n",
    "        \n",
    "        password = max(graph_sum, password)\n",
    "        print(MAX_dist, password, comb)\n",
    "\n",
    "#print(MAX_dist, password)      \n",
    "\n"
   ]
  },
  {
   "cell_type": "code",
   "execution_count": 27,
   "metadata": {},
   "outputs": [],
   "source": [
    "# 출발, 도착 모든 경로 구하는 함수는 나중에 짤래\n",
    "def start_end_comb(n, m):\n",
    "    coor_list = [(i, j) for i in range(n) for j in range(m)]\n",
    "    \n",
    "    comb \n",
    "    return comb"
   ]
  },
  {
   "cell_type": "code",
   "execution_count": 70,
   "metadata": {},
   "outputs": [
    {
     "name": "stdout",
     "output_type": "stream",
     "text": [
      "16\n"
     ]
    }
   ],
   "source": [
    "n, m = map(int, input().split())\n",
    "graph = []\n",
    "for _ in range(n):\n",
    "    graph.append([int(i) for i in input().split()])"
   ]
  },
  {
   "cell_type": "code",
   "execution_count": null,
   "metadata": {},
   "outputs": [],
   "source": []
  },
  {
   "cell_type": "code",
   "execution_count": 85,
   "metadata": {},
   "outputs": [
    {
     "name": "stdout",
     "output_type": "stream",
     "text": [
      "7\n"
     ]
    }
   ],
   "source": [
    "from collections import deque\n",
    "from itertools import combinations_with_replacement\n",
    "\n",
    "# 시작점, 끝점 정해주면 최단경로거리와 양쪽 합 구해주는 함수\n",
    "def bfs(start_x, start_y, end_x, end_y):\n",
    "\n",
    "    visited = [[0] * m for _ in range(n)]\n",
    "    visited[start_x][start_y] = 1\n",
    "    \n",
    "    dq = deque()\n",
    "    dq.append((start_x, start_y, 0))\n",
    "\n",
    "    dx = [1, -1, 0, 0]\n",
    "    dy = [0, 0, 1, -1]\n",
    "\n",
    "    graph_sum = 0\n",
    "\n",
    "    # 시작점이나 끝점이 0이면 return인데 0인 좌표를 제외하고 시작해서 이제 필요없어짐\n",
    "    #if graph[end_x][end_y] == 0 or graph[start_x][start_y] == 0:\n",
    "    #    return 0, 0\n",
    "\n",
    "    while dq:\n",
    "        \n",
    "        x, y, cnt = dq.popleft()\n",
    "\n",
    "        # 종료 조건\n",
    "        if x == end_x and y == end_y:\n",
    "            graph_sum = graph[start_x][start_y] + graph[end_x][end_y]\n",
    "            break\n",
    "\n",
    "        for d in range(4):\n",
    "            nx = x + dx[d]\n",
    "            ny = y + dy[d]\n",
    "\n",
    "            if 0 <= nx < n and 0 <= ny < m:\n",
    "                if visited[nx][ny] == 0:\n",
    "                    if graph[nx][ny] != 0:\n",
    "                        visited[nx][ny] = 1\n",
    "                        dq.append((nx, ny, cnt + 1))\n",
    "        \n",
    "    return cnt, graph_sum\n",
    "\n",
    "# 조합 구하기\n",
    "comb_list = []\n",
    "coor_list = [(i, j) for i in range(n) for j in range(m) if graph[i][j] != 0] # 0이 아닌 점들만 경로에 추가하여 조합을 줄이고 시작\n",
    "for comb in combinations_with_replacement(coor_list, 2):\n",
    "    comb_list.append((comb[0][0], comb[0][1], comb[1][0], comb[1][1]))\n",
    "\n",
    "# 전체 시작점, 끝점에 대한 조합 실험\n",
    "MAX_dist = 0\n",
    "password = 0\n",
    "\n",
    "for comb in comb_list:\n",
    "    start_x, start_y, end_x, end_y = comb\n",
    "    cnt, pw = bfs(start_x, start_y, end_x, end_y)\n",
    "\n",
    "    if cnt > MAX_dist:\n",
    "        MAX_dist = max(cnt, MAX_dist)\n",
    "        password = pw\n",
    "\n",
    "    elif cnt == MAX_dist and cnt != 0:\n",
    "        password = max(pw, password)\n",
    "\n",
    "print(password)"
   ]
  },
  {
   "cell_type": "code",
   "execution_count": 79,
   "metadata": {},
   "outputs": [
    {
     "name": "stdout",
     "output_type": "stream",
     "text": [
      "1 11 (0, 2, 0, 3)\n",
      "7 0 (0, 2, 0, 5)\n",
      "7 10 (0, 2, 4, 5)\n",
      "8 0 (0, 3, 0, 5)\n",
      "8 7 (0, 3, 4, 5)\n"
     ]
    }
   ],
   "source": [
    "MAX_dist = 0\n",
    "password = 0\n",
    "\n",
    "for comb in comb_list:\n",
    "    start_x, start_y, end_x, end_y = comb\n",
    "    cnt, pw = bfs(start_x, start_y, end_x, end_y)\n",
    "\n",
    "    if cnt > MAX_dist:\n",
    "        MAX_dist = max(cnt, MAX_dist)\n",
    "        password = pw\n",
    "        print(MAX_dist, password, (start_x, start_y, end_x, end_y))\n",
    "    elif cnt == MAX_dist and cnt != 0:\n",
    "        password = max(pw, password)\n",
    "        print(MAX_dist, password, (start_x, start_y, end_x, end_y))"
   ]
  }
 ],
 "metadata": {
  "kernelspec": {
   "display_name": "base",
   "language": "python",
   "name": "python3"
  },
  "language_info": {
   "codemirror_mode": {
    "name": "ipython",
    "version": 3
   },
   "file_extension": ".py",
   "mimetype": "text/x-python",
   "name": "python",
   "nbconvert_exporter": "python",
   "pygments_lexer": "ipython3",
   "version": "3.9.7"
  },
  "orig_nbformat": 4,
  "vscode": {
   "interpreter": {
    "hash": "89ac6dd2201b5666063839014919a6a8e5ab411e0482cec326965e3203c35655"
   }
  }
 },
 "nbformat": 4,
 "nbformat_minor": 2
}
