{
 "cells": [
  {
   "attachments": {},
   "cell_type": "markdown",
   "metadata": {},
   "source": [
    "# Greedy - 잃어버린 괄호"
   ]
  },
  {
   "cell_type": "code",
   "execution_count": 84,
   "metadata": {},
   "outputs": [
    {
     "name": "stdout",
     "output_type": "stream",
     "text": [
      "100\n"
     ]
    }
   ],
   "source": [
    "# 정답\n",
    "eq = input()\n",
    "\n",
    "temp = ''\n",
    "eq_list = []\n",
    "\n",
    "for i in eq:\n",
    "    if i.isnumeric():\n",
    "        temp += i\n",
    "    else:\n",
    "        while temp.startswith('0'):\n",
    "            temp = temp[1:]\n",
    "        eq_list.append(temp)\n",
    "        eq_list.append(i)\n",
    "        temp = ''\n",
    "while temp.startswith('0'):\n",
    "    temp = temp[1:]\n",
    "eq_list.append(temp)\n",
    "\n",
    "if '-' in eq_list: print(eval(''.join(['-' if i > eq_list.index('-') and s == '+' else s for i, s in enumerate(eq_list)])))\n",
    "else: print(eval(''.join(eq_list)))\n"
   ]
  }
 ],
 "metadata": {
  "kernelspec": {
   "display_name": "Python 3",
   "language": "python",
   "name": "python3"
  },
  "language_info": {
   "codemirror_mode": {
    "name": "ipython",
    "version": 3
   },
   "file_extension": ".py",
   "mimetype": "text/x-python",
   "name": "python",
   "nbconvert_exporter": "python",
   "pygments_lexer": "ipython3",
   "version": "3.10.2"
  },
  "orig_nbformat": 4,
  "vscode": {
   "interpreter": {
    "hash": "35a709b18549f3821755cf447a624debe2d5757e6152a382261c019f6f81fca7"
   }
  }
 },
 "nbformat": 4,
 "nbformat_minor": 2
}
