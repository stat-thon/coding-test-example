{
 "cells": [
  {
   "cell_type": "markdown",
   "metadata": {},
   "source": [
    "# DFS - 헌내기는 친구가 필요해"
   ]
  },
  {
   "cell_type": "code",
   "execution_count": 1,
   "metadata": {},
   "outputs": [
    {
     "name": "stdout",
     "output_type": "stream",
     "text": [
      "3 5\n",
      "[['O', 'O', 'O', 'P', 'O'], ['O', 'I', 'O', 'O', 'X'], ['O', 'O', 'O', 'X', 'P']]\n",
      "1 1\n"
     ]
    }
   ],
   "source": [
    "n, m = list(map(int, input().split()))\n",
    "campus = []\n",
    "for _ in range(n):\n",
    "    temp = str(input())\n",
    "    c = [s for s in temp]\n",
    "    campus.append(c)\n",
    "\n",
    "start_x, start_y = [(i, j) for i in range(m) for j in range(n) if campus[j][i] == 'I'][0]\n",
    "\n",
    "print(n, m)\n",
    "print(campus)\n",
    "print(start_x, start_y)"
   ]
  },
  {
   "cell_type": "code",
   "execution_count": 10,
   "metadata": {},
   "outputs": [
    {
     "name": "stdout",
     "output_type": "stream",
     "text": [
      "[[0, 0, 0, 0, 0], [0, 0, 0, 0, 0], [0, 0, 0, 0, 0]]\n",
      "[[0, 0, 0, 0, 0], [0, 0, 0, 0, 0], [0, 0, 0, 0, 0]]\n"
     ]
    }
   ],
   "source": [
    "visit_str = ['I', 'P', 'O']\n",
    "visited = [[0] * m for _ in range(n)]\n",
    "cnt_list = [[0] * m for _ in range(n)]\n",
    "print(visited)\n",
    "print(cnt_list)"
   ]
  },
  {
   "cell_type": "code",
   "execution_count": 11,
   "metadata": {},
   "outputs": [],
   "source": [
    "cnt = 0\n",
    "def dfs(x, y):\n",
    "\n",
    "    global cnt\n",
    "\n",
    "    if x <= -1 or x >= n or y <= -1 or y >= m or campus[x][y] == 'X': # n x m 범위를 벗어나거나 벽을 만나면 즉시 종료\n",
    "        return False\n",
    "    \n",
    "    if visited[x][y] == 0:\n",
    "        if campus[x][y] in visit_str:\n",
    "            visited[x][y] = 1 # 방문처리\n",
    "            if campus[x][y] == 'P':\n",
    "                cnt += 1\n",
    "\n",
    "            # 후 퍼져나감\n",
    "            dfs(x - 1, y)\n",
    "            dfs(x + 1, y)\n",
    "            dfs(x, y + 1)\n",
    "            dfs(x, y - 1)\n",
    "            \n",
    "        return True\n",
    "\n",
    "    return False"
   ]
  },
  {
   "cell_type": "code",
   "execution_count": 31,
   "metadata": {},
   "outputs": [
    {
     "name": "stdout",
     "output_type": "stream",
     "text": [
      "1\n"
     ]
    }
   ],
   "source": [
    "### 최종\n",
    "import sys\n",
    "sys.setrecursionlimit(10**6) # 재귀 깊이를 늘려서 해결하기..\n",
    "\n",
    "n, m = list(map(int, input().split()))\n",
    "\n",
    "campus = []\n",
    "for _ in range(n):\n",
    "    temp = str(input())\n",
    "    c = [s for s in temp]\n",
    "    campus.append(c)\n",
    "\n",
    "start_x, start_y = [(i, j) for i in range(n) for j in range(m) if campus[i][j] == 'I'][0]\n",
    "\n",
    "visit_str = ['I', 'P', 'O']\n",
    "visited = [[0] * m for _ in range(n)]\n",
    "\n",
    "cnt = 0\n",
    "\n",
    "def dfs(x, y):\n",
    "\n",
    "    global cnt\n",
    "\n",
    "    if x <= -1 or x >= n or y <= -1 or y >= m: # n x m 범위를 벗어나거나 벽을 만나면 즉시 종료\n",
    "        return False\n",
    "\n",
    "    if campus[x][y] == 'X':\n",
    "        return False\n",
    "\n",
    "    if visited[x][y] == 0:\n",
    "        if campus[x][y] in visit_str:\n",
    "            visited[x][y] = 1 # 방문처리\n",
    "            if campus[x][y] == 'P':\n",
    "                cnt += 1\n",
    "\n",
    "            # 후 퍼져나감\n",
    "            dfs(x - 1, y)\n",
    "            dfs(x + 1, y)\n",
    "            dfs(x, y + 1)\n",
    "            dfs(x, y - 1)\n",
    "            \n",
    "        return True\n",
    "\n",
    "    return False\n",
    "\n",
    "dfs(start_x, start_y)\n",
    "print([cnt if cnt != 0 else 'TT'][0])"
   ]
  },
  {
   "cell_type": "code",
   "execution_count": 32,
   "metadata": {},
   "outputs": [
    {
     "name": "stdout",
     "output_type": "stream",
     "text": [
      "[['O', 'O', 'X', 'O', 'O'], ['P', 'O', 'X', 'I', 'O'], ['X', 'X', 'X', 'O', 'P'], ['O', 'P', 'P', 'X', 'X']]\n"
     ]
    }
   ],
   "source": [
    "print(campus)"
   ]
  }
 ],
 "metadata": {
  "kernelspec": {
   "display_name": "base",
   "language": "python",
   "name": "python3"
  },
  "language_info": {
   "codemirror_mode": {
    "name": "ipython",
    "version": 3
   },
   "file_extension": ".py",
   "mimetype": "text/x-python",
   "name": "python",
   "nbconvert_exporter": "python",
   "pygments_lexer": "ipython3",
   "version": "3.9.7 (default, Sep 16 2021, 16:59:28) [MSC v.1916 64 bit (AMD64)]"
  },
  "orig_nbformat": 4,
  "vscode": {
   "interpreter": {
    "hash": "89ac6dd2201b5666063839014919a6a8e5ab411e0482cec326965e3203c35655"
   }
  }
 },
 "nbformat": 4,
 "nbformat_minor": 2
}
