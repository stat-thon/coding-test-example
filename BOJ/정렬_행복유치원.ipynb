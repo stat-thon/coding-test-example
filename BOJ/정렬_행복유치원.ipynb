{
 "cells": [
  {
   "cell_type": "markdown",
   "metadata": {},
   "source": [
    "# 백준 온라인 저지 - 행복유치원"
   ]
  },
  {
   "cell_type": "code",
   "execution_count": 22,
   "metadata": {},
   "outputs": [],
   "source": [
    "N, K = list(map(int, input().split()))\n",
    "height = list(map(int, input().split()))"
   ]
  },
  {
   "cell_type": "code",
   "execution_count": 18,
   "metadata": {},
   "outputs": [
    {
     "name": "stdout",
     "output_type": "stream",
     "text": [
      "5 2\n",
      "[1, 3, 5, 6, 10]\n"
     ]
    }
   ],
   "source": [
    "print(N, K)\n",
    "print(height)"
   ]
  },
  {
   "cell_type": "code",
   "execution_count": 23,
   "metadata": {},
   "outputs": [
    {
     "name": "stdout",
     "output_type": "stream",
     "text": [
      "()\n"
     ]
    }
   ],
   "source": [
    "for ind in combinations([i for i in range(1, N)], K - 1):\n",
    "    print(ind)"
   ]
  },
  {
   "cell_type": "code",
   "execution_count": 31,
   "metadata": {},
   "outputs": [
    {
     "name": "stdout",
     "output_type": "stream",
     "text": [
      "9\n"
     ]
    }
   ],
   "source": [
    "N, K = list(map(int, input().split()))\n",
    "height = list(map(int, input().split()))\n",
    "\n",
    "def solution(N, K, height):\n",
    "    from itertools import combinations\n",
    "    \n",
    "    if K == 1:\n",
    "        return max(height) - min(height)   \n",
    "    \n",
    "    else:\n",
    "        cost = 10e9\n",
    "        for ind in combinations([i for i in range(1, N)], K - 1):\n",
    "            team = []\n",
    "            team.append(height[:ind[0]])\n",
    "\n",
    "            for k in range(len(ind)):\n",
    "                if k == len(ind) - 1:\n",
    "                    team.append(height[ind[k]:])\n",
    "                else:\n",
    "                    team.append(height[ind[k]:ind[k + 1]])\n",
    "\n",
    "            price = 0\n",
    "\n",
    "            for t in team:\n",
    "                if len(t) != 1:\n",
    "                    price += max(t) - min(t)\n",
    "            cost = min(cost, price)\n",
    "\n",
    "    return cost\n",
    "\n",
    "print(solution(N, K, height))"
   ]
  }
 ],
 "metadata": {
  "kernelspec": {
   "display_name": "Python 3.10.2 64-bit",
   "language": "python",
   "name": "python3"
  },
  "language_info": {
   "codemirror_mode": {
    "name": "ipython",
    "version": 3
   },
   "file_extension": ".py",
   "mimetype": "text/x-python",
   "name": "python",
   "nbconvert_exporter": "python",
   "pygments_lexer": "ipython3",
   "version": "3.10.2"
  },
  "orig_nbformat": 4,
  "vscode": {
   "interpreter": {
    "hash": "35a709b18549f3821755cf447a624debe2d5757e6152a382261c019f6f81fca7"
   }
  }
 },
 "nbformat": 4,
 "nbformat_minor": 2
}
