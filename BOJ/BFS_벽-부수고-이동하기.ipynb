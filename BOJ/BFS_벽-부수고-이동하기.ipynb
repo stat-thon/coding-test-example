{
 "cells": [
  {
   "attachments": {},
   "cell_type": "markdown",
   "metadata": {},
   "source": [
    "# BFS - 벽 부수고 이동하기\n",
    "https://www.acmicpc.net/problem/2206"
   ]
  },
  {
   "cell_type": "code",
   "execution_count": 1,
   "metadata": {},
   "outputs": [
    {
     "name": "stdout",
     "output_type": "stream",
     "text": [
      "6 4\n",
      "[[0, 1, 0, 0], [1, 1, 1, 0], [1, 0, 0, 0], [0, 0, 0, 0], [0, 1, 1, 1], [0, 0, 0, 0]]\n"
     ]
    }
   ],
   "source": [
    "n, m = list(map(int, input().split()))\n",
    "\n",
    "graph = []\n",
    "for i in range(n):\n",
    "    a = input()\n",
    "    b = [int(i) for i in a]\n",
    "    graph.append(b)\n",
    "\n",
    "print(n, m)\n",
    "print(graph)"
   ]
  },
  {
   "attachments": {},
   "cell_type": "markdown",
   "metadata": {},
   "source": [
    "# make bfs"
   ]
  },
  {
   "attachments": {},
   "cell_type": "markdown",
   "metadata": {},
   "source": [
    "# 지금까지 BFS는 잘 구현했는데\n",
    "# 벽 뚫는 거를 이상하게 구현하고 있었음"
   ]
  },
  {
   "cell_type": "code",
   "execution_count": 80,
   "metadata": {},
   "outputs": [
    {
     "name": "stdout",
     "output_type": "stream",
     "text": [
      "-1\n"
     ]
    }
   ],
   "source": [
    "n, m = list(map(int, input().split()))\n",
    "\n",
    "graph = []\n",
    "for i in range(n):\n",
    "    a = input()\n",
    "    b = [int(i) for i in a]\n",
    "    graph.append(b)\n",
    "\n",
    "from collections import deque\n",
    "import copy\n",
    "\n",
    "dx = [1, -1, 0, 0]\n",
    "dy = [0, 0, 1, -1]\n",
    "\n",
    "MIN = 1e6\n",
    "\n",
    "for i in range(n):\n",
    "    for j in range(m):\n",
    "        graph_copy = copy.deepcopy(graph)\n",
    "        if graph[i][j] != 1:\n",
    "            pass\n",
    "        else: # 벽 하나 뚫고 BFS 시작\n",
    "            graph_copy[i][j] = 0 # 벽 뚫기        \n",
    "\n",
    "        dq = deque()\n",
    "        dq.append((0, 0, 0))  # 시작 노드 append\n",
    "\n",
    "        while dq:\n",
    "            x, y, cnt = dq.popleft() # 큐에 저장된 맨 첫 노드 꺼내고\n",
    "            graph_copy[x][y] = 1 # 해당 노드 방문 표시\n",
    "            cnt += 1 # 방문했으니 거리 1 추가\n",
    "\n",
    "            if x == n - 1 and y == m - 1:\n",
    "                MIN = min(MIN, cnt)\n",
    "                break\n",
    "\n",
    "            if cnt > MIN:\n",
    "                break\n",
    "\n",
    "            for d in range(4):\n",
    "                nx = x + dx[d]\n",
    "                ny = y + dy[d]\n",
    "                if 0 <= nx < n and 0 <= ny < m:\n",
    "                    if graph_copy[nx][ny] == 0:\n",
    "                        dq.append((nx, ny, cnt))\n",
    "\n",
    "print([MIN if MIN != 1e6 else -1][0])\n"
   ]
  },
  {
   "cell_type": "code",
   "execution_count": 83,
   "metadata": {},
   "outputs": [
    {
     "name": "stdout",
     "output_type": "stream",
     "text": [
      "-1\n"
     ]
    }
   ],
   "source": [
    "n, m = map(int, input().split())\n",
    "\n",
    "graph = []\n",
    "for i in range(n):\n",
    "    graph.append(list(map(int, input())))\n",
    "\n",
    "from collections import deque\n",
    "import copy\n",
    "\n",
    "dx = [1, -1, 0, 0]\n",
    "dy = [0, 0, 1, -1]\n",
    "\n",
    "MIN = 1e6\n",
    "\n",
    "graph_copy = copy.deepcopy(graph)       \n",
    "\n",
    "dq = deque()\n",
    "dq.append((0, 0, 0))  # 시작 노드 append\n",
    "\n",
    "while dq:\n",
    "    x, y, cnt = dq.popleft() # 큐에 저장된 맨 첫 노드 꺼내고\n",
    "    graph_copy[x][y] = 1 # 해당 노드 방문 표시\n",
    "    cnt += 1 # 방문했으니 거리 1 추가\n",
    "\n",
    "    if x == n - 1 and y == m - 1:\n",
    "        MIN = min(MIN, cnt)\n",
    "        break\n",
    "\n",
    "    for d in range(4):\n",
    "        nx = x + dx[d]\n",
    "        ny = y + dy[d]\n",
    "        if nx < 0 or nx >= n or ny < 0 or ny >= m:\n",
    "            continue\n",
    "\n",
    "        if graph_copy[nx][ny] == 0:\n",
    "            dq.append((nx, ny, cnt))\n",
    "\n",
    "print([MIN if MIN != 1e6 else -1][0])"
   ]
  },
  {
   "cell_type": "code",
   "execution_count": 91,
   "metadata": {},
   "outputs": [
    {
     "name": "stdout",
     "output_type": "stream",
     "text": [
      "0 0 0 1\n",
      "0 1 1 2\n",
      "1 0 1 2\n",
      "0 2 1 3\n",
      "0 0 1 3\n",
      "0 3 1 4\n",
      "1 3 1 5\n",
      "2 3 1 6\n",
      "2 2 1 7\n",
      "3 3 1 7\n",
      "2 1 1 8\n",
      "3 2 1 8\n",
      "3 1 1 9\n",
      "3 0 1 10\n",
      "4 0 1 11\n",
      "5 0 1 12\n",
      "5 1 1 13\n",
      "5 2 1 14\n",
      "5 3 1 15\n",
      "15\n"
     ]
    }
   ],
   "source": [
    "from collections import deque\n",
    "\n",
    "n, m = map(int, input().split())\n",
    "graph = []\n",
    "\n",
    "# 3차원 행렬을 통해 벽의 파괴를 파악함. visited[x][y][0]은 뚫린 벽. [x][y][1]은 막힌 벽.\n",
    "visited = [[[0] * 2 for _ in range(m)] for _ in range(n)]\n",
    "visited[0][0][0] = 1\n",
    "\n",
    "for i in range(n):\n",
    "    graph.append(list(map(int, input())))\n",
    "\n",
    "dx = [0, 0, 1, -1]\n",
    "dy = [1, -1, 0, 0]\n",
    "\n",
    "\n",
    "def bfs(x, y, z): # 세번째 축 z의 용도는? 벽 하나 부수냐 마냐를 체크하고자 하는 듯. 최대 하나의 벽까지 부술 수 있으니..?\n",
    "\n",
    "    queue = deque()\n",
    "    queue.append((x, y, z))\n",
    "\n",
    "    while queue:\n",
    "\n",
    "        a, b, c = queue.popleft()\n",
    "\n",
    "        print(a, b, c, visited[a][b][c])\n",
    "        if a == n - 1 and b == m - 1:\n",
    "            return visited[a][b][c]\n",
    "\n",
    "        for i in range(4):\n",
    "            nx = a + dx[i]\n",
    "            ny = b + dy[i]\n",
    "\n",
    "            if nx < 0 or nx >= n or ny < 0 or ny >= m:\n",
    "                continue\n",
    "\n",
    "            # 움직일 칸이 막힌 벽이고, 현재는 뚫린 벽이면\n",
    "            if graph[nx][ny] == 1 and c == 0:\n",
    "\n",
    "                # 파괴 가능한 벽 차원에다가 거리로써 + 1\n",
    "                visited[nx][ny][1] = visited[a][b][0] + 1\n",
    "\n",
    "                # 큐에는 움직일 좌표 + z == 1 막힌 벽\n",
    "                queue.append((nx, ny, 1)) # 움직일 칸은 막힌 벽이다.\n",
    "            \n",
    "            # 남은 경우의 수 \n",
    "            # 1. 움직일 칸이 막힌 벽, 현재 막힌 벽 -> pass\n",
    "            # 2. 움직일 칸이 뚫린 벽, 현재 막힌 벽\n",
    "            # 3. 움직일 칸이 뚫린 벽, 현재 뚫린 벽\n",
    "\n",
    "            # 움직일 칸이 뚫린 벽이고 -> 경우의 수 2, 3\n",
    "            # visited 한 적 없으면\n",
    "            elif graph[nx][ny] == 0 and visited[nx][ny][c] == 0:\n",
    "\n",
    "                # 움직일 칸의 현재 벽 상태에 현재 칸까지 저장된 거리 + 1을 저장\n",
    "                visited[nx][ny][c] = visited[a][b][c] + 1\n",
    "\n",
    "                # 큐에는 움직일 좌표 + 벽 상태 저장\n",
    "                queue.append((nx, ny, c))\n",
    "\n",
    "    return -1\n",
    "\n",
    "\n",
    "print(bfs(0, 0, 0))"
   ]
  }
 ],
 "metadata": {
  "kernelspec": {
   "display_name": "thon",
   "language": "python",
   "name": "python3"
  },
  "language_info": {
   "codemirror_mode": {
    "name": "ipython",
    "version": 3
   },
   "file_extension": ".py",
   "mimetype": "text/x-python",
   "name": "python",
   "nbconvert_exporter": "python",
   "pygments_lexer": "ipython3",
   "version": "3.9.7"
  },
  "orig_nbformat": 4,
  "vscode": {
   "interpreter": {
    "hash": "89cb95ee471a72c90a878f14dbcd88c4ad69ee34e5816dc3d66b908a3a884555"
   }
  }
 },
 "nbformat": 4,
 "nbformat_minor": 2
}
