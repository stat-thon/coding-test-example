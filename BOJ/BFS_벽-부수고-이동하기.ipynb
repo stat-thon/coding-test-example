{
 "cells": [
  {
   "attachments": {},
   "cell_type": "markdown",
   "metadata": {},
   "source": [
    "# BFS - 벽 부수고 이동하기\n",
    "https://www.acmicpc.net/problem/2206"
   ]
  },
  {
   "cell_type": "code",
   "execution_count": 1,
   "metadata": {},
   "outputs": [
    {
     "name": "stdout",
     "output_type": "stream",
     "text": [
      "6 4\n",
      "[[0, 1, 0, 0], [1, 1, 1, 0], [1, 0, 0, 0], [0, 0, 0, 0], [0, 1, 1, 1], [0, 0, 0, 0]]\n"
     ]
    }
   ],
   "source": [
    "n, m = list(map(int, input().split()))\n",
    "\n",
    "graph = []\n",
    "for i in range(n):\n",
    "    a = input()\n",
    "    b = [int(i) for i in a]\n",
    "    graph.append(b)\n",
    "\n",
    "print(n, m)\n",
    "print(graph)"
   ]
  },
  {
   "cell_type": "code",
   "execution_count": 2,
   "metadata": {},
   "outputs": [
    {
     "data": {
      "text/plain": [
       "[[0, 1, 0, 0],\n",
       " [1, 1, 1, 0],\n",
       " [1, 0, 0, 0],\n",
       " [0, 0, 0, 0],\n",
       " [0, 1, 1, 1],\n",
       " [0, 0, 0, 0]]"
      ]
     },
     "execution_count": 2,
     "metadata": {},
     "output_type": "execute_result"
    }
   ],
   "source": [
    "import copy\n",
    "mem_graph = copy.deepcopy(graph)\n",
    "mem_graph"
   ]
  },
  {
   "cell_type": "code",
   "execution_count": 67,
   "metadata": {},
   "outputs": [
    {
     "data": {
      "text/plain": [
       "[[0, 1, 0, 0],\n",
       " [1, 1, 1, 0],\n",
       " [1, 0, 0, 0],\n",
       " [0, 0, 0, 0],\n",
       " [0, 1, 1, 1],\n",
       " [0, 0, 0, 0]]"
      ]
     },
     "execution_count": 67,
     "metadata": {},
     "output_type": "execute_result"
    }
   ],
   "source": [
    "# graph 변경되면 그때 쓸 것\n",
    "graph = copy.deepcopy(mem_graph)\n",
    "graph"
   ]
  },
  {
   "attachments": {},
   "cell_type": "markdown",
   "metadata": {},
   "source": [
    "# make bfs"
   ]
  },
  {
   "attachments": {},
   "cell_type": "markdown",
   "metadata": {},
   "source": [
    "# 지금까지 BFS는 잘 구현했는데\n",
    "# 벽 뚫는 거를 이상하게 구현하고 있었음"
   ]
  },
  {
   "cell_type": "code",
   "execution_count": 80,
   "metadata": {},
   "outputs": [
    {
     "name": "stdout",
     "output_type": "stream",
     "text": [
      "-1\n"
     ]
    }
   ],
   "source": [
    "n, m = list(map(int, input().split()))\n",
    "\n",
    "graph = []\n",
    "for i in range(n):\n",
    "    a = input()\n",
    "    b = [int(i) for i in a]\n",
    "    graph.append(b)\n",
    "\n",
    "from collections import deque\n",
    "\n",
    "dx = [1, -1, 0, 0]\n",
    "dy = [0, 0, 1, -1]\n",
    "\n",
    "MIN = 1e6\n",
    "\n",
    "for i in range(n):\n",
    "    for j in range(m):\n",
    "        graph_copy = copy.deepcopy(graph)\n",
    "        \n",
    "        if graph[i][j] == 1: # 벽 하나 뚫고 BFS 시작\n",
    "            graph_copy[i][j] = 0 # 벽 뚫기        \n",
    "\n",
    "        dq = deque()\n",
    "        dq.append((0, 0, 0))  # 시작 노드 append\n",
    "\n",
    "        while dq:\n",
    "            x, y, cnt = dq.popleft() # 큐에 저장된 맨 첫 노드 꺼내고\n",
    "            graph_copy[x][y] = 1 # 해당 노드 방문 표시\n",
    "            cnt += 1 # 방문했으니 거리 1 추가\n",
    "\n",
    "            if x == n - 1 and y == m - 1:\n",
    "                MIN = min(MIN, cnt)\n",
    "                break\n",
    "\n",
    "            for d in range(4):\n",
    "                nx = x + dx[d]\n",
    "                ny = y + dy[d]\n",
    "                if 0 <= nx < n and 0 <= ny < m:\n",
    "                    if graph_copy[nx][ny] == 0:\n",
    "                        dq.append((nx, ny, cnt))\n",
    "\n",
    "print([MIN if MIN != 1e6 else -1][0])\n"
   ]
  }
 ],
 "metadata": {
  "kernelspec": {
   "display_name": "thon",
   "language": "python",
   "name": "python3"
  },
  "language_info": {
   "codemirror_mode": {
    "name": "ipython",
    "version": 3
   },
   "file_extension": ".py",
   "mimetype": "text/x-python",
   "name": "python",
   "nbconvert_exporter": "python",
   "pygments_lexer": "ipython3",
   "version": "3.9.7"
  },
  "orig_nbformat": 4,
  "vscode": {
   "interpreter": {
    "hash": "89cb95ee471a72c90a878f14dbcd88c4ad69ee34e5816dc3d66b908a3a884555"
   }
  }
 },
 "nbformat": 4,
 "nbformat_minor": 2
}
