{
 "cells": [
  {
   "attachments": {},
   "cell_type": "markdown",
   "metadata": {},
   "source": [
    "# BFS - 벽 부수고 이동하기"
   ]
  },
  {
   "cell_type": "code",
   "execution_count": 1,
   "metadata": {},
   "outputs": [
    {
     "name": "stdout",
     "output_type": "stream",
     "text": [
      "6 4\n",
      "[[0, 1, 0, 0], [1, 1, 1, 0], [1, 0, 0, 0], [0, 0, 0, 0], [0, 1, 1, 1], [0, 0, 0, 0]]\n"
     ]
    }
   ],
   "source": [
    "n, m = list(map(int, input().split()))\n",
    "\n",
    "graph = []\n",
    "for i in range(n):\n",
    "    a = input()\n",
    "    b = [int(i) for i in a]\n",
    "    graph.append(b)\n",
    "\n",
    "print(n, m)\n",
    "print(graph)"
   ]
  },
  {
   "cell_type": "code",
   "execution_count": 2,
   "metadata": {},
   "outputs": [
    {
     "data": {
      "text/plain": [
       "[[0, 1, 0, 0],\n",
       " [1, 1, 1, 0],\n",
       " [1, 0, 0, 0],\n",
       " [0, 0, 0, 0],\n",
       " [0, 1, 1, 1],\n",
       " [0, 0, 0, 0]]"
      ]
     },
     "execution_count": 2,
     "metadata": {},
     "output_type": "execute_result"
    }
   ],
   "source": [
    "import copy\n",
    "mem_graph = copy.deepcopy(graph)\n",
    "mem_graph"
   ]
  },
  {
   "cell_type": "code",
   "execution_count": 3,
   "metadata": {},
   "outputs": [
    {
     "data": {
      "text/plain": [
       "[[0, 1, 0, 0],\n",
       " [1, 1, 1, 0],\n",
       " [1, 0, 0, 0],\n",
       " [0, 0, 0, 0],\n",
       " [0, 1, 1, 1],\n",
       " [0, 0, 0, 0]]"
      ]
     },
     "execution_count": 3,
     "metadata": {},
     "output_type": "execute_result"
    }
   ],
   "source": [
    "# graph 변경되면 그때 쓸 것\n",
    "graph = copy.deepcopy(mem_graph)\n",
    "graph"
   ]
  },
  {
   "attachments": {},
   "cell_type": "markdown",
   "metadata": {},
   "source": [
    "# make bfs"
   ]
  },
  {
   "cell_type": "code",
   "execution_count": 16,
   "metadata": {},
   "outputs": [
    {
     "name": "stdout",
     "output_type": "stream",
     "text": [
      "1000000000.0\n"
     ]
    }
   ],
   "source": [
    "from collections import deque\n",
    "q_graph = []\n",
    "for i in range(n):\n",
    "    for j in range(m):\n",
    "        q_graph.append((graph[i][j], i, j, 0))\n",
    "\n",
    "dq = deque(q_graph)\n",
    "\n",
    "dx = [1, -1, 0, 0]\n",
    "dy = [0, 0, 1, -1]\n",
    "\n",
    "\n",
    "global_MIN = 1e9\n",
    "for i in range(n):\n",
    "    for j in range(m):\n",
    "        MIN = 1e9\n",
    "        if graph[i][j] == 1:\n",
    "            graph[i][j] = 0\n",
    "\n",
    "            while dq:\n",
    "\n",
    "                block, x, y, distance = dq.popleft()\n",
    "\n",
    "                if x == n and y == m:\n",
    "                    if distance != 0:\n",
    "                        MIN = min(MIN, distance)\n",
    "                    break\n",
    "\n",
    "                else:\n",
    "                    for i in range(4):\n",
    "                        nx = x + dx[i]\n",
    "                        ny = y + dy[i]\n",
    "\n",
    "                        if 0 <= nx < n and 0 <= ny < m:\n",
    "                            if graph[nx][ny] == 0:\n",
    "                                graph[nx][ny] = 1\n",
    "                                dq.append((1, x, y, distance + 1))\n",
    "        global_MIN = min(MIN, global_MIN)\n",
    "\n",
    "print(global_MIN)\n",
    "\n"
   ]
  },
  {
   "cell_type": "code",
   "execution_count": 17,
   "metadata": {},
   "outputs": [
    {
     "name": "stdout",
     "output_type": "stream",
     "text": [
      "4 3\n"
     ]
    }
   ],
   "source": [
    "print(x, y)"
   ]
  }
 ],
 "metadata": {
  "kernelspec": {
   "display_name": "thon",
   "language": "python",
   "name": "python3"
  },
  "language_info": {
   "codemirror_mode": {
    "name": "ipython",
    "version": 3
   },
   "file_extension": ".py",
   "mimetype": "text/x-python",
   "name": "python",
   "nbconvert_exporter": "python",
   "pygments_lexer": "ipython3",
   "version": "3.9.7"
  },
  "orig_nbformat": 4,
  "vscode": {
   "interpreter": {
    "hash": "89cb95ee471a72c90a878f14dbcd88c4ad69ee34e5816dc3d66b908a3a884555"
   }
  }
 },
 "nbformat": 4,
 "nbformat_minor": 2
}
