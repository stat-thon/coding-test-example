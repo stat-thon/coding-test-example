{
 "cells": [
  {
   "attachments": {},
   "cell_type": "markdown",
   "metadata": {},
   "source": [
    "# DFS - 바닥 장식"
   ]
  },
  {
   "cell_type": "code",
   "execution_count": 1,
   "metadata": {},
   "outputs": [
    {
     "name": "stdout",
     "output_type": "stream",
     "text": [
      "4\n"
     ]
    }
   ],
   "source": [
    "n, m = map(int, input().split())\n",
    "graph = []\n",
    "for _ in range(n):\n",
    "    graph.append([i for i in input()])\n",
    "\n",
    "def dfs1(x, y):\n",
    "\n",
    "    if y < 0 or y >= m:\n",
    "        return\n",
    "\n",
    "    if graph[x][y] == '|':\n",
    "        return\n",
    "\n",
    "    if visited[x][y] == 0:\n",
    "        if graph[x][y] == '-':\n",
    "            visited[x][y] = 1\n",
    "\n",
    "            dfs1(x, y - 1)\n",
    "            dfs1(x, y + 1)\n",
    "\n",
    "        return \n",
    "    \n",
    "    return\n",
    "\n",
    "def dfs2(x, y):\n",
    "\n",
    "    if x < 0 or x >= n:\n",
    "        return\n",
    "\n",
    "    if graph[x][y] == '-':\n",
    "        return\n",
    "\n",
    "    if visited[x][y] == 0:\n",
    "        if graph[x][y] == '|':\n",
    "            visited[x][y] = 1\n",
    "\n",
    "            dfs2(x - 1, y)\n",
    "            dfs2(x + 1, y)\n",
    "\n",
    "        return \n",
    "    \n",
    "    return\n",
    "\n",
    "\n",
    "visited = [[0] * m for _ in range(n)]\n",
    "cnt = 0\n",
    "\n",
    "for i in range(n):\n",
    "    for j in range(m):\n",
    "        if visited[i][j] == 0:\n",
    "            cnt += 1            \n",
    "            if graph[i][j] == '-':\n",
    "                dfs1(i, j)\n",
    "            else:\n",
    "                dfs2(i, j)\n",
    "print(cnt)"
   ]
  }
 ],
 "metadata": {
  "kernelspec": {
   "display_name": "base",
   "language": "python",
   "name": "python3"
  },
  "language_info": {
   "codemirror_mode": {
    "name": "ipython",
    "version": 3
   },
   "file_extension": ".py",
   "mimetype": "text/x-python",
   "name": "python",
   "nbconvert_exporter": "python",
   "pygments_lexer": "ipython3",
   "version": "3.9.7"
  },
  "orig_nbformat": 4,
  "vscode": {
   "interpreter": {
    "hash": "89ac6dd2201b5666063839014919a6a8e5ab411e0482cec326965e3203c35655"
   }
  }
 },
 "nbformat": 4,
 "nbformat_minor": 2
}
