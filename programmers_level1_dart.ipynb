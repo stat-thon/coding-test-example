{
 "cells": [
  {
   "cell_type": "markdown",
   "metadata": {},
   "source": [
    "# 프로그래머스 - 다트 게임"
   ]
  },
  {
   "cell_type": "code",
   "execution_count": 91,
   "metadata": {},
   "outputs": [],
   "source": [
    "# 구현문제인듯\n",
    "\n",
    "dartResult_list = ['1S2D*3T', '1D2S#10S', '1D2S0T', '1S*2T*3S', '1D#2S*3S', '1T2D3D#', '1D2S3T*']\n",
    "dartResult = dartResult_list[5]\n",
    "if '10' in dartResult: dartResult = dartResult.replace('10', 't')"
   ]
  },
  {
   "cell_type": "code",
   "execution_count": 92,
   "metadata": {},
   "outputs": [
    {
     "ename": "ValueError",
     "evalue": "substring not found",
     "output_type": "error",
     "traceback": [
      "\u001b[1;31m---------------------------------------------------------------------------\u001b[0m",
      "\u001b[1;31mValueError\u001b[0m                                Traceback (most recent call last)",
      "\u001b[1;32md:\\thon\\coding-test-example\\programmers_level1_dart.ipynb 셀 3\u001b[0m in \u001b[0;36m<cell line: 1>\u001b[1;34m()\u001b[0m\n\u001b[1;32m----> <a href='vscode-notebook-cell:/d%3A/thon/coding-test-example/programmers_level1_dart.ipynb#ch0000027?line=0'>1</a>\u001b[0m \u001b[39mif\u001b[39;00m dartResult\u001b[39m.\u001b[39mindex(\u001b[39m'\u001b[39m\u001b[39m*\u001b[39m\u001b[39m'\u001b[39m) \u001b[39m==\u001b[39m \u001b[39m6\u001b[39m: dartResult \u001b[39m=\u001b[39m dartResult[\u001b[39m-\u001b[39m\u001b[39m5\u001b[39m:] \u001b[39m+\u001b[39m dartResult[:\u001b[39m-\u001b[39m\u001b[39m5\u001b[39m]\n\u001b[0;32m      <a href='vscode-notebook-cell:/d%3A/thon/coding-test-example/programmers_level1_dart.ipynb#ch0000027?line=1'>2</a>\u001b[0m \u001b[39melse\u001b[39;00m: \u001b[39mpass\u001b[39;00m\n\u001b[0;32m      <a href='vscode-notebook-cell:/d%3A/thon/coding-test-example/programmers_level1_dart.ipynb#ch0000027?line=2'>3</a>\u001b[0m \u001b[39mprint\u001b[39m(dartResult)\n",
      "\u001b[1;31mValueError\u001b[0m: substring not found"
     ]
    }
   ],
   "source": [
    "if dartResult.index('*') == 6: dartResult = dartResult[-5:] + dartResult[:-5]\n",
    "else: pass\n",
    "print(dartResult)"
   ]
  },
  {
   "cell_type": "code",
   "execution_count": 63,
   "metadata": {},
   "outputs": [],
   "source": [
    "def solution(dartResult):\n",
    "    if '10' in dartResult: dartResult = dartResult.replace('10', 't')\n",
    "    scoring = ''\n",
    "    score = [str(i) for i in range(10)]\n",
    "    for i in dartResult:\n",
    "        if i == 't': scoring += '+10'\n",
    "        elif i in score: scoring = scoring + '+' + i\n",
    "        elif i == 'S': scoring += '**1'\n",
    "        elif i == 'D': scoring += '**2'\n",
    "        elif i == 'T': scoring += '**3'\n",
    "        elif i == '#': scoring += '*-1'\n",
    "        elif i == '*': scoring = '(' + scoring + ')*2'\n",
    "    return eval(scoring)"
   ]
  },
  {
   "cell_type": "code",
   "execution_count": 93,
   "metadata": {},
   "outputs": [],
   "source": [
    "def solution(dartResult):\n",
    "    if '10' in dartResult: dartResult = dartResult.replace('10', 't')\n",
    "    if '*' in dartResult:\n",
    "        if dartResult.index('*') == 6: dartResult = dartResult[-5:] + dartResult[:-5]\n",
    "    scoring = ''\n",
    "    score = [str(i) for i in range(10)]\n",
    "    for i in dartResult:\n",
    "        if i == 't': scoring += '+10'\n",
    "        elif i in score: scoring = scoring + '+' + i\n",
    "        elif i == 'S': scoring += '**1'\n",
    "        elif i == 'D': scoring += '**2'\n",
    "        elif i == 'T': scoring += '**3'\n",
    "        elif i == '#': scoring += '*-1'\n",
    "        elif i == '*': scoring = '(' + scoring + ')*2'\n",
    "    return eval(scoring)"
   ]
  },
  {
   "cell_type": "code",
   "execution_count": 95,
   "metadata": {},
   "outputs": [
    {
     "name": "stdout",
     "output_type": "stream",
     "text": [
      "1\n"
     ]
    }
   ],
   "source": [
    "area = ['S', 'D', 'T']\n",
    "if 'S' in area: print(str(area.index('S') + 1))"
   ]
  },
  {
   "cell_type": "code",
   "execution_count": 96,
   "metadata": {},
   "outputs": [],
   "source": [
    "def solution(dartResult):\n",
    "    if '10' in dartResult: dartResult = dartResult.replace('10', 't')\n",
    "    if '*' in dartResult:\n",
    "        if dartResult.index('*') == 6: dartResult = dartResult[-5:] + dartResult[:-5]\n",
    "    scoring = ''\n",
    "    score = [str(i) for i in range(10)]\n",
    "    area = ['S', 'D', 'T']\n",
    "    for i in dartResult:\n",
    "        if i == 't': scoring += '+10'\n",
    "        elif i in score: scoring = scoring + '+' + i\n",
    "        elif i in area: scoring = scoring + '**' + str(area.index(i)+1)\n",
    "        elif i == '#': scoring += '*-1'\n",
    "        elif i == '*': scoring = '(' + scoring + ')*2'\n",
    "    return eval(scoring)"
   ]
  },
  {
   "cell_type": "code",
   "execution_count": 110,
   "metadata": {},
   "outputs": [],
   "source": [
    "def solution(dartResult):\n",
    "    \n",
    "    if '10' in dartResult: dartResult = dartResult.replace('10', 't')\n",
    "    \n",
    "    if '*' in dartResult:\n",
    "        index = dartResult.index('*')\n",
    "        if index == 6: dartResult = dartResult[-5:] + dartResult[:-5]\n",
    "        elif index == 7: \n",
    "            if dartResult.index('#') == 2: dartResult = dartResult[-5:] + dartResult[:-5]\n",
    "            else: dartResult = dartResult[-6:] + dartResult[:-6]\n",
    "        elif index == 8: dartResult = dartResult[-6:] + dartResult[:-6]\n",
    "    \n",
    "    scoring = ''\n",
    "    score = [str(i) for i in range(10)]\n",
    "    area = ['S', 'D', 'T']\n",
    "\n",
    "    for i in dartResult:\n",
    "        if i == 't': scoring += '+10'\n",
    "        elif i in score: scoring = scoring + '+' + i\n",
    "        elif i in area: scoring = scoring + '**' + str(area.index(i)+1)\n",
    "        elif i == '#': scoring += '*-1'\n",
    "        elif i == '*': scoring = '(' + scoring + ')*2'\n",
    "    \n",
    "    return eval(scoring)"
   ]
  },
  {
   "cell_type": "code",
   "execution_count": 108,
   "metadata": {},
   "outputs": [],
   "source": [
    "a = '1D#2S#35*'"
   ]
  },
  {
   "cell_type": "code",
   "execution_count": 103,
   "metadata": {},
   "outputs": [
    {
     "name": "stdout",
     "output_type": "stream",
     "text": [
      "2S#35*1D#\n"
     ]
    }
   ],
   "source": [
    "if '*' in a:\n",
    "    if a.index('*') == 8: new = a[-6:] + a[:-6]\n",
    "print(new)"
   ]
  },
  {
   "cell_type": "code",
   "execution_count": 109,
   "metadata": {},
   "outputs": [
    {
     "data": {
      "text/plain": [
       "10"
      ]
     },
     "execution_count": 109,
     "metadata": {},
     "output_type": "execute_result"
    }
   ],
   "source": [
    "solution(a)"
   ]
  },
  {
   "cell_type": "code",
   "execution_count": 97,
   "metadata": {},
   "outputs": [
    {
     "data": {
      "text/plain": [
       "[37, 9, 3, 23, 5, -4, 59]"
      ]
     },
     "execution_count": 97,
     "metadata": {},
     "output_type": "execute_result"
    }
   ],
   "source": [
    "list(map(solution, dartResult_list))"
   ]
  },
  {
   "cell_type": "code",
   "execution_count": 116,
   "metadata": {},
   "outputs": [
    {
     "data": {
      "text/plain": [
       "4"
      ]
     },
     "execution_count": 116,
     "metadata": {},
     "output_type": "execute_result"
    }
   ],
   "source": [
    "a = '1D2S*3T*'\n",
    "a.find('*')"
   ]
  },
  {
   "cell_type": "code",
   "execution_count": 67,
   "metadata": {},
   "outputs": [
    {
     "name": "stdout",
     "output_type": "stream",
     "text": [
      "(+1**2+2**1+3**3)*2\n",
      "60\n"
     ]
    }
   ],
   "source": [
    "scoring = ''\n",
    "for index, i in enumerate(dartResult_list[6]):\n",
    "    if i == 't': scoring += '+10'\n",
    "    elif i in score: scoring = scoring + '+' + i\n",
    "    elif i == 'S': scoring += '**1'\n",
    "    elif i == 'D': scoring += '**2'\n",
    "    elif i == 'T': scoring += '**3'\n",
    "    elif i == '#': scoring += '*-1'\n",
    "    elif i == '*': scoring = '(' + scoring + ')*2'\n",
    "print(scoring)\n",
    "print(eval(scoring))\n"
   ]
  }
 ],
 "metadata": {
  "kernelspec": {
   "display_name": "Python 3.9.7 ('tf')",
   "language": "python",
   "name": "python3"
  },
  "language_info": {
   "codemirror_mode": {
    "name": "ipython",
    "version": 3
   },
   "file_extension": ".py",
   "mimetype": "text/x-python",
   "name": "python",
   "nbconvert_exporter": "python",
   "pygments_lexer": "ipython3",
   "version": "3.9.7"
  },
  "orig_nbformat": 4,
  "vscode": {
   "interpreter": {
    "hash": "d88f82afb66455697598f3be97bf4103fd55222ccf64b880ef38c583c364c29c"
   }
  }
 },
 "nbformat": 4,
 "nbformat_minor": 2
}
