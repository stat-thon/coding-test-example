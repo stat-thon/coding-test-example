{
 "cells": [
  {
   "cell_type": "markdown",
   "metadata": {},
   "source": [
    "# 구현 (Implementation)"
   ]
  },
  {
   "cell_type": "markdown",
   "metadata": {},
   "source": [
    "## 예제 4-1 상하좌우"
   ]
  },
  {
   "cell_type": "code",
   "execution_count": null,
   "metadata": {},
   "outputs": [],
   "source": [
    "# 입력조건1: N 입력 (공간의 크기)\n",
    "# 입력조건2: 이동 계획서 문자열로 주어짐 (공백으로 구분)\n",
    "\n",
    "# 출력조건: 좌표 (X, Y)를 공백으로 구분하여 출력\n",
    "\n",
    "### 문제: (1, 1)에서 출발해 R, L, D, U 를 입력하여 이동할 때, 최종적으로 도착한 위치 좌표는?\n",
    "\n",
    "# 조건: 공간의 크기 (N, N) 밖으로 이동하는 움직임은 무시"
   ]
  },
  {
   "cell_type": "markdown",
   "metadata": {},
   "source": [
    "### 예제 4-1 내 답안"
   ]
  },
  {
   "cell_type": "code",
   "execution_count": 13,
   "metadata": {},
   "outputs": [
    {
     "name": "stdout",
     "output_type": "stream",
     "text": [
      "좌표 크기: 5, 5\n",
      "이동 경로: ['R', 'R', 'R', 'U', 'D', 'D']\n",
      "정답 좌표: 3 4\n"
     ]
    }
   ],
   "source": [
    "# 입력\n",
    "N = int(input())\n",
    "moving_list = list(map(str, input().split()))\n",
    "print(f\"좌표 크기: {N}, {N}\")\n",
    "print(\"이동 경로:\", moving_list)\n",
    "\n",
    "# 출력\n",
    "x = 1\n",
    "y = 1\n",
    "\n",
    "for direction in moving_list:\n",
    "    if direction == \"R\":\n",
    "        if (y + 1) > N:\n",
    "            pass\n",
    "        else: y += 1\n",
    "    elif direction == \"L\":\n",
    "        if (y - 1) < 1:\n",
    "            pass\n",
    "        else: y -= 1\n",
    "    elif direction == \"D\":\n",
    "        if (x + 1) > N:\n",
    "            pass\n",
    "        else: x += 1\n",
    "    elif direction == \"U\":\n",
    "        if (x - 1) < 1:\n",
    "            pass\n",
    "        else: x -= 1\n",
    "    else:\n",
    "        pass\n",
    "\n",
    "print('정답 좌표:', x, y)"
   ]
  }
 ],
 "metadata": {
  "kernelspec": {
   "display_name": "Python 3.10.2 64-bit",
   "language": "python",
   "name": "python3"
  },
  "language_info": {
   "codemirror_mode": {
    "name": "ipython",
    "version": 3
   },
   "file_extension": ".py",
   "mimetype": "text/x-python",
   "name": "python",
   "nbconvert_exporter": "python",
   "pygments_lexer": "ipython3",
   "version": "3.10.2"
  },
  "orig_nbformat": 4,
  "vscode": {
   "interpreter": {
    "hash": "35a709b18549f3821755cf447a624debe2d5757e6152a382261c019f6f81fca7"
   }
  }
 },
 "nbformat": 4,
 "nbformat_minor": 2
}
