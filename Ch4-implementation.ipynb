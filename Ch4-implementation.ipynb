{
 "cells": [
  {
   "cell_type": "markdown",
   "metadata": {},
   "source": [
    "# 구현 (Implementation)"
   ]
  },
  {
   "cell_type": "markdown",
   "metadata": {},
   "source": [
    "## 예제 4-1 상하좌우"
   ]
  },
  {
   "cell_type": "code",
   "execution_count": null,
   "metadata": {},
   "outputs": [],
   "source": [
    "# 입력조건1: N 입력 (공간의 크기)\n",
    "# 입력조건2: 이동 계획서 문자열로 주어짐 (공백으로 구분)\n",
    "\n",
    "# 출력조건: 좌표 (X, Y)를 공백으로 구분하여 출력\n",
    "\n",
    "### 문제: (1, 1)에서 출발해 R, L, D, U 를 입력하여 이동할 때, 최종적으로 도착한 위치 좌표는?\n",
    "\n",
    "# 조건: 공간의 크기 (N, N) 밖으로 이동하는 움직임은 무시"
   ]
  },
  {
   "cell_type": "markdown",
   "metadata": {},
   "source": [
    "### 예제 4-1 내 답안"
   ]
  },
  {
   "cell_type": "code",
   "execution_count": 14,
   "metadata": {},
   "outputs": [
    {
     "name": "stdout",
     "output_type": "stream",
     "text": [
      "좌표 크기: 10, 10\n",
      "이동 경로: ['R', 'R', 'L', 'D', 'U', 'U', 'D', 'D', 'L', 'R']\n",
      "정답 좌표: 3 2\n"
     ]
    }
   ],
   "source": [
    "# 입력\n",
    "N = int(input())\n",
    "moving_list = list(map(str, input().split()))\n",
    "print(f\"좌표 크기: {N}, {N}\")\n",
    "print(\"이동 경로:\", moving_list)\n",
    "\n",
    "# 출력\n",
    "x = 1\n",
    "y = 1\n",
    "\n",
    "for direction in moving_list:\n",
    "    if direction == \"R\":\n",
    "        if (y + 1) > N:\n",
    "            pass\n",
    "        else: y += 1\n",
    "    elif direction == \"L\":\n",
    "        if (y - 1) < 1:\n",
    "            pass\n",
    "        else: y -= 1\n",
    "    elif direction == \"D\":\n",
    "        if (x + 1) > N:\n",
    "            pass\n",
    "        else: x += 1\n",
    "    elif direction == \"U\":\n",
    "        if (x - 1) < 1:\n",
    "            pass\n",
    "        else: x -= 1\n",
    "    else:\n",
    "        pass\n",
    "\n",
    "print('정답 좌표:', x, y)"
   ]
  },
  {
   "cell_type": "markdown",
   "metadata": {},
   "source": [
    "### 예제 4-1 답안"
   ]
  },
  {
   "cell_type": "code",
   "execution_count": 17,
   "metadata": {},
   "outputs": [
    {
     "name": "stdout",
     "output_type": "stream",
     "text": [
      "3 4\n"
     ]
    }
   ],
   "source": [
    "n = int(input())\n",
    "x, y = 1, 1\n",
    "plans = input().split()\n",
    "\n",
    "dx = [0, 0, -1, 1]\n",
    "dy = [-1, 1, 0, 0]\n",
    "move_types = ['L', 'R', 'U', 'D']\n",
    "\n",
    "for plans in plans:\n",
    "\n",
    "    for i in range(len(move_types)):\n",
    "        if plans == move_types[i]:\n",
    "            nx = x + dx[i]\n",
    "            ny = y + dy[i]\n",
    "    \n",
    "    if nx < 1 or ny < 1 or nx > n or ny > n:\n",
    "            continue\n",
    "\n",
    "    x, y = nx, ny\n",
    "\n",
    "print(x, y)"
   ]
  },
  {
   "cell_type": "markdown",
   "metadata": {},
   "source": [
    "## 예제 4-2 시각"
   ]
  },
  {
   "cell_type": "code",
   "execution_count": null,
   "metadata": {},
   "outputs": [],
   "source": [
    "# 입력조건: N 입력 (0 ~ 23)\n",
    "\n",
    "# 문제: 0시 00분 00초부터 N시 59분 59초까지 모든 시각 중에서 3이 하나라도 포함된 모든 경우의 수는 몇 가지?"
   ]
  },
  {
   "cell_type": "markdown",
   "metadata": {},
   "source": [
    "### 예제 4-2 내 답안"
   ]
  },
  {
   "cell_type": "code",
   "execution_count": 40,
   "metadata": {},
   "outputs": [
    {
     "name": "stdout",
     "output_type": "stream",
     "text": [
      "0시 00분 00초 ~ 5시 59분 59초\n",
      "11475\n"
     ]
    }
   ],
   "source": [
    "# 입력\n",
    "N = int(input())\n",
    "print(f'0시 00분 00초 ~ {N}시 59분 59초')\n",
    "\n",
    "# 출력\n",
    "count = 0\n",
    "for hour in range(N+1):\n",
    "    for minute in range(60):\n",
    "        for second in range(60):\n",
    "            time = set(str(hour) + str(minute) + str(second))\n",
    "            if '3' in time: count += 1\n",
    "\n",
    "print(count)\n",
    "            "
   ]
  },
  {
   "cell_type": "markdown",
   "metadata": {},
   "source": [
    "### 예제 4-2 답안"
   ]
  },
  {
   "cell_type": "code",
   "execution_count": 41,
   "metadata": {},
   "outputs": [
    {
     "name": "stdout",
     "output_type": "stream",
     "text": [
      "11475\n"
     ]
    }
   ],
   "source": [
    "h = int(input())\n",
    "\n",
    "count = 0\n",
    "for i in range(h + 1):\n",
    "    for j in range(60):\n",
    "        for k in range(60):\n",
    "            if '3' in str(i) + str(j) + str(k):\n",
    "                count += 1\n",
    "\n",
    "print(count)"
   ]
  }
 ],
 "metadata": {
  "kernelspec": {
   "display_name": "Python 3.10.2 64-bit",
   "language": "python",
   "name": "python3"
  },
  "language_info": {
   "codemirror_mode": {
    "name": "ipython",
    "version": 3
   },
   "file_extension": ".py",
   "mimetype": "text/x-python",
   "name": "python",
   "nbconvert_exporter": "python",
   "pygments_lexer": "ipython3",
   "version": "3.10.2"
  },
  "orig_nbformat": 4,
  "vscode": {
   "interpreter": {
    "hash": "35a709b18549f3821755cf447a624debe2d5757e6152a382261c019f6f81fca7"
   }
  }
 },
 "nbformat": 4,
 "nbformat_minor": 2
}
