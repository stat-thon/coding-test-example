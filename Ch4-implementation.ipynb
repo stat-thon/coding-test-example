{
 "cells": [
  {
   "cell_type": "markdown",
   "metadata": {},
   "source": [
    "# 구현 (Implementation)"
   ]
  },
  {
   "cell_type": "markdown",
   "metadata": {},
   "source": [
    "## 예제 4-1 상하좌우"
   ]
  },
  {
   "cell_type": "code",
   "execution_count": null,
   "metadata": {},
   "outputs": [],
   "source": [
    "# 입력조건1: N 입력 (공간의 크기)\n",
    "# 입력조건2: 이동 계획서 문자열로 주어짐 (공백으로 구분)\n",
    "\n",
    "# 출력조건: 좌표 (X, Y)를 공백으로 구분하여 출력\n",
    "\n",
    "### 문제: (1, 1)에서 출발해 R, L, D, U 를 입력하여 이동할 때, 최종적으로 도착한 위치 좌표는?\n",
    "\n",
    "# 조건: 공간의 크기 (N, N) 밖으로 이동하는 움직임은 무시"
   ]
  },
  {
   "cell_type": "markdown",
   "metadata": {},
   "source": [
    "### 예제 4-1 내 답안"
   ]
  },
  {
   "cell_type": "code",
   "execution_count": 14,
   "metadata": {},
   "outputs": [
    {
     "name": "stdout",
     "output_type": "stream",
     "text": [
      "좌표 크기: 10, 10\n",
      "이동 경로: ['R', 'R', 'L', 'D', 'U', 'U', 'D', 'D', 'L', 'R']\n",
      "정답 좌표: 3 2\n"
     ]
    }
   ],
   "source": [
    "# 입력\n",
    "N = int(input())\n",
    "moving_list = list(map(str, input().split()))\n",
    "print(f\"좌표 크기: {N}, {N}\")\n",
    "print(\"이동 경로:\", moving_list)\n",
    "\n",
    "# 출력\n",
    "x = 1\n",
    "y = 1\n",
    "\n",
    "for direction in moving_list:\n",
    "    if direction == \"R\":\n",
    "        if (y + 1) > N:\n",
    "            pass\n",
    "        else: y += 1\n",
    "    elif direction == \"L\":\n",
    "        if (y - 1) < 1:\n",
    "            pass\n",
    "        else: y -= 1\n",
    "    elif direction == \"D\":\n",
    "        if (x + 1) > N:\n",
    "            pass\n",
    "        else: x += 1\n",
    "    elif direction == \"U\":\n",
    "        if (x - 1) < 1:\n",
    "            pass\n",
    "        else: x -= 1\n",
    "    else:\n",
    "        pass\n",
    "\n",
    "print('정답 좌표:', x, y)"
   ]
  },
  {
   "cell_type": "markdown",
   "metadata": {},
   "source": [
    "### 예제 4-1 답안"
   ]
  },
  {
   "cell_type": "code",
   "execution_count": 17,
   "metadata": {},
   "outputs": [
    {
     "name": "stdout",
     "output_type": "stream",
     "text": [
      "3 4\n"
     ]
    }
   ],
   "source": [
    "n = int(input())\n",
    "x, y = 1, 1\n",
    "plans = input().split()\n",
    "\n",
    "dx = [0, 0, -1, 1]\n",
    "dy = [-1, 1, 0, 0]\n",
    "move_types = ['L', 'R', 'U', 'D']\n",
    "\n",
    "for plans in plans:\n",
    "\n",
    "    for i in range(len(move_types)):\n",
    "        if plans == move_types[i]:\n",
    "            nx = x + dx[i]\n",
    "            ny = y + dy[i]\n",
    "    \n",
    "    if nx < 1 or ny < 1 or nx > n or ny > n:\n",
    "            continue\n",
    "\n",
    "    x, y = nx, ny\n",
    "\n",
    "print(x, y)"
   ]
  },
  {
   "cell_type": "markdown",
   "metadata": {},
   "source": [
    "## 예제 4-2 시각"
   ]
  },
  {
   "cell_type": "code",
   "execution_count": null,
   "metadata": {},
   "outputs": [],
   "source": [
    "# 입력조건: N 입력 (0 ~ 23)\n",
    "\n",
    "# 문제: 0시 00분 00초부터 N시 59분 59초까지 모든 시각 중에서 3이 하나라도 포함된 모든 경우의 수는 몇 가지?"
   ]
  },
  {
   "cell_type": "markdown",
   "metadata": {},
   "source": [
    "### 예제 4-2 내 답안"
   ]
  },
  {
   "cell_type": "code",
   "execution_count": 40,
   "metadata": {},
   "outputs": [
    {
     "name": "stdout",
     "output_type": "stream",
     "text": [
      "0시 00분 00초 ~ 5시 59분 59초\n",
      "11475\n"
     ]
    }
   ],
   "source": [
    "# 입력\n",
    "N = int(input())\n",
    "print(f'0시 00분 00초 ~ {N}시 59분 59초')\n",
    "\n",
    "# 출력\n",
    "count = 0\n",
    "for hour in range(N+1):\n",
    "    for minute in range(60):\n",
    "        for second in range(60):\n",
    "            time = set(str(hour) + str(minute) + str(second))\n",
    "            if '3' in time: count += 1\n",
    "\n",
    "print(count)\n",
    "            "
   ]
  },
  {
   "cell_type": "markdown",
   "metadata": {},
   "source": [
    "### 예제 4-2 답안"
   ]
  },
  {
   "cell_type": "code",
   "execution_count": 41,
   "metadata": {},
   "outputs": [
    {
     "name": "stdout",
     "output_type": "stream",
     "text": [
      "11475\n"
     ]
    }
   ],
   "source": [
    "h = int(input())\n",
    "\n",
    "count = 0\n",
    "for i in range(h + 1):\n",
    "    for j in range(60):\n",
    "        for k in range(60):\n",
    "            if '3' in str(i) + str(j) + str(k):\n",
    "                count += 1\n",
    "\n",
    "print(count)"
   ]
  },
  {
   "cell_type": "markdown",
   "metadata": {},
   "source": [
    "## Ch 4 실전문제 2"
   ]
  },
  {
   "cell_type": "code",
   "execution_count": null,
   "metadata": {},
   "outputs": [],
   "source": [
    "# 입력조건: 8 x 8 좌표평면상에서 현재 나이트가 위치한 곳의 좌표를 나타내는, 두 문자로 구성된 문자열 입력 ex. a1 (영어가 열, 숫자가 행)\n",
    "\n",
    "# 문제: 입력한 나이트의 좌표에서 이동할 수 있는 경우의 수는?"
   ]
  },
  {
   "cell_type": "markdown",
   "metadata": {},
   "source": [
    "### 실전문제 4-2 내 답안"
   ]
  },
  {
   "cell_type": "code",
   "execution_count": 31,
   "metadata": {},
   "outputs": [
    {
     "name": "stdout",
     "output_type": "stream",
     "text": [
      "입력한 좌표: a1\n",
      "a1에서 나이트가 움직일 수 있는 경우의 수는: 2가지\n"
     ]
    }
   ],
   "source": [
    "# 입력\n",
    "location = input()\n",
    "print(f'입력한 좌표: {location}')\n",
    "\n",
    "# 시작좌표 읽기\n",
    "start_row = [i+1 for i, row in enumerate('12345678') if location[1] == row][0]\n",
    "start_col = [i+1 for i, col in enumerate('abcdefgh') if location[0] == col][0]\n",
    "\n",
    "# moving에 대한 리스트 내에서 반복문을 써서 좌표 이동시킬 것\n",
    "moving_row = [-2, -2, -1, 1, 2, 2, 1, -1]\n",
    "moving_col = [-1, 1, 2, 2, 1, -1, -2, -2]\n",
    "\n",
    "count = 0\n",
    "for i in range(8):\n",
    "    moved_row = start_row + moving_row[i]\n",
    "    moved_col = start_col + moving_col[i]\n",
    "\n",
    "    if moved_row < 1 or moved_row > 8 or moved_col < 1 or moved_row > 8:\n",
    "        pass\n",
    "\n",
    "    else:\n",
    "        count += 1\n",
    "\n",
    "print(f'{location}에서 나이트가 움직일 수 있는 경우의 수는: {count}가지')"
   ]
  },
  {
   "cell_type": "markdown",
   "metadata": {},
   "source": [
    "### 실전문제 4-2 답안"
   ]
  },
  {
   "cell_type": "code",
   "execution_count": 32,
   "metadata": {},
   "outputs": [
    {
     "name": "stdout",
     "output_type": "stream",
     "text": [
      "2\n"
     ]
    }
   ],
   "source": [
    "input_data = input()\n",
    "row = int(input_data[1])\n",
    "column = int(ord(input_data[0])) - int(ord('a')) + 1\n",
    "\n",
    "steps = [(-2, -1), (-1, -2), (1, -2), (2, -1), (2, 1), (1, 2), (-1, 2), (-2, 1)]\n",
    "\n",
    "result = 0\n",
    "for step in steps:\n",
    "    next_row = row + step[0]\n",
    "    next_column = column + step[1]\n",
    "\n",
    "    if next_row >= 1 and next_row <= 8 and next_column >= 1 and next_column <= 8:\n",
    "        result += 1\n",
    "\n",
    "print(result)"
   ]
  },
  {
   "cell_type": "markdown",
   "metadata": {},
   "source": [
    "## 실전문제 4-3"
   ]
  },
  {
   "cell_type": "code",
   "execution_count": 33,
   "metadata": {},
   "outputs": [],
   "source": [
    "# 입력조건1: 맵 크기인 N, M 자연수 입력 (공백으로 구분)\n",
    "# 입력조건2: 게임캐릭터 칸의 좌표 A, B와 방향(0, 1, 2, 3 중 하나) 입력 (공백으로 구분) ex. 1 1 1\n",
    "# 입력조건3: M개의 숫자를 N번 입력 받음 (육지: 0, 바다: 1) -> 맵 구현\n",
    "\n",
    "# 추가조건1: 맵의 외곽은 전부 바다\n",
    "# 추가조건2: 처음 위치는 무조건 육지\n",
    "\n",
    "# 문제: 이동 메뉴얼을 만족하며 이동을 마친 후 캐릭터가 방문한 칸의 수\n",
    "\n",
    "# <이동 메뉴얼>\n",
    "# 1단계: 현재 위치에서 현재 방향을 기준으로 왼쪽방향부터 차례대로 갈 곳을 정한다.\n",
    "# 2단계: 캐릭터의 바로 왼쪽 방향에 아직 가보지 않은 칸이 존재한다면, 왼쪽 방향으로 왼쪽으로 한 칸을 전진한다.\n",
    "#        왼쪽 방향에 가보지 않은 칸이 없다면, 왼쪽 방향으로 회전만 수행하고 1단계로 돌아간다.\n",
    "# 3단계: 만약 네 방향 모두 이미 가본 칸이거나 바다로 되어 있는 칸인 경우에는, 바라보는 방향을 유지한 채로 한 칸 뒤로 가고 1단계로 돌아간다.\n",
    "#        단, 이때 뒤쪽 방향이 바다인 칸이라 뒤로 갈 수 없는 경우에는 움직임을 멈춘다.\n"
   ]
  },
  {
   "cell_type": "markdown",
   "metadata": {},
   "source": [
    "### 실전문제 4-3 내 답안"
   ]
  },
  {
   "cell_type": "code",
   "execution_count": 225,
   "metadata": {},
   "outputs": [
    {
     "name": "stdout",
     "output_type": "stream",
     "text": [
      "맵 크기: 4 4\n",
      "초기 위치: 1 1 초기 방향: 0\n",
      "맵 리스트: [[1, 1, 1, 1], [1, 0, 0, 1], [1, 1, 0, 1], [1, 1, 1, 1]]\n",
      "\n",
      "시작 좌표: (1, 1), 시작 방향: 0\n",
      "현재 좌표: (1, 1) 현재 방향: 0\n",
      "현재 좌표: (1, 1) 현재 방향: 3\n",
      "현재 좌표: (1, 1) 현재 방향: 2\n",
      "보는 곳으로 이동\n",
      "이동한 좌표: (1, 2), 현재 방향: 1\n",
      "현재 좌표: (1, 2) 현재 방향: 1\n",
      "현재 좌표: (1, 2) 현재 방향: 0\n",
      "현재 좌표: (1, 2) 현재 방향: 3\n",
      "보는 곳으로 이동\n",
      "이동한 좌표: (2, 2), 현재 방향: 2\n",
      "현재 좌표: (2, 2) 현재 방향: 2\n",
      "최종 방문한 칸 수:3\n"
     ]
    }
   ],
   "source": [
    "### 입력\n",
    "N, M = map(int, input().split())\n",
    "A, B, d = map(int, input().split()) # A: 캐릭터의 현재 X좌표, B: 캐릭터의 현재 Y좌표, d: 캐릭터가 바라보는 방향\n",
    "\n",
    "landform = []\n",
    "for _ in range(N):\n",
    "    landform_row = list(map(int, input().split()))\n",
    "    landform.append(landform_row)\n",
    "\n",
    "print(\"맵 크기:\", N, M)\n",
    "print(\"초기 위치:\", A, B, \"초기 방향:\", d)\n",
    "print(\"맵 리스트:\", landform)\n",
    "\n",
    "\n",
    "# 바라보는 좌표 함수 생성\n",
    "direction = [0, 1, 2, 3]\n",
    "moving_xy = [(-1, 0), (0, 1), (1, 0), (0, -1)] # 바라보는 곳으로 움직일 경우 좌표이동\n",
    "move_back_xy = [(1, 0), (0, -1), (-1, 0), (0, 1)] # 갈 곳이 없어서 뒤로 움직일 경우 좌표이동\n",
    "\n",
    "# 왼쪽으로 돌아보는 함수 정의\n",
    "def turn_left(d):\n",
    "    if d == 0: d = 3\n",
    "    else: d -= 1\n",
    "    return(d)\n",
    "\n",
    "# 바라보는 곳으로 움직이는 함수 정의\n",
    "def watching_coordinate(coordinate, d):\n",
    "    for i in direction:\n",
    "        if i == d:\n",
    "            watching_x = coordinate[0] + moving_xy[i][0]\n",
    "            watching_y = coordinate[1] + moving_xy[i][1]\n",
    "            watching_coordinate = (watching_x, watching_y)\n",
    "    \n",
    "    return(watching_coordinate)\n",
    "\n",
    "# 뒤로 움직이는 함수 정의\n",
    "def move_back(coordinate, d):\n",
    "    for i in direction:\n",
    "        if i == d:\n",
    "            back_x = coordinate[0] + move_back_xy[i][0]\n",
    "            back_y = coordinate[1] + move_back_xy[i][1]\n",
    "            back_coordinate = (back_x, back_y)\n",
    "    \n",
    "    return(back_coordinate)\n",
    "\n",
    "# 이동가능한 주변 좌표 출력\n",
    "def moving_range(coordinate):\n",
    "    coord_set = set()\n",
    "    for i in direction:\n",
    "        x = coordinate[0] + moving_xy[i][0]\n",
    "        y = coordinate[1] + moving_xy[i][1]\n",
    "        coord_set.add((x, y)) \n",
    "    return(coord_set)\n",
    "\n",
    "\n",
    "### 출력 시작\n",
    "# 맵 좌표와 육지/바다 여부 딕셔너리로 지정\n",
    "map_feature = {(i, j) : landform[i][j] for i in range(N) for j in range(M)}\n",
    "\n",
    "# 육지와 갈 수 없는 좌표를 따로 집합 자료형으로 저장 (차집합, 합집합 연산을 해줄 예정이라 집합 자료형으로 저장)\n",
    "can_go_set = {i for i in map_feature if map_feature[i] == 0}\n",
    "sea_set = {i for i in map_feature if map_feature[i] == 1} # 바다 좌표 저장\n",
    "cannot_go_set = {i for i in map_feature if map_feature[i] == 1}\n",
    "\n",
    "# 초기값 설정\n",
    "start = (A, B)\n",
    "can_go_set = can_go_set - {start} # 현재 내 위치는 이미 방문했으므로 빼주자\n",
    "count = 1 # 현재 내위치는 이미 방문했으므로 카운트 해주자\n",
    "print(f'\\n시작 좌표: {start}, 시작 방향: {d}')\n",
    "\n",
    "# 반복문 시작\n",
    "while True:\n",
    "\n",
    "    coord_set = moving_range(start)\n",
    "    print(f\"현재 좌표: {start}\", f\"현재 방향: {d}\")\n",
    "    left = turn_left(d) # 1. 일단 왼쪽을 봐라\n",
    "\n",
    "    if (coord_set & can_go_set) != set(): # 사방에서 갈 데가 없지 않으면\n",
    "\n",
    "        if watching_coordinate(start, left) in can_go_set: # 2. 왼쪽에 갈 곳이 있으면\n",
    "            d = left # 왼쪽 방향을 저장하고\n",
    "            start = watching_coordinate(start, d) # 왼쪽 방향으로 이동해라\n",
    "            can_go_set = can_go_set - {start}\n",
    "            count += 1\n",
    "            print(\"보는 곳으로 이동\")\n",
    "            print(f\"이동한 좌표: {start}, 현재 방향: {d}\") # 궁금하니까 반복할 때마다 현재 좌표 출력\n",
    "\n",
    "        else: # 2. 왼쪽에 갈 곳이 없으면\n",
    "            d = left # 방향만 바꿔라\n",
    "            continue # 그리고 다시 반복문의 처음으로 돌아가라 (다시 왼쪽을 보도록 함)\n",
    "\n",
    "    else: # 3. 사방에서 갈 데가 없으면\n",
    "        \n",
    "        if move_back(start, left) not in sea_set: # 뒤로 갈 건데 뒤쪽이 바다가 아니면\n",
    "            d = left # 왼쪽 방향을 저장고\n",
    "            start = move_back(start, d) # 뒤로 이동\n",
    "            can_go_set = can_go_set - {start}\n",
    "            count += 1\n",
    "            print(\"뒤로 이동\")\n",
    "            print(f\"이동한 좌표: {start}, 현재 방향: {d}\") # 궁금하니까 반복할 때마다 현재 좌표 출력\n",
    "        \n",
    "        else: # 뒤가 바다면\n",
    "            break # 이제 그만둬라\n",
    "\n",
    "print(f\"최종 방문한 칸 수:{count}\") # 최종 결과"
   ]
  },
  {
   "cell_type": "markdown",
   "metadata": {},
   "source": [
    "#### 한 세시간 걸린듯.."
   ]
  },
  {
   "cell_type": "markdown",
   "metadata": {},
   "source": [
    "### 실전문제 4-3 답안"
   ]
  }
 ],
 "metadata": {
  "kernelspec": {
   "display_name": "Python 3.10.2 64-bit",
   "language": "python",
   "name": "python3"
  },
  "language_info": {
   "codemirror_mode": {
    "name": "ipython",
    "version": 3
   },
   "file_extension": ".py",
   "mimetype": "text/x-python",
   "name": "python",
   "nbconvert_exporter": "python",
   "pygments_lexer": "ipython3",
   "version": "3.10.2"
  },
  "orig_nbformat": 4,
  "vscode": {
   "interpreter": {
    "hash": "35a709b18549f3821755cf447a624debe2d5757e6152a382261c019f6f81fca7"
   }
  }
 },
 "nbformat": 4,
 "nbformat_minor": 2
}
