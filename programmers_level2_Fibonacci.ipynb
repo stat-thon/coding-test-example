{
 "cells": [
  {
   "cell_type": "markdown",
   "metadata": {},
   "source": [
    "# 프로그래머스 - 피보나치 수"
   ]
  },
  {
   "cell_type": "code",
   "execution_count": 1,
   "metadata": {},
   "outputs": [],
   "source": [
    "def F(n):\n",
    "    if n == 0: return 0\n",
    "    elif n == 1: return 1\n",
    "    return F(n - 2) + F(n - 1) # 이걸 쓰면 시간복잡도가 높은 모양.."
   ]
  },
  {
   "cell_type": "code",
   "execution_count": 19,
   "metadata": {},
   "outputs": [],
   "source": [
    "from collections import deque\n",
    "def solution(n):\n",
    "    def F(n):\n",
    "        F = deque([0, 1])\n",
    "        for _ in range(n - 1):\n",
    "            F.append(F[0] + F[1])\n",
    "            F.popleft()\n",
    "        F = list(F)\n",
    "        return F[1]\n",
    "    answer = F(n) % 1234567\n",
    "    return answer"
   ]
  },
  {
   "cell_type": "code",
   "execution_count": 22,
   "metadata": {},
   "outputs": [
    {
     "data": {
      "text/plain": [
       "804020"
      ]
     },
     "execution_count": 22,
     "metadata": {},
     "output_type": "execute_result"
    }
   ],
   "source": [
    "solution(500)"
   ]
  }
 ],
 "metadata": {
  "kernelspec": {
   "display_name": "Python 3.9.7 ('tf')",
   "language": "python",
   "name": "python3"
  },
  "language_info": {
   "codemirror_mode": {
    "name": "ipython",
    "version": 3
   },
   "file_extension": ".py",
   "mimetype": "text/x-python",
   "name": "python",
   "nbconvert_exporter": "python",
   "pygments_lexer": "ipython3",
   "version": "3.9.7"
  },
  "orig_nbformat": 4,
  "vscode": {
   "interpreter": {
    "hash": "d88f82afb66455697598f3be97bf4103fd55222ccf64b880ef38c583c364c29c"
   }
  }
 },
 "nbformat": 4,
 "nbformat_minor": 2
}
