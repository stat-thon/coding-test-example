{
 "cells": [
  {
   "cell_type": "markdown",
   "metadata": {},
   "source": [
    "# DFS/BFS"
   ]
  },
  {
   "cell_type": "markdown",
   "metadata": {},
   "source": [
    "## 재귀함수란?"
   ]
  },
  {
   "cell_type": "code",
   "execution_count": 1,
   "metadata": {},
   "outputs": [
    {
     "name": "stdout",
     "output_type": "stream",
     "text": [
      "120\n"
     ]
    }
   ],
   "source": [
    "# 재귀함수 예시: factorial 함수 구현\n",
    "\n",
    "def factorial_recursive(n):\n",
    "    if n <= 1:\n",
    "        return 1 # 이게 종료조건인가?\n",
    "    return n * factorial_recursive(n - 1)\n",
    "\n",
    "print(factorial_recursive(5)) "
   ]
  },
  {
   "cell_type": "code",
   "execution_count": 2,
   "metadata": {},
   "outputs": [
    {
     "name": "stdout",
     "output_type": "stream",
     "text": [
      "120\n"
     ]
    }
   ],
   "source": [
    "# factorial 함수를 반복문으로 구현한 것과 비교\n",
    "\n",
    "def factorial_iterative(n):\n",
    "    result = 1\n",
    "    for i in range(1, n + 1):\n",
    "        result *= i\n",
    "    return result\n",
    "\n",
    "print(factorial_iterative(5))"
   ]
  },
  {
   "cell_type": "markdown",
   "metadata": {},
   "source": [
    "### 반복문과 비교하면 코드가 한 줄 차이남\n"
   ]
  },
  {
   "cell_type": "markdown",
   "metadata": {},
   "source": [
    "## DFS, BFS 함수 예시"
   ]
  },
  {
   "cell_type": "code",
   "execution_count": 2,
   "metadata": {},
   "outputs": [
    {
     "name": "stdout",
     "output_type": "stream",
     "text": [
      "1 2 7 6 8 3 4 5 "
     ]
    }
   ],
   "source": [
    "def dfs(graph, v, visited):\n",
    "\n",
    "    visited[v] = True # 시작노드 방문 기록\n",
    "    print(v, end = ' ') # 방문한 노드 출력 (후입선출을 위해 재귀함수 도입)\n",
    "\n",
    "    for i in graph[v]: # 최상단노드 v의 인접노드 검색\n",
    "        if not visited[i]: # 최상단노드의 인접노드 중 미방문한 노드에 대해\n",
    "            dfs(graph, i, visited) # 재귀함수로 방문 기록하고 출력\n",
    "\n",
    "# 그래프 지정\n",
    "graph = [\n",
    "    [],\n",
    "    [2, 3, 8],\n",
    "    [1, 7],\n",
    "    [1, 4, 5],\n",
    "    [3, 5],\n",
    "    [3, 4],\n",
    "    [7],\n",
    "    [2, 6, 8],\n",
    "    [1, 7]\n",
    "]\n",
    "\n",
    "visited = [False] * 9\n",
    "\n",
    "dfs(graph, 1, visited)"
   ]
  },
  {
   "cell_type": "code",
   "execution_count": 4,
   "metadata": {},
   "outputs": [
    {
     "name": "stdout",
     "output_type": "stream",
     "text": [
      "1 2 3 8 7 4 5 6 "
     ]
    }
   ],
   "source": [
    "from collections import deque\n",
    "\n",
    "def bfs(graph, start, visited):\n",
    "\n",
    "    queue = deque([start]) # start node를 deque 자료형으로 지정\n",
    "\n",
    "    visited[start] = True # 방문 기록\n",
    "    \n",
    "    while queue: # queue에 원소가 없어질 때까지 반복\n",
    "        v = queue.popleft() # queue에서 선입선출식으로 v값 지정\n",
    "        print(v, end = ' ') # 검색된 v값 출력\n",
    "\n",
    "        for i in graph[v]: # 검색값의 인접노드 조회하고자 반복\n",
    "            \n",
    "            if not visited[i]: # 방문하지 않은 인접노드는\n",
    "                queue.append(i) # 큐에 순서대로 추가하고\n",
    "                visited[i] = True # 방문으로 기록\n",
    "                # 이렇게 queue에 값이 없어질 때까지 반복 -> 모든 노드의 검색 가능\n",
    "\n",
    "graph = [\n",
    "    [],\n",
    "    [2, 3, 8],\n",
    "    [1, 7],\n",
    "    [1, 4, 5],\n",
    "    [3, 5],\n",
    "    [3, 4],\n",
    "    [7],\n",
    "    [2, 6, 8],\n",
    "    [1, 7]\n",
    "]\n",
    "\n",
    "visited = [False] * 9\n",
    "\n",
    "bfs(graph, 1, visited)"
   ]
  }
 ],
 "metadata": {
  "kernelspec": {
   "display_name": "Python 3.10.2 64-bit",
   "language": "python",
   "name": "python3"
  },
  "language_info": {
   "codemirror_mode": {
    "name": "ipython",
    "version": 3
   },
   "file_extension": ".py",
   "mimetype": "text/x-python",
   "name": "python",
   "nbconvert_exporter": "python",
   "pygments_lexer": "ipython3",
   "version": "3.10.2"
  },
  "orig_nbformat": 4,
  "vscode": {
   "interpreter": {
    "hash": "35a709b18549f3821755cf447a624debe2d5757e6152a382261c019f6f81fca7"
   }
  }
 },
 "nbformat": 4,
 "nbformat_minor": 2
}
