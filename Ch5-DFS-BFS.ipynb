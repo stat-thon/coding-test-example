{
 "cells": [
  {
   "cell_type": "markdown",
   "metadata": {},
   "source": [
    "# DFS/BFS"
   ]
  },
  {
   "cell_type": "markdown",
   "metadata": {},
   "source": [
    "## 재귀함수란?"
   ]
  },
  {
   "cell_type": "code",
   "execution_count": 1,
   "metadata": {},
   "outputs": [
    {
     "name": "stdout",
     "output_type": "stream",
     "text": [
      "120\n"
     ]
    }
   ],
   "source": [
    "# 재귀함수 예시: factorial 함수 구현\n",
    "\n",
    "def factorial_recursive(n):\n",
    "    if n <= 1:\n",
    "        return 1 # 이게 종료조건인가?\n",
    "    return n * factorial_recursive(n - 1)\n",
    "\n",
    "print(factorial_recursive(5)) "
   ]
  },
  {
   "cell_type": "code",
   "execution_count": 2,
   "metadata": {},
   "outputs": [
    {
     "name": "stdout",
     "output_type": "stream",
     "text": [
      "120\n"
     ]
    }
   ],
   "source": [
    "# factorial 함수를 반복문으로 구현한 것과 비교\n",
    "\n",
    "def factorial_iterative(n):\n",
    "    result = 1\n",
    "    for i in range(1, n + 1):\n",
    "        result *= i\n",
    "    return result\n",
    "\n",
    "print(factorial_iterative(5))"
   ]
  },
  {
   "cell_type": "markdown",
   "metadata": {},
   "source": [
    "### 반복문과 비교하면 코드가 한 줄 차이남\n"
   ]
  },
  {
   "cell_type": "markdown",
   "metadata": {},
   "source": [
    "## DFS, BFS 함수 예시"
   ]
  },
  {
   "cell_type": "code",
   "execution_count": 2,
   "metadata": {},
   "outputs": [
    {
     "name": "stdout",
     "output_type": "stream",
     "text": [
      "1 2 7 6 8 3 4 5 "
     ]
    }
   ],
   "source": [
    "def dfs(graph, v, visited):\n",
    "\n",
    "    visited[v] = True # 시작노드 방문 기록\n",
    "    print(v, end = ' ') # 방문한 노드 출력 (후입선출을 위해 재귀함수 도입)\n",
    "\n",
    "    for i in graph[v]: # 최상단노드 v의 인접노드 검색\n",
    "        if not visited[i]: # 최상단노드의 인접노드 중 미방문한 노드에 대해\n",
    "            dfs(graph, i, visited) # 재귀함수로 방문 기록하고 출력\n",
    "\n",
    "# 그래프 지정\n",
    "graph = [\n",
    "    [],\n",
    "    [2, 3, 8],\n",
    "    [1, 7],\n",
    "    [1, 4, 5],\n",
    "    [3, 5],\n",
    "    [3, 4],\n",
    "    [7],\n",
    "    [2, 6, 8],\n",
    "    [1, 7]\n",
    "]\n",
    "\n",
    "visited = [False] * 9\n",
    "\n",
    "dfs(graph, 1, visited)"
   ]
  },
  {
   "cell_type": "code",
   "execution_count": 4,
   "metadata": {},
   "outputs": [
    {
     "name": "stdout",
     "output_type": "stream",
     "text": [
      "1 2 3 8 7 4 5 6 "
     ]
    }
   ],
   "source": [
    "from collections import deque\n",
    "\n",
    "def bfs(graph, start, visited):\n",
    "\n",
    "    queue = deque([start]) # start node를 deque 자료형으로 지정\n",
    "\n",
    "    visited[start] = True # 방문 기록\n",
    "    \n",
    "    while queue: # queue에 원소가 없어질 때까지 반복\n",
    "        v = queue.popleft() # queue에서 선입선출식으로 v값 지정\n",
    "        print(v, end = ' ') # 검색된 v값 출력\n",
    "\n",
    "        for i in graph[v]: # 검색값의 인접노드 조회하고자 반복\n",
    "            \n",
    "            if not visited[i]: # 방문하지 않은 인접노드는\n",
    "                queue.append(i) # 큐에 순서대로 추가하고\n",
    "                visited[i] = True # 방문으로 기록\n",
    "                # 이렇게 queue에 값이 없어질 때까지 반복 -> 모든 노드의 검색 가능\n",
    "\n",
    "graph = [\n",
    "    [],\n",
    "    [2, 3, 8],\n",
    "    [1, 7],\n",
    "    [1, 4, 5],\n",
    "    [3, 5],\n",
    "    [3, 4],\n",
    "    [7],\n",
    "    [2, 6, 8],\n",
    "    [1, 7]\n",
    "]\n",
    "\n",
    "visited = [False] * 9\n",
    "\n",
    "bfs(graph, 1, visited)"
   ]
  },
  {
   "cell_type": "markdown",
   "metadata": {},
   "source": [
    "## 실전문제 5-3. 음료수 얼려 먹기"
   ]
  },
  {
   "cell_type": "code",
   "execution_count": null,
   "metadata": {},
   "outputs": [],
   "source": [
    "# 입력조건1: N, M 입력 (얼음틀의 세로길이: N, 가로: M)\n",
    "# 입력조건2: N개의 얼음틀 형태 데이터 입력\n",
    "# 입력조건3: 구멍 뚫려있는 부분: 0, 막혀있는 부분: 1\n",
    "\n",
    "# 문제: 서로 이어져있는 얼음틀 모양으로 아이스크림 하나를 만들 수 있다고 할 때, 한 번에 만들 수 있는 아이스크림의 총 개수?\n",
    "\n",
    "# 조건: 얼음틀이 뚫려있는 부분끼리 상, 하, 좌, 우로 붙어 있는 경우 서로 연결된 것으로 간주함"
   ]
  },
  {
   "cell_type": "markdown",
   "metadata": {},
   "source": [
    "### 실전문제 5-3. 내 답안"
   ]
  },
  {
   "cell_type": "code",
   "execution_count": 9,
   "metadata": {},
   "outputs": [
    {
     "name": "stdout",
     "output_type": "stream",
     "text": [
      "15 14\n",
      "['00000111100000', '11111101111110', '11011101101110', '11011101100000', '11011111111111', '11011111111100', '11000000011111', '01111111111111', '00000000011111', '01111111111000', '00011111111000', '00000001111000', '11111111110011', '11100011111111', '11100011111111']\n"
     ]
    }
   ],
   "source": [
    "# 입력\n",
    "N, M = map(int, input().split())\n",
    "\n",
    "ice_maker_blocked = []\n",
    "for i in range(N):\n",
    "    ice_maker_blocked.append(str(input())) # blocked: 1, hole: 0\n",
    "\n",
    "print(N, M)\n",
    "print(ice_maker_blocked)"
   ]
  },
  {
   "cell_type": "code",
   "execution_count": 14,
   "metadata": {},
   "outputs": [
    {
     "data": {
      "text/plain": [
       "14"
      ]
     },
     "execution_count": 14,
     "metadata": {},
     "output_type": "execute_result"
    }
   ],
   "source": [
    "def dfs(graph, v, visited):\n",
    "    visited[v] = True\n",
    "    print(v, end = ' ')\n",
    "\n",
    "    for i in graph[v]:\n",
    "        if not visited[i]:\n",
    "            dfs(graph, i, visited)\n",
    "\n"
   ]
  },
  {
   "cell_type": "code",
   "execution_count": null,
   "metadata": {},
   "outputs": [],
   "source": [
    "visited = [[False] * M for _ in range(N)]"
   ]
  },
  {
   "cell_type": "code",
   "execution_count": null,
   "metadata": {},
   "outputs": [],
   "source": [
    "def dfs_deeper(graph, x, y, visited):\n",
    "    \n",
    "    visited[x][y] = True # visited로 저장\n",
    "    direction = [(x + 1, y), (x - 1, y), (x, y + 1), (x, y - 1)]\n",
    "    \n",
    "    if graph[x][y] == '0' and not visited[x][y]: # 값이 0이면서, 방문하지 않은 노드이면\n",
    "\n",
    "        for dir in direction:\n",
    "            if graph[dir[0]][dir[1]] == '0' and not visited[dir[0]][dir[1]]:\n",
    "                dfs_deeper(graph, dir[0], dir[1], visited)\n",
    "\n",
    "            elif graph[dir[0]][dir[1]] == '1' and visited[dir[0]][dir[1]]:\n",
    "                continue\n",
    "            elif graph[dir[0]][dir[1]] == '0' and visited[dir[0]][dir[1]]:\n",
    "                continue\n",
    "            else:\n",
    "                x = dir[0]\n",
    "                y = dir[1]\n"
   ]
  },
  {
   "cell_type": "markdown",
   "metadata": {},
   "source": [
    "### 포기..."
   ]
  },
  {
   "cell_type": "markdown",
   "metadata": {},
   "source": [
    "### 실전문제 5-3. 답안"
   ]
  },
  {
   "cell_type": "code",
   "execution_count": 25,
   "metadata": {},
   "outputs": [
    {
     "name": "stdout",
     "output_type": "stream",
     "text": [
      "3\n"
     ]
    }
   ],
   "source": [
    "n, m = map(int, input().split())\n",
    "\n",
    "graph = []\n",
    "for i in range(n):\n",
    "    graph.append(list(map(int, input())))\n",
    "\n",
    "def dfs(x, y):\n",
    "    if x <= -1 or x >= n or y <= -1 or y >= m: # n x m 범위를 벗어나면 즉시 종료\n",
    "        return False\n",
    "    \n",
    "    if graph[x][y] == 0:\n",
    "        graph[x][y] = 1 # 해당 노드 방문처리 (1로 처리함으로써 뒤에 가지 않도록 만듦..)\n",
    "\n",
    "        dfs(x - 1, y)\n",
    "        dfs(x + 1, y)\n",
    "        dfs(x, y + 1)\n",
    "        dfs(x, y - 1)\n",
    "        return True # 사방향의 dfs 재귀함수\n",
    "    return False\n",
    "\n",
    "\n",
    "# 함수 적용\n",
    "result = 0\n",
    "for i in range(n):\n",
    "    for j in range(m):\n",
    "        if dfs(i, j) == True: # 현재 위치에서 DFS 수행\n",
    "            result += 1\n",
    "\n",
    "print(result)"
   ]
  },
  {
   "cell_type": "markdown",
   "metadata": {},
   "source": [
    "### 이해는 감.. 근데 풀 수 있을지 모르겠음"
   ]
  }
 ],
 "metadata": {
  "kernelspec": {
   "display_name": "Python 3.10.2 64-bit",
   "language": "python",
   "name": "python3"
  },
  "language_info": {
   "codemirror_mode": {
    "name": "ipython",
    "version": 3
   },
   "file_extension": ".py",
   "mimetype": "text/x-python",
   "name": "python",
   "nbconvert_exporter": "python",
   "pygments_lexer": "ipython3",
   "version": "3.10.2"
  },
  "orig_nbformat": 4,
  "vscode": {
   "interpreter": {
    "hash": "35a709b18549f3821755cf447a624debe2d5757e6152a382261c019f6f81fca7"
   }
  }
 },
 "nbformat": 4,
 "nbformat_minor": 2
}
