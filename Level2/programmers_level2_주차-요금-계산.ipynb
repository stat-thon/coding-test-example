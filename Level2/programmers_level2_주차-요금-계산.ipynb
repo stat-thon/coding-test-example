{
 "cells": [
  {
   "cell_type": "markdown",
   "metadata": {},
   "source": [
    "# 프로그래머스 - 주차 요금 계산"
   ]
  },
  {
   "cell_type": "code",
   "execution_count": 32,
   "metadata": {},
   "outputs": [],
   "source": [
    "fees = [1, 461, 1, 10]\n",
    "records = [\"00:00 1234 IN\"]"
   ]
  },
  {
   "cell_type": "code",
   "execution_count": 36,
   "metadata": {},
   "outputs": [],
   "source": [
    "def solution(fees, records):\n",
    "    from collections import defaultdict\n",
    "\n",
    "    a = defaultdict(list)\n",
    "    for i in records:\n",
    "        a[i[6:10]].append(int(i[0:2]) * 60 + int(i[3:6]))\n",
    "\n",
    "    for value in a.values():\n",
    "        if len(value) % 2 != 0:\n",
    "            value.append(60 * 23 + 59)\n",
    "\n",
    "    new_dict = defaultdict(int)\n",
    "    for key, value in a.items():\n",
    "        for i, v in enumerate(value):\n",
    "            if i % 2 == 1:\n",
    "                new_dict[key] += value[i] - value[i - 1]\n",
    "\n",
    "    result = []\n",
    "    for car in sorted(new_dict.keys()):\n",
    "        if new_dict[car] <= fees[0]:\n",
    "            result.append(fees[1])\n",
    "        else:\n",
    "            v = (new_dict[car] - fees[0]) / fees[2]\n",
    "            if v - int(v) != 0:\n",
    "                result.append(fees[1] + (int(v) + 1) * fees[3])\n",
    "            else:\n",
    "                result.append(fees[1] + int(v) * fees[3])\n",
    "\n",
    "    \n",
    "    return result"
   ]
  },
  {
   "cell_type": "code",
   "execution_count": 37,
   "metadata": {},
   "outputs": [
    {
     "data": {
      "text/plain": [
       "[14841]"
      ]
     },
     "execution_count": 37,
     "metadata": {},
     "output_type": "execute_result"
    }
   ],
   "source": [
    "solution(fees, records)"
   ]
  }
 ],
 "metadata": {
  "kernelspec": {
   "display_name": "Python 3.10.2 64-bit",
   "language": "python",
   "name": "python3"
  },
  "language_info": {
   "codemirror_mode": {
    "name": "ipython",
    "version": 3
   },
   "file_extension": ".py",
   "mimetype": "text/x-python",
   "name": "python",
   "nbconvert_exporter": "python",
   "pygments_lexer": "ipython3",
   "version": "3.10.2"
  },
  "orig_nbformat": 4,
  "vscode": {
   "interpreter": {
    "hash": "35a709b18549f3821755cf447a624debe2d5757e6152a382261c019f6f81fca7"
   }
  }
 },
 "nbformat": 4,
 "nbformat_minor": 2
}
