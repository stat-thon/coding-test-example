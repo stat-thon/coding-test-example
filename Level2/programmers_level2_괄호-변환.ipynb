{
 "cells": [
  {
   "cell_type": "markdown",
   "metadata": {},
   "source": [
    "# 프로그래머스 - 괄호 변환"
   ]
  },
  {
   "cell_type": "code",
   "execution_count": 8,
   "metadata": {},
   "outputs": [],
   "source": [
    "p = \"(()())()\""
   ]
  },
  {
   "cell_type": "code",
   "execution_count": null,
   "metadata": {},
   "outputs": [],
   "source": [
    "def solution(p):\n",
    "    # 1. 빈 문자열\n",
    "    if not p: answer = ''\n",
    "\n",
    "    # 2. 균형잡힌 괄호 문자열 u, v로 분리하는 함수\n",
    "    def split_uv(p):\n",
    "        left, right = 0, 0\n",
    "        u, v = '', ''\n",
    "        for i, lr in enumerate(p):\n",
    "            if lr == '(': left += 1\n",
    "            elif lr == ')': right += 1\n",
    "            if left == (i + 1) // 2 and right == (i + 1) // 2:\n",
    "                u, v = p[:i + 1], p[i + 1:]\n",
    "                break\n",
    "        \n",
    "        return u, v\n",
    "\n",
    "    # 3. 올바른 문자열 판별 함수\n",
    "    def correct_or_not(u):\n",
    "        return True if u.startswith('(') else False\n",
    "\n",
    "    # 4. 수정 함수\n",
    "    def make_correct(u):\n",
    "        new_u, new_v = split_uv(u)\n",
    "        new = ''\n",
    "        for i in new_u[1:-1]:\n",
    "            if i == '(': new += ')'\n",
    "            else: new += '('\n",
    "\n",
    "        new = '(' + new + ')'\n",
    "        return new\n",
    "    \n",
    "    # 5. 적용\n",
    "\n",
    "\n",
    "\n",
    "\n",
    "    return answer"
   ]
  },
  {
   "cell_type": "code",
   "execution_count": 23,
   "metadata": {},
   "outputs": [],
   "source": [
    "def split_uv(p):\n",
    "        left, right = 0, 0\n",
    "        u, v = '', ''\n",
    "        for i, lr in enumerate(p):\n",
    "            if lr == '(': left += 1\n",
    "            elif lr == ')': right += 1\n",
    "            if left == (i + 1) // 2 and right == (i + 1) // 2:\n",
    "                u, v = p[:i + 1], p[i + 1:]\n",
    "                break\n",
    "        \n",
    "        return u, v\n",
    "\n",
    "def correct_or_not(u):\n",
    "    return True if u.startswith('(') else False\n"
   ]
  },
  {
   "cell_type": "code",
   "execution_count": 29,
   "metadata": {},
   "outputs": [
    {
     "data": {
      "text/plain": [
       "('(())', '')"
      ]
     },
     "execution_count": 29,
     "metadata": {},
     "output_type": "execute_result"
    }
   ],
   "source": [
    "split_uv('(())')"
   ]
  },
  {
   "cell_type": "code",
   "execution_count": 40,
   "metadata": {},
   "outputs": [],
   "source": [
    "def make_correct(u):\n",
    "    new_u, new_v = split_uv(u)\n",
    "    new = ''\n",
    "    for i in new_u[1:-1]:\n",
    "        if i == '(': new += ')'\n",
    "        else: new += '('\n",
    "\n",
    "    new = '(' + new + ')'\n",
    "    return new"
   ]
  },
  {
   "cell_type": "code",
   "execution_count": 41,
   "metadata": {},
   "outputs": [
    {
     "data": {
      "text/plain": [
       "'(())'"
      ]
     },
     "execution_count": 41,
     "metadata": {},
     "output_type": "execute_result"
    }
   ],
   "source": [
    "make_correct('))((()')"
   ]
  },
  {
   "cell_type": "code",
   "execution_count": 34,
   "metadata": {},
   "outputs": [
    {
     "data": {
      "text/plain": [
       "'()'"
      ]
     },
     "execution_count": 34,
     "metadata": {},
     "output_type": "execute_result"
    }
   ],
   "source": [
    "split_uv(v)[0]"
   ]
  },
  {
   "cell_type": "code",
   "execution_count": 35,
   "metadata": {},
   "outputs": [
    {
     "name": "stdout",
     "output_type": "stream",
     "text": [
      "()\n"
     ]
    }
   ],
   "source": [
    "a = '))(('\n",
    "new = ''\n",
    "for i in a[1:-1]:\n",
    "    if i == '(': new += ')'\n",
    "    else: new += '('\n",
    "print(new)"
   ]
  },
  {
   "cell_type": "code",
   "execution_count": 24,
   "metadata": {},
   "outputs": [
    {
     "name": "stdout",
     "output_type": "stream",
     "text": [
      "(()()) ()\n"
     ]
    }
   ],
   "source": [
    "u, v = split_uv(p)\n",
    "print(u, v)"
   ]
  }
 ],
 "metadata": {
  "kernelspec": {
   "display_name": "Python 3.10.2 64-bit",
   "language": "python",
   "name": "python3"
  },
  "language_info": {
   "codemirror_mode": {
    "name": "ipython",
    "version": 3
   },
   "file_extension": ".py",
   "mimetype": "text/x-python",
   "name": "python",
   "nbconvert_exporter": "python",
   "pygments_lexer": "ipython3",
   "version": "3.10.2"
  },
  "orig_nbformat": 4,
  "vscode": {
   "interpreter": {
    "hash": "35a709b18549f3821755cf447a624debe2d5757e6152a382261c019f6f81fca7"
   }
  }
 },
 "nbformat": 4,
 "nbformat_minor": 2
}
