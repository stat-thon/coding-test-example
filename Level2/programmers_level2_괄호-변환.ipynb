{
 "cells": [
  {
   "cell_type": "markdown",
   "metadata": {},
   "source": [
    "# 프로그래머스 - 괄호 변환"
   ]
  },
  {
   "cell_type": "code",
   "execution_count": 5,
   "metadata": {},
   "outputs": [],
   "source": [
    "p = \"(()())()\""
   ]
  },
  {
   "cell_type": "code",
   "execution_count": null,
   "metadata": {},
   "outputs": [],
   "source": [
    "def solution(p):\n",
    "    # 1. 빈 문자열\n",
    "    if not p: answer = ''\n",
    "\n",
    "    # 2. 균형잡힌 괄호 문자열 u, v로 분리하는 함수\n",
    "    def split_uv(p):\n",
    "        left, right = 0, 0\n",
    "        u, v = '', ''\n",
    "        for i, lr in enumerate(p):\n",
    "            if lr == '(': left += 1\n",
    "            elif lr == ')': right += 1\n",
    "            if left == (i + 1) // 2 and right == (i + 1) // 2:\n",
    "                u, v = p[:i + 1], p[i + 1:]\n",
    "                break\n",
    "        \n",
    "        return u, v\n",
    "    \n",
    "    balance_list = []\n",
    "    balance_list.append(split_uv(p)[0])\n",
    "    while p:\n",
    "        u, p = split_uv(p)\n",
    "        balance_list.append(p)\n",
    "\n",
    "\n",
    "    # 3. 올바른 문자열 판별 함수\n",
    "    def correct_or_not(u):\n",
    "        return False if u.startswith(')') or u.endswith('(') else True\n",
    "\n",
    "    # 4. 수정 함수\n",
    "    def make_correct(u):\n",
    "        new_u, new_v = split_uv(u)\n",
    "        new = ''\n",
    "        for i in new_u[1:-1]:\n",
    "            if i == '(': new += ')'\n",
    "            else: new += '('\n",
    "\n",
    "        new = '(' + new + ')'\n",
    "        return new\n",
    "    \n",
    "    # 5. 적용\n",
    "\n",
    "\n",
    "\n",
    "\n",
    "    return answer"
   ]
  },
  {
   "cell_type": "code",
   "execution_count": null,
   "metadata": {},
   "outputs": [],
   "source": [
    "def solution(p):\n",
    "    # 1. 빈 문자열\n",
    "    if not p: answer = ''\n",
    "\n",
    "    # 2. 균형잡힌 문자열 전부 찾아서 저장\n",
    "    balance_list = []\n",
    "    for i in range(1, len(p), 2):\n",
    "        if p[:i + 1].count('(') == (i + 1) // 2 and p[:i + 1].count(')') == (i + 1) // 2:\n",
    "            u, p = p[:i + 1], p[i + 1:]\n",
    "            balance_list.append(u)\n",
    "    balance_list.append(p)\n",
    "    \n",
    "    # 3. 올바른 문자열 판별 함수\n",
    "    def correct_or_not(u):\n",
    "        return False if u.startswith(')') or u.endswith('(') else True\n",
    "\n",
    "    # 4. 수정 함수\n",
    "    def make_correct(u):\n",
    "        new_u, new_v = split_uv(u)\n",
    "        new = ''\n",
    "        for i in new_u[1:-1]:\n",
    "            if i == '(': new += ')'\n",
    "            else: new += '('\n",
    "\n",
    "        new = '(' + new + ')'\n",
    "        return new\n",
    "    \n",
    "    # 5. 적용\n",
    "\n",
    "\n",
    "\n",
    "\n",
    "    return answer"
   ]
  },
  {
   "cell_type": "code",
   "execution_count": 46,
   "metadata": {},
   "outputs": [
    {
     "name": "stdout",
     "output_type": "stream",
     "text": [
      "['()', '))((', '()']\n"
     ]
    }
   ],
   "source": [
    "p = '()))((()'\n",
    "balance_list = []\n",
    "for i in range(1, len(p), 2):\n",
    "    if p[:i + 1].count('(') == (i + 1) // 2 and p[:i + 1].count(')') == (i + 1) // 2:\n",
    "        u, p = p[:i + 1], p[i + 1:]\n",
    "        balance_list.append(u)\n",
    "balance_list.append(p)\n",
    "print(balance_list)\n",
    "    "
   ]
  },
  {
   "cell_type": "code",
   "execution_count": 2,
   "metadata": {},
   "outputs": [],
   "source": [
    "def correct_or_not(u):\n",
    "    return False if u.startswith(')') or u.endswith('(') else True\n",
    "\n",
    "def make_correct(u):\n",
    "    new_u, new_v = split_uv(u)\n",
    "    new = ''\n",
    "    for i in new_u[1:-1]:\n",
    "        if i == '(': new += ')'\n",
    "        else: new += '('\n",
    "\n",
    "    new = '(' + new + ')'\n",
    "    return new\n"
   ]
  },
  {
   "cell_type": "code",
   "execution_count": 7,
   "metadata": {},
   "outputs": [
    {
     "data": {
      "text/plain": [
       "'(())'"
      ]
     },
     "execution_count": 7,
     "metadata": {},
     "output_type": "execute_result"
    }
   ],
   "source": [
    "make_correct('))((')"
   ]
  },
  {
   "cell_type": "code",
   "execution_count": null,
   "metadata": {},
   "outputs": [],
   "source": [
    "# u는 지금 not correct임\n",
    "def correction(w):\n",
    "\n",
    "    # w Correct or not\n",
    "    if w.startswith('(') and w.endswith(')'): # If correct\n",
    "        pass\n",
    "    # Not correct\n",
    "    else:\n",
    "        new_u, new_v = split_uv(w)\n",
    "        new = ''\n",
    "\n",
    "        \n",
    "\n",
    "    if correct_or_not(split_uv(new_v)[1]):\n",
    "        for i in new_u[1:-1]:\n",
    "            if i == '(': new += ')'\n",
    "            else: new += '('\n",
    "\n",
    "        new = '(' + new + ')'\n",
    "        \n",
    "    else: make_correct(u)\n",
    "\n",
    "    while correct_or_not(new_u) and new_v == '':\n",
    "        make_correct(u)\n",
    "\n",
    "    new = ''\n",
    "    for i in new_u[1:-1]:\n",
    "        if i == '(': new += ')'\n",
    "        else: new += '('\n",
    "\n",
    "    new = '(' + new + ')'\n",
    "    return new"
   ]
  }
 ],
 "metadata": {
  "kernelspec": {
   "display_name": "Python 3.10.2 64-bit",
   "language": "python",
   "name": "python3"
  },
  "language_info": {
   "codemirror_mode": {
    "name": "ipython",
    "version": 3
   },
   "file_extension": ".py",
   "mimetype": "text/x-python",
   "name": "python",
   "nbconvert_exporter": "python",
   "pygments_lexer": "ipython3",
   "version": "3.10.2"
  },
  "orig_nbformat": 4,
  "vscode": {
   "interpreter": {
    "hash": "35a709b18549f3821755cf447a624debe2d5757e6152a382261c019f6f81fca7"
   }
  }
 },
 "nbformat": 4,
 "nbformat_minor": 2
}
