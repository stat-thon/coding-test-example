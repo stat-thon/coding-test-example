{
 "cells": [
  {
   "cell_type": "markdown",
   "metadata": {},
   "source": [
    "# 프로그래머스 - 문자열 압축"
   ]
  },
  {
   "cell_type": "code",
   "execution_count": 1,
   "metadata": {},
   "outputs": [],
   "source": [
    "s = 'aabbaccc'"
   ]
  },
  {
   "cell_type": "code",
   "execution_count": 2,
   "metadata": {},
   "outputs": [
    {
     "name": "stdout",
     "output_type": "stream",
     "text": [
      "['a', 'a', 'b', 'b', 'a', 'c', 'c', 'c']\n",
      "['aa', 'bb', 'ac', 'cc']\n",
      "['aab', 'bac', 'cc']\n",
      "['aabb', 'accc']\n"
     ]
    }
   ],
   "source": [
    "for i in range(1, int(len(s) / 2) + 1):\n",
    "    if len(s) % i == 0:\n",
    "        print([s[i * j:  i * (j + 1)] for j in range(int(len(s) / i))])\n",
    "    else:\n",
    "        print([s[i * j:  i * (j + 1)] for j in range(int(len(s) / i) + 1)])\n"
   ]
  },
  {
   "cell_type": "code",
   "execution_count": 3,
   "metadata": {},
   "outputs": [
    {
     "data": {
      "text/plain": [
       "['a', 'a', 'b', 'b', 'a', 'c', 'c', 'c']"
      ]
     },
     "execution_count": 3,
     "metadata": {},
     "output_type": "execute_result"
    }
   ],
   "source": [
    "a = [s[j: j + 1] for j in range(int(len(s) / 1))]\n",
    "a"
   ]
  },
  {
   "cell_type": "code",
   "execution_count": null,
   "metadata": {},
   "outputs": [],
   "source": [
    "while True"
   ]
  }
 ],
 "metadata": {
  "kernelspec": {
   "display_name": "Python 3.10.2 64-bit",
   "language": "python",
   "name": "python3"
  },
  "language_info": {
   "codemirror_mode": {
    "name": "ipython",
    "version": 3
   },
   "file_extension": ".py",
   "mimetype": "text/x-python",
   "name": "python",
   "nbconvert_exporter": "python",
   "pygments_lexer": "ipython3",
   "version": "3.10.2"
  },
  "orig_nbformat": 4,
  "vscode": {
   "interpreter": {
    "hash": "35a709b18549f3821755cf447a624debe2d5757e6152a382261c019f6f81fca7"
   }
  }
 },
 "nbformat": 4,
 "nbformat_minor": 2
}
