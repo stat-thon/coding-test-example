{
 "cells": [
  {
   "cell_type": "markdown",
   "metadata": {},
   "source": [
    "# 프로그래머스 - 문자열 압축"
   ]
  },
  {
   "cell_type": "code",
   "execution_count": 21,
   "metadata": {},
   "outputs": [],
   "source": [
    "s = 'aabbaccc'"
   ]
  },
  {
   "cell_type": "code",
   "execution_count": 41,
   "metadata": {},
   "outputs": [],
   "source": [
    "def solution(s):\n",
    "\n",
    "    def comp_string(s):\n",
    "        iter_c = ''\n",
    "        cnt = 0\n",
    "        result = ''\n",
    "\n",
    "        for c in s:\n",
    "            if c != iter_c:\n",
    "                if cnt > 1: result += str(cnt) + iter_c\n",
    "                elif cnt == 1: result += iter_c\n",
    "                iter_c = c\n",
    "                cnt = 1\n",
    "            else: cnt += 1\n",
    "    \n",
    "        if cnt > 1: result += str(cnt) + iter_c\n",
    "        elif cnt == 1: result += iter_c\n",
    "        return result\n",
    "    \n",
    "    len_list = []\n",
    "    if len(comp_string(s)) == 1:\n",
    "        return 1\n",
    "    else:\n",
    "        for l in range(1, int(len(s) / 2) + 1):\n",
    "            a = [s[i:i + l] for i in range(0, len(s), l)]\n",
    "            len_list.append(len(comp_string(a)))\n",
    "    \n",
    "    return min(len_list)\n"
   ]
  },
  {
   "cell_type": "code",
   "execution_count": 42,
   "metadata": {},
   "outputs": [
    {
     "data": {
      "text/plain": [
       "1"
      ]
     },
     "execution_count": 42,
     "metadata": {},
     "output_type": "execute_result"
    }
   ],
   "source": [
    "solution('s')"
   ]
  }
 ],
 "metadata": {
  "kernelspec": {
   "display_name": "Python 3.10.2 64-bit",
   "language": "python",
   "name": "python3"
  },
  "language_info": {
   "codemirror_mode": {
    "name": "ipython",
    "version": 3
   },
   "file_extension": ".py",
   "mimetype": "text/x-python",
   "name": "python",
   "nbconvert_exporter": "python",
   "pygments_lexer": "ipython3",
   "version": "3.10.2"
  },
  "orig_nbformat": 4,
  "vscode": {
   "interpreter": {
    "hash": "35a709b18549f3821755cf447a624debe2d5757e6152a382261c019f6f81fca7"
   }
  }
 },
 "nbformat": 4,
 "nbformat_minor": 2
}
