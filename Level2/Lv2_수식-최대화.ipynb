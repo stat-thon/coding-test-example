{
 "cells": [
  {
   "cell_type": "markdown",
   "metadata": {},
   "source": [
    "# 프로그래머스 - 수식 최대화"
   ]
  },
  {
   "cell_type": "code",
   "execution_count": 84,
   "metadata": {},
   "outputs": [],
   "source": [
    "expression = \"100-200*300-500+20\""
   ]
  },
  {
   "cell_type": "code",
   "execution_count": 225,
   "metadata": {},
   "outputs": [],
   "source": [
    "abs = lambda n: -n if n < 0  else n\n",
    "\n",
    "def cal_exp(s, new_exp):\n",
    "\n",
    "    new_cal = []\n",
    "    pass_index = -1\n",
    "\n",
    "    for i in range(len(new_exp)):\n",
    "\n",
    "        if pass_index == i:\n",
    "            pass_index = -1\n",
    "\n",
    "        else:\n",
    "            if new_exp[i] != s:\n",
    "                new_cal.append(new_exp[i])\n",
    "            else:\n",
    "                a = new_cal.pop()\n",
    "                if s == '*':\n",
    "                    cal = a * new_exp[i + 1]\n",
    "                elif s == '-':\n",
    "                    cal = a - new_exp[i + 1]\n",
    "                else:\n",
    "                    cal = a + new_exp[i + 1]\n",
    "            \n",
    "                pass_index = i + 1\n",
    "                new_cal.append(int(cal))\n",
    "    \n",
    "    return new_cal\n",
    "\n",
    "def solution(expression):\n",
    "    max_value = 0\n",
    "    new_exp = []\n",
    "    temp = ''\n",
    "    for w in expression:\n",
    "\n",
    "        if w.isdigit():\n",
    "            temp += w\n",
    "        else:\n",
    "            new_exp.append(int(temp))\n",
    "            new_exp.append(w)\n",
    "            temp = ''\n",
    "    \n",
    "    new_exp.append(int(temp))\n",
    "    \n",
    "    from itertools import permutations\n",
    "    for i in permutations(['*', '-', '+'], 3):\n",
    "        max_value = max(max_value, abs(cal_exp(i[0], cal_exp(i[1], cal_exp(i[2], new_exp)))[0]))\n",
    "\n",
    "    return max_value"
   ]
  },
  {
   "cell_type": "code",
   "execution_count": 224,
   "metadata": {},
   "outputs": [
    {
     "data": {
      "text/plain": [
       "60420"
      ]
     },
     "execution_count": 224,
     "metadata": {},
     "output_type": "execute_result"
    }
   ],
   "source": [
    "solution(expression)"
   ]
  }
 ],
 "metadata": {
  "kernelspec": {
   "display_name": "Python 3.10.2 64-bit",
   "language": "python",
   "name": "python3"
  },
  "language_info": {
   "codemirror_mode": {
    "name": "ipython",
    "version": 3
   },
   "file_extension": ".py",
   "mimetype": "text/x-python",
   "name": "python",
   "nbconvert_exporter": "python",
   "pygments_lexer": "ipython3",
   "version": "3.10.2"
  },
  "orig_nbformat": 4,
  "vscode": {
   "interpreter": {
    "hash": "35a709b18549f3821755cf447a624debe2d5757e6152a382261c019f6f81fca7"
   }
  }
 },
 "nbformat": 4,
 "nbformat_minor": 2
}
