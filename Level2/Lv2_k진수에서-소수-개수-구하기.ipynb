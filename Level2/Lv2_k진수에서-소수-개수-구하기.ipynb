{
 "cells": [
  {
   "cell_type": "markdown",
   "metadata": {},
   "source": [
    "# 프로그래머스 - k진수에서 소수 개수 구하기"
   ]
  },
  {
   "cell_type": "code",
   "execution_count": 142,
   "metadata": {},
   "outputs": [],
   "source": [
    "def solution(n, k):\n",
    "    import math\n",
    "\n",
    "    def is_prime(x):\n",
    "        if x == 1: return False\n",
    "        for i in range(2, int(math.sqrt(x)) + 1):\n",
    "            if x % i == 0:\n",
    "                return False\n",
    "        return True\n",
    "\n",
    "    a = ''\n",
    "    while n:\n",
    "        n, l = divmod(n, k)\n",
    "        a = str(l) + a\n",
    "\n",
    "    cnt = 0\n",
    "    while a:\n",
    "        if '0' in a:\n",
    "            if a.index('0') == 0:\n",
    "                a = a[a.index('0') + 1:]\n",
    "            else:\n",
    "                value = int(a[:a.index('0')])\n",
    "                if is_prime(value): cnt += 1\n",
    "                a = a[a.index('0') + 1:]\n",
    "    \n",
    "        else:\n",
    "            if is_prime(int(a)): cnt += 1\n",
    "            break\n",
    "        \n",
    "    return cnt"
   ]
  },
  {
   "cell_type": "code",
   "execution_count": 143,
   "metadata": {},
   "outputs": [
    {
     "data": {
      "text/plain": [
       "3"
      ]
     },
     "execution_count": 143,
     "metadata": {},
     "output_type": "execute_result"
    }
   ],
   "source": [
    "solution(437674, 3)"
   ]
  }
 ],
 "metadata": {
  "kernelspec": {
   "display_name": "Python 3.10.2 64-bit",
   "language": "python",
   "name": "python3"
  },
  "language_info": {
   "codemirror_mode": {
    "name": "ipython",
    "version": 3
   },
   "file_extension": ".py",
   "mimetype": "text/x-python",
   "name": "python",
   "nbconvert_exporter": "python",
   "pygments_lexer": "ipython3",
   "version": "3.10.2"
  },
  "orig_nbformat": 4,
  "vscode": {
   "interpreter": {
    "hash": "35a709b18549f3821755cf447a624debe2d5757e6152a382261c019f6f81fca7"
   }
  }
 },
 "nbformat": 4,
 "nbformat_minor": 2
}
