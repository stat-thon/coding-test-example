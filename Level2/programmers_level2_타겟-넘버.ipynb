{
 "cells": [
  {
   "cell_type": "markdown",
   "metadata": {},
   "source": [
    "# 프로그래머스 - 타겟 넘버"
   ]
  },
  {
   "cell_type": "code",
   "execution_count": 36,
   "metadata": {},
   "outputs": [],
   "source": [
    "numbers = [1, 1, 1, 1, 1]\n",
    "target = 3"
   ]
  },
  {
   "cell_type": "code",
   "execution_count": 67,
   "metadata": {},
   "outputs": [
    {
     "ename": "SyntaxError",
     "evalue": "invalid syntax (1676886562.py, line 1)",
     "output_type": "error",
     "traceback": [
      "\u001b[1;36m  Input \u001b[1;32mIn [67]\u001b[1;36m\u001b[0m\n\u001b[1;33m    [+, -]\u001b[0m\n\u001b[1;37m      ^\u001b[0m\n\u001b[1;31mSyntaxError\u001b[0m\u001b[1;31m:\u001b[0m invalid syntax\n"
     ]
    }
   ],
   "source": [
    "def solution(numbers, target):\n",
    "\n",
    "    from itertools import product\n",
    "\n",
    "    booho = list(product(['+', '-'], repeat = (len(numbers)))) # 0.2초\n",
    "    cnt = 0\n",
    "\n",
    "    for i, pm in enumerate(booho): # 최대 O(2^20 * 20)\n",
    "\n",
    "        each_result = ''\n",
    "\n",
    "        for p, num in zip(pm, numbers):\n",
    "            each_result += p + str(num)\n",
    "            \n",
    "        if eval(each_result) == target: cnt += 1\n",
    "    \n",
    "    return cnt"
   ]
  },
  {
   "cell_type": "code",
   "execution_count": 49,
   "metadata": {},
   "outputs": [],
   "source": [
    "# 테스트1, 2 시간초과\n",
    "def solution(numbers, target):\n",
    "\n",
    "    from itertools import product\n",
    "\n",
    "    booho = list(product(['+', '-'], repeat = (len(numbers)))) # 0.2초\n",
    "    cnt = 0\n",
    "\n",
    "    for i, pm in enumerate(booho): # 최대 O(2^20 * 20)\n",
    "\n",
    "        each_result = ''\n",
    "\n",
    "        for p, num in zip(pm, numbers):\n",
    "            each_result += p + str(num)\n",
    "            \n",
    "        if eval(each_result) == target: cnt += 1\n",
    "    \n",
    "    return cnt"
   ]
  },
  {
   "cell_type": "code",
   "execution_count": 50,
   "metadata": {},
   "outputs": [
    {
     "data": {
      "text/plain": [
       "5"
      ]
     },
     "execution_count": 50,
     "metadata": {},
     "output_type": "execute_result"
    }
   ],
   "source": [
    "solution(numbers, target)"
   ]
  }
 ],
 "metadata": {
  "kernelspec": {
   "display_name": "Python 3.10.2 64-bit",
   "language": "python",
   "name": "python3"
  },
  "language_info": {
   "codemirror_mode": {
    "name": "ipython",
    "version": 3
   },
   "file_extension": ".py",
   "mimetype": "text/x-python",
   "name": "python",
   "nbconvert_exporter": "python",
   "pygments_lexer": "ipython3",
   "version": "3.10.2"
  },
  "orig_nbformat": 4,
  "vscode": {
   "interpreter": {
    "hash": "35a709b18549f3821755cf447a624debe2d5757e6152a382261c019f6f81fca7"
   }
  }
 },
 "nbformat": 4,
 "nbformat_minor": 2
}
