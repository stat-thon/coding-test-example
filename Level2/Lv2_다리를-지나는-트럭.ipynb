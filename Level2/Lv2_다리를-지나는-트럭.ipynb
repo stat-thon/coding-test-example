{
 "cells": [
  {
   "cell_type": "markdown",
   "metadata": {},
   "source": [
    "# 프로그래머스 - 다리를 지나는 트럭"
   ]
  },
  {
   "cell_type": "code",
   "execution_count": 1,
   "metadata": {},
   "outputs": [],
   "source": [
    "bridge_length = 2\n",
    "weight = 10\n",
    "truck_weights = [7, 4, 5, 6]"
   ]
  },
  {
   "cell_type": "code",
   "execution_count": 4,
   "metadata": {},
   "outputs": [],
   "source": [
    "from collections import deque\n",
    "\n",
    "def solution(bridge_length, weight, truck_weights):\n",
    "\n",
    "    waiting = deque(truck_weights)\n",
    "    on_bridge = deque([0] * bridge_length)\n",
    "    passed = 0\n",
    "    time = 0\n",
    "\n",
    "    while passed != sum(truck_weights):\n",
    "\n",
    "        if waiting == deque():\n",
    "            time += bridge_length\n",
    "            break\n",
    "        else:\n",
    "            truck = waiting.popleft()\n",
    "\n",
    "        while sum(on_bridge) + truck > weight:\n",
    "            truck_passed = on_bridge.popleft()\n",
    "            on_bridge.append(0)\n",
    "            time += 1\n",
    "            passed += truck_passed\n",
    "            if sum(on_bridge) == 0:\n",
    "                time -= 1\n",
    "\n",
    "        truck_passed = on_bridge.popleft()\n",
    "        on_bridge.append(truck)\n",
    "        time += 1\n",
    "        passed += truck_passed\n",
    "\n",
    "    return time\n"
   ]
  },
  {
   "cell_type": "code",
   "execution_count": 22,
   "metadata": {},
   "outputs": [
    {
     "name": "stdout",
     "output_type": "stream",
     "text": [
      "deque([0, 7])\n",
      "deque([0, 4])\n",
      "deque([4, 5])\n",
      "deque([0, 6])\n",
      "8\n"
     ]
    }
   ],
   "source": [
    "from collections import deque\n",
    "waiting = deque(truck_weights)\n",
    "on_bridge = deque([0] * bridge_length)\n",
    "time = 0\n",
    "\n",
    "while waiting:\n",
    "\n",
    "    truck = waiting.popleft() # 대기 트럭\n",
    "\n",
    "    if sum(on_bridge) + truck <= weight: # 중량초과 아니면\n",
    "        on_bridge.popleft()\n",
    "        on_bridge.append(truck)\n",
    "        time += 1\n",
    "    else:\n",
    "        while sum(on_bridge) + truck > weight:\n",
    "            on_bridge.popleft()\n",
    "            on_bridge.append(0)\n",
    "            time += 1\n",
    "        on_bridge.popleft()\n",
    "        on_bridge.append(truck)\n",
    "        time += 1\n",
    "\n",
    "    print(on_bridge)\n",
    "\n",
    "print(time)\n"
   ]
  },
  {
   "cell_type": "code",
   "execution_count": null,
   "metadata": {},
   "outputs": [],
   "source": [
    "# 이 문제에 너무 시간을 많이 써서 다른 사람 풀이 참고\n",
    "from collections import deque\n",
    "\n",
    "def solution(bridge_length, weight, truck_weights):\n",
    "\n",
    "    on_bridge = deque([0] * bridge_length)\n",
    "    waiting = deque(truck_weights)\n",
    "    \n",
    "    time = 0\n",
    "    total = 0 # 다리 위에 남아있는 트럭의 무게 합\n",
    "\n",
    "    while waiting:\n",
    "\n",
    "        time += 1\n",
    "        total -= on_bridge[0] # 나갈 트럭이니까 total에서 무게 빼줌\n",
    "        on_bridge.popleft()\n",
    "\n",
    "        if total + waiting[0] > weight:\n",
    "            on_bridge.append(0)\n",
    "        else:\n",
    "            truck = waiting.popleft()\n",
    "            total += truck # 다링 위에 새로 온 트럭 무게 더해줌\n",
    "            on_bridge.append(truck)\n",
    "\n",
    "    return time + bridge_length\n"
   ]
  }
 ],
 "metadata": {
  "kernelspec": {
   "display_name": "Python 3.10.2 64-bit",
   "language": "python",
   "name": "python3"
  },
  "language_info": {
   "codemirror_mode": {
    "name": "ipython",
    "version": 3
   },
   "file_extension": ".py",
   "mimetype": "text/x-python",
   "name": "python",
   "nbconvert_exporter": "python",
   "pygments_lexer": "ipython3",
   "version": "3.10.2"
  },
  "orig_nbformat": 4,
  "vscode": {
   "interpreter": {
    "hash": "35a709b18549f3821755cf447a624debe2d5757e6152a382261c019f6f81fca7"
   }
  }
 },
 "nbformat": 4,
 "nbformat_minor": 2
}
