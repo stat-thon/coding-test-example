{
 "cells": [
  {
   "cell_type": "markdown",
   "metadata": {},
   "source": [
    "# 프로그래머스 - 다리를 지나는 트럭"
   ]
  },
  {
   "cell_type": "code",
   "execution_count": 1,
   "metadata": {},
   "outputs": [],
   "source": [
    "bridge_length = 2\n",
    "weight = 10\n",
    "truck_weights = [7, 4, 5, 6]"
   ]
  },
  {
   "cell_type": "code",
   "execution_count": 4,
   "metadata": {},
   "outputs": [],
   "source": [
    "from collections import deque\n",
    "\n",
    "def solution(bridge_length, weight, truck_weights):\n",
    "\n",
    "    waiting = deque(truck_weights)\n",
    "    on_bridge = deque([0] * bridge_length)\n",
    "    passed = 0\n",
    "    time = 0\n",
    "\n",
    "    while passed != sum(truck_weights):\n",
    "\n",
    "        if waiting == deque():\n",
    "            time += bridge_length\n",
    "            break\n",
    "        else:\n",
    "            truck = waiting.popleft()\n",
    "\n",
    "        while sum(on_bridge) + truck > weight:\n",
    "            truck_passed = on_bridge.popleft()\n",
    "            on_bridge.append(0)\n",
    "            time += 1\n",
    "            passed += truck_passed\n",
    "            if sum(on_bridge) == 0:\n",
    "                time -= 1\n",
    "\n",
    "        truck_passed = on_bridge.popleft()\n",
    "        on_bridge.append(truck)\n",
    "        time += 1\n",
    "        passed += truck_passed\n",
    "\n",
    "    return time\n"
   ]
  },
  {
   "cell_type": "code",
   "execution_count": 5,
   "metadata": {},
   "outputs": [
    {
     "data": {
      "text/plain": [
       "101"
      ]
     },
     "execution_count": 5,
     "metadata": {},
     "output_type": "execute_result"
    }
   ],
   "source": [
    "solution(100, 100, [10])"
   ]
  },
  {
   "cell_type": "code",
   "execution_count": 8,
   "metadata": {},
   "outputs": [
    {
     "name": "stdout",
     "output_type": "stream",
     "text": [
      "8\n"
     ]
    }
   ],
   "source": [
    "#bridge_length, weight = 100, 100\n",
    "#truck_weights = [10] * 10\n",
    "\n",
    "from collections import deque\n",
    "\n",
    "waiting = deque(truck_weights)\n",
    "on_bridge = deque([0] * bridge_length)\n",
    "passed = 0\n",
    "time = 0\n",
    "\n",
    "while passed != sum(truck_weights):\n",
    "\n",
    "    if waiting == deque():\n",
    "        time += bridge_length\n",
    "        break\n",
    "    else:\n",
    "        truck = waiting.popleft()\n",
    "\n",
    "    while sum(on_bridge) + truck > weight:\n",
    "        truck_passed = on_bridge.popleft()\n",
    "        on_bridge.append(0)\n",
    "        time += 1\n",
    "        passed += truck_passed\n",
    "        if sum(on_bridge) == 0:\n",
    "            time -= 1\n",
    "\n",
    "    truck_passed = on_bridge.popleft()\n",
    "    on_bridge.append(truck)\n",
    "    time += 1   \n",
    "    passed += truck_passed\n",
    "\n",
    "print(time)\n"
   ]
  },
  {
   "cell_type": "code",
   "execution_count": 2,
   "metadata": {},
   "outputs": [
    {
     "ename": "IndexError",
     "evalue": "pop from an empty deque",
     "output_type": "error",
     "traceback": [
      "\u001b[1;31m---------------------------------------------------------------------------\u001b[0m",
      "\u001b[1;31mIndexError\u001b[0m                                Traceback (most recent call last)",
      "\u001b[1;32md:\\thon\\coding-test-example\\Level2\\Lv2_다리를-지나는-트럭.ipynb 셀 6\u001b[0m in \u001b[0;36m<cell line: 11>\u001b[1;34m()\u001b[0m\n\u001b[0;32m     <a href='vscode-notebook-cell:/d%3A/thon/coding-test-example/Level2/Lv2_%EB%8B%A4%EB%A6%AC%EB%A5%BC-%EC%A7%80%EB%82%98%EB%8A%94-%ED%8A%B8%EB%9F%AD.ipynb#X12sZmlsZQ%3D%3D?line=21'>22</a>\u001b[0m     passed \u001b[39m+\u001b[39m\u001b[39m=\u001b[39m truck_passed\n\u001b[0;32m     <a href='vscode-notebook-cell:/d%3A/thon/coding-test-example/Level2/Lv2_%EB%8B%A4%EB%A6%AC%EB%A5%BC-%EC%A7%80%EB%82%98%EB%8A%94-%ED%8A%B8%EB%9F%AD.ipynb#X12sZmlsZQ%3D%3D?line=22'>23</a>\u001b[0m \u001b[39melse\u001b[39;00m:\n\u001b[1;32m---> <a href='vscode-notebook-cell:/d%3A/thon/coding-test-example/Level2/Lv2_%EB%8B%A4%EB%A6%AC%EB%A5%BC-%EC%A7%80%EB%82%98%EB%8A%94-%ED%8A%B8%EB%9F%AD.ipynb#X12sZmlsZQ%3D%3D?line=23'>24</a>\u001b[0m     truck_passed \u001b[39m=\u001b[39m on_bridge\u001b[39m.\u001b[39;49mpopleft()\n\u001b[0;32m     <a href='vscode-notebook-cell:/d%3A/thon/coding-test-example/Level2/Lv2_%EB%8B%A4%EB%A6%AC%EB%A5%BC-%EC%A7%80%EB%82%98%EB%8A%94-%ED%8A%B8%EB%9F%AD.ipynb#X12sZmlsZQ%3D%3D?line=24'>25</a>\u001b[0m     on_bridge\u001b[39m.\u001b[39mappend(truck)\n\u001b[0;32m     <a href='vscode-notebook-cell:/d%3A/thon/coding-test-example/Level2/Lv2_%EB%8B%A4%EB%A6%AC%EB%A5%BC-%EC%A7%80%EB%82%98%EB%8A%94-%ED%8A%B8%EB%9F%AD.ipynb#X12sZmlsZQ%3D%3D?line=25'>26</a>\u001b[0m     time \u001b[39m+\u001b[39m\u001b[39m=\u001b[39m \u001b[39m1\u001b[39m   \n",
      "\u001b[1;31mIndexError\u001b[0m: pop from an empty deque"
     ]
    }
   ],
   "source": [
    "#bridge_length, weight = 100, 100\n",
    "#truck_weights = [10] * 10\n",
    "\n",
    "from collections import deque\n",
    "\n",
    "waiting = deque(truck_weights)\n",
    "on_bridge = deque()\n",
    "passed = 0\n",
    "time = 0\n",
    "\n",
    "while passed != sum(truck_weights):\n",
    "\n",
    "    if waiting == deque():\n",
    "        time += bridge_length\n",
    "        break\n",
    "    else:\n",
    "        truck = waiting.popleft()\n",
    "\n",
    "    if sum(on_bridge) + truck > weight:\n",
    "        truck_passed = on_bridge.popleft()\n",
    "        time += bridge_length\n",
    "        passed += truck_passed\n",
    "    else:\n",
    "        on_bridge.append(truck)\n",
    "        time += 1   \n",
    "        passed += truck_passed\n",
    "\n",
    "print(time)\n"
   ]
  },
  {
   "cell_type": "code",
   "execution_count": 22,
   "metadata": {},
   "outputs": [
    {
     "name": "stdout",
     "output_type": "stream",
     "text": [
      "deque([0, 7])\n",
      "deque([0, 4])\n",
      "deque([4, 5])\n",
      "deque([0, 6])\n",
      "8\n"
     ]
    }
   ],
   "source": [
    "from collections import deque\n",
    "waiting = deque(truck_weights)\n",
    "on_bridge = deque([0] * bridge_length)\n",
    "time = 0\n",
    "\n",
    "while waiting:\n",
    "\n",
    "    truck = waiting.popleft() # 대기 트럭\n",
    "\n",
    "    if sum(on_bridge) + truck <= weight: # 중량초과 아니면\n",
    "        on_bridge.popleft()\n",
    "        on_bridge.append(truck)\n",
    "        time += 1\n",
    "    else:\n",
    "        while sum(on_bridge) + truck > weight:\n",
    "            on_bridge.popleft()\n",
    "            on_bridge.append(0)\n",
    "            time += 1\n",
    "        on_bridge.popleft()\n",
    "        on_bridge.append(truck)\n",
    "        time += 1\n",
    "\n",
    "    print(on_bridge)\n",
    "\n",
    "print(time)\n"
   ]
  }
 ],
 "metadata": {
  "kernelspec": {
   "display_name": "Python 3.10.2 64-bit",
   "language": "python",
   "name": "python3"
  },
  "language_info": {
   "codemirror_mode": {
    "name": "ipython",
    "version": 3
   },
   "file_extension": ".py",
   "mimetype": "text/x-python",
   "name": "python",
   "nbconvert_exporter": "python",
   "pygments_lexer": "ipython3",
   "version": "3.10.2"
  },
  "orig_nbformat": 4,
  "vscode": {
   "interpreter": {
    "hash": "35a709b18549f3821755cf447a624debe2d5757e6152a382261c019f6f81fca7"
   }
  }
 },
 "nbformat": 4,
 "nbformat_minor": 2
}
