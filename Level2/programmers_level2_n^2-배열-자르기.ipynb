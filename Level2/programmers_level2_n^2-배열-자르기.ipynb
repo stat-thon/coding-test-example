{
 "cells": [
  {
   "cell_type": "markdown",
   "metadata": {},
   "source": [
    "# 프로그래머스 - n^2 배열 자르기"
   ]
  },
  {
   "cell_type": "code",
   "execution_count": 1,
   "metadata": {},
   "outputs": [],
   "source": [
    "n = 3\n",
    "left = 2\n",
    "right = 5"
   ]
  },
  {
   "cell_type": "code",
   "execution_count": 75,
   "metadata": {},
   "outputs": [],
   "source": [
    "def solution(n, left, right):\n",
    "    m1, n1 = divmod(left, n)\n",
    "    m2, n2 = divmod(right, n)\n",
    "    if m1 != m2:\n",
    "        arr = [j + 1 if i <= j else i + 1 for j in range(m1 + 1, m2) for i in range(n)]\n",
    "        left_arr = [m1 + 1 if i <= m1 else i + 1 for i in range(n) if i >= n1]\n",
    "        right_arr = [m2 + 1 if i <= m2 else i + 1 for i in range(n) if i <= n2]\n",
    "        result = left_arr + arr + right_arr\n",
    "    else:\n",
    "        result = [m1 + 1 if i <= m1 else i + 1 for i in range(n) if i >= n1 and i <= n2]\n",
    "\n",
    "    return result\n"
   ]
  }
 ],
 "metadata": {
  "kernelspec": {
   "display_name": "Python 3.10.2 64-bit",
   "language": "python",
   "name": "python3"
  },
  "language_info": {
   "codemirror_mode": {
    "name": "ipython",
    "version": 3
   },
   "file_extension": ".py",
   "mimetype": "text/x-python",
   "name": "python",
   "nbconvert_exporter": "python",
   "pygments_lexer": "ipython3",
   "version": "3.10.2"
  },
  "orig_nbformat": 4,
  "vscode": {
   "interpreter": {
    "hash": "35a709b18549f3821755cf447a624debe2d5757e6152a382261c019f6f81fca7"
   }
  }
 },
 "nbformat": 4,
 "nbformat_minor": 2
}
