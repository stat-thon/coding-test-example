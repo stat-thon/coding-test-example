{
 "cells": [
  {
   "cell_type": "markdown",
   "metadata": {},
   "source": [
    "# 프로그래머스 - 조이스틱"
   ]
  },
  {
   "cell_type": "code",
   "execution_count": 1,
   "metadata": {},
   "outputs": [],
   "source": [
    "name = 'AABBAAA'"
   ]
  },
  {
   "cell_type": "code",
   "execution_count": 8,
   "metadata": {},
   "outputs": [],
   "source": [
    "def solution(name):\n",
    "\n",
    "    if set(name) == {'A'}:\n",
    "        return 0\n",
    "\n",
    "    answer = float('inf')\n",
    "\n",
    "    # 한 쪽으로 갔다가 다시 반대쪽으로 움직였을 때를 고려하기 위한 반복\n",
    "    for i in range(len(name) // 2): # 고로 전체 문자열의 반 이상 움직일 필요 없음\n",
    "\n",
    "        left_moved = name[-i:] + name[:-i] # 왼쪽으로 이동하다가 오른쪽으로 이동하는 것을 고려하려고 사용\n",
    "        right_moved = name[i:] + name[:i] # 오른쪽으로 이동하다가 왼쪽으로 이동하는 것을 고려하려고 사용\n",
    "\n",
    "        # 왼->오, 오->왼을 모두 고려\n",
    "        for n in [left_moved, right_moved[0] + right_moved[:0:-1]]:\n",
    "\n",
    "            # 마지막 글자가 A가 아닐 때까지 우측에서 한칸씩 줄임\n",
    "            while n and n[-1] == 'A':\n",
    "                n = n[:-1]\n",
    "\n",
    "            row_move = i + len(n) - 1 # i는 한쪽으로 움직인 카운트, len(n) - 1이 다시 반대쪽으로 움직였을 때 카운트\n",
    "            \n",
    "            # 상하 움직임 카운트\n",
    "            col_move = 0\n",
    "            for c in map(ord, n):\n",
    "                col_move += min(c - 65, 91 - c)\n",
    "\n",
    "            answer = min(answer, row_move + col_move)\n",
    "\n",
    "    return answer"
   ]
  },
  {
   "cell_type": "code",
   "execution_count": 10,
   "metadata": {},
   "outputs": [],
   "source": [
    "name = 'ABABAAAAABA'"
   ]
  },
  {
   "cell_type": "code",
   "execution_count": 61,
   "metadata": {},
   "outputs": [],
   "source": [
    "def make_dist(name):\n",
    "    ind_node = [i for i, n in enumerate(name) if i == 0 or n != 'A']\n",
    "    \n",
    "    graph = []\n",
    "    for i in range(len(ind_node)):\n",
    "        dist = []\n",
    "        for j in range(len(ind_node)):\n",
    "            if i < j:\n",
    "                dist.append(min(ind_node[j] - ind_node[i], ind_node[i] + len(name) - ind_node[j]))\n",
    "            elif i > j:\n",
    "                dist.append(min(ind_node[i] - ind_node[j], ind_node[j] + len(name) - ind_node[i]))\n",
    "            else:\n",
    "                dist.append(0)\n",
    "\n",
    "        graph.append(dist)\n",
    "\n",
    "    return graph, ind_node"
   ]
  },
  {
   "cell_type": "code",
   "execution_count": 62,
   "metadata": {},
   "outputs": [
    {
     "name": "stdout",
     "output_type": "stream",
     "text": [
      "[[0, 1, 3, 2], [1, 0, 2, 3], [3, 2, 0, 5], [2, 3, 5, 0]]\n",
      "[0, 1, 3, 9]\n"
     ]
    }
   ],
   "source": [
    "a, b = make_dist(name)\n",
    "print(a)\n",
    "print(b)"
   ]
  },
  {
   "cell_type": "code",
   "execution_count": 66,
   "metadata": {},
   "outputs": [
    {
     "name": "stdout",
     "output_type": "stream",
     "text": [
      "7\n"
     ]
    }
   ],
   "source": [
    "dist, node = make_dist(name)\n",
    "check = [0] * len(node)\n",
    "MIN = 1e8\n",
    "\n",
    "def DFS(level, start, dist):\n",
    "    \n",
    "    # level은 끊어주려고, 넣은듯\n",
    "\n",
    "    global MIN\n",
    "    \n",
    "    # 이 DFS는 거리를 최소화하는 것이 목적 -> 노드를 도는 중간에 측정한 거리가 최솟값보다 크면 break (return).\n",
    "    if dist > MIN :\n",
    "        return\n",
    "    \n",
    "    # 노드를 다 돌았을 때, 측정한 거리가 함수 밖에 기록된 최솟값보다 작으면 새로 기록\n",
    "    if level == len(node):\n",
    "\n",
    "        if dist < MIN:\n",
    "            MIN = dist\n",
    "            return\n",
    "    \n",
    "    # 노드를 다 돌지 않았다면 다 돌때까지 반복해야됨\n",
    "    else:\n",
    "\n",
    "        for i in range(len(node)):\n",
    "\n",
    "            if check[i] == 0: # 아직 방문 안 한 노드만 방문\n",
    "\n",
    "                check[i] = 1 # 방문한거로 표시\n",
    "                DFS(level + 1, i, dist + dist[start][i]) # level + 1 하고, 거리도 더함\n",
    "                check[i] = 0 # 방문 안 했다고 되돌려놓아야 다음 iter에서 할 수 있어서 그랬구나\n",
    "\n",
    "DFS(0, 0, 0)\n",
    "print(MIN)"
   ]
  }
 ],
 "metadata": {
  "kernelspec": {
   "display_name": "Python 3.10.2 64-bit",
   "language": "python",
   "name": "python3"
  },
  "language_info": {
   "codemirror_mode": {
    "name": "ipython",
    "version": 3
   },
   "file_extension": ".py",
   "mimetype": "text/x-python",
   "name": "python",
   "nbconvert_exporter": "python",
   "pygments_lexer": "ipython3",
   "version": "3.10.2"
  },
  "orig_nbformat": 4,
  "vscode": {
   "interpreter": {
    "hash": "35a709b18549f3821755cf447a624debe2d5757e6152a382261c019f6f81fca7"
   }
  }
 },
 "nbformat": 4,
 "nbformat_minor": 2
}
