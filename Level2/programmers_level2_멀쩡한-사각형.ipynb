{
 "cells": [
  {
   "cell_type": "markdown",
   "metadata": {},
   "source": [
    "# 프로그래머스 - 멀쩡한 사각형"
   ]
  },
  {
   "cell_type": "code",
   "execution_count": 13,
   "metadata": {},
   "outputs": [],
   "source": [
    "W, H = 8, 12"
   ]
  },
  {
   "cell_type": "code",
   "execution_count": 50,
   "metadata": {},
   "outputs": [],
   "source": [
    "def solution(W, H):\n",
    "    \n",
    "    def gcd_lcm(a, b): # 유클리드 호제법\n",
    "        p, q = max(a, b), min(a, b)\n",
    "        while q:\n",
    "            p, q = q, p % q\n",
    "    \n",
    "        return (p, a * b // p)\n",
    "    \n",
    "    gcd, lcm = gcd_lcm(W, H)\n",
    "    y, x = max(W, H) // gcd, min(W, H) // gcd\n",
    "    num_rep = lcm // y\n",
    "\n",
    "    cnt = lcm // x\n",
    "\n",
    "    edit_cnt = 0\n",
    "    \n",
    "    for i in range(1, num_rep + 1):\n",
    "        if (y * i) % x != 0: edit_cnt += 1\n",
    "    \n",
    "    return W * H - cnt - edit_cnt\n",
    "\n"
   ]
  },
  {
   "cell_type": "code",
   "execution_count": 51,
   "metadata": {},
   "outputs": [
    {
     "data": {
      "text/plain": [
       "80"
      ]
     },
     "execution_count": 51,
     "metadata": {},
     "output_type": "execute_result"
    }
   ],
   "source": [
    "solution(8, 12)"
   ]
  }
 ],
 "metadata": {
  "kernelspec": {
   "display_name": "Python 3.10.2 64-bit",
   "language": "python",
   "name": "python3"
  },
  "language_info": {
   "codemirror_mode": {
    "name": "ipython",
    "version": 3
   },
   "file_extension": ".py",
   "mimetype": "text/x-python",
   "name": "python",
   "nbconvert_exporter": "python",
   "pygments_lexer": "ipython3",
   "version": "3.10.2"
  },
  "orig_nbformat": 4,
  "vscode": {
   "interpreter": {
    "hash": "35a709b18549f3821755cf447a624debe2d5757e6152a382261c019f6f81fca7"
   }
  }
 },
 "nbformat": 4,
 "nbformat_minor": 2
}
