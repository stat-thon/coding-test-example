{
 "cells": [
  {
   "cell_type": "markdown",
   "metadata": {},
   "source": [
    "# 프로그래머스 - 양궁대회"
   ]
  },
  {
   "cell_type": "code",
   "execution_count": 1,
   "metadata": {},
   "outputs": [],
   "source": [
    "n = 5\n",
    "info = [2,1,1,1,0,0,0,0,0,0,0]"
   ]
  },
  {
   "cell_type": "code",
   "execution_count": 76,
   "metadata": {},
   "outputs": [],
   "source": [
    "def solution(n, info):\n",
    "\n",
    "    def lower_score_comp(a, b):\n",
    "        for i in range(10, -1, -1):\n",
    "            if a[i] == b[i]: pass\n",
    "            elif a[i] > b[i]: return a\n",
    "            elif a[i] < b[i]: return b\n",
    "\n",
    "\n",
    "    from itertools import combinations_with_replacement\n",
    "    from collections import Counter\n",
    "\n",
    "    score = [i for i in range(10, -1, -1)]\n",
    "    max_diff = 0\n",
    "    remember = [0] * 11\n",
    "\n",
    "    for i in combinations_with_replacement(score, n):\n",
    "    \n",
    "        a = Counter(i)\n",
    "        ryan_info = [0] * 11\n",
    "\n",
    "        for j in range(11):\n",
    "            if j in a.keys():\n",
    "                ryan_info[10 - j] = a[j]\n",
    "    \n",
    "        app_score, ryan_score = 0, 0\n",
    "        for app, ryan in zip(enumerate(info), enumerate(ryan_info)):\n",
    "            if app[1] == 0 and ryan[1] == 0:\n",
    "                pass\n",
    "            else:\n",
    "                if app[1] >= ryan[1]:\n",
    "                    app_score += 10 - app[0]\n",
    "                else:\n",
    "                    ryan_score += 10 - ryan[0]\n",
    "                    \n",
    "        score_diff = max(ryan_score - app_score, 0)\n",
    "\n",
    "        if max_diff < score_diff:\n",
    "            max_diff = score_diff\n",
    "            remember = ryan_info\n",
    "        elif max_diff == score_diff:\n",
    "            remember = lower_score_comp(remember, ryan_info)\n",
    "    \n",
    "    if max_diff == 0:\n",
    "        return [-1]\n",
    "\n",
    "    return remember"
   ]
  },
  {
   "cell_type": "code",
   "execution_count": 77,
   "metadata": {},
   "outputs": [
    {
     "data": {
      "text/plain": [
       "[1, 1, 2, 0, 1, 2, 2, 0, 0, 0, 0]"
      ]
     },
     "execution_count": 77,
     "metadata": {},
     "output_type": "execute_result"
    }
   ],
   "source": [
    "solution(9, [0,0,1,2,0,1,1,1,1,1,1])"
   ]
  }
 ],
 "metadata": {
  "kernelspec": {
   "display_name": "Python 3.10.2 64-bit",
   "language": "python",
   "name": "python3"
  },
  "language_info": {
   "codemirror_mode": {
    "name": "ipython",
    "version": 3
   },
   "file_extension": ".py",
   "mimetype": "text/x-python",
   "name": "python",
   "nbconvert_exporter": "python",
   "pygments_lexer": "ipython3",
   "version": "3.10.2"
  },
  "orig_nbformat": 4,
  "vscode": {
   "interpreter": {
    "hash": "35a709b18549f3821755cf447a624debe2d5757e6152a382261c019f6f81fca7"
   }
  }
 },
 "nbformat": 4,
 "nbformat_minor": 2
}
