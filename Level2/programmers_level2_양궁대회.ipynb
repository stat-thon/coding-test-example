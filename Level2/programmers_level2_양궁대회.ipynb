{
 "cells": [
  {
   "cell_type": "markdown",
   "metadata": {},
   "source": [
    "# 프로그래머스 - 양궁대회"
   ]
  },
  {
   "cell_type": "code",
   "execution_count": 1,
   "metadata": {},
   "outputs": [],
   "source": [
    "n = 5\n",
    "info = [2,1,1,1,0,0,0,0,0,0,0]"
   ]
  },
  {
   "cell_type": "code",
   "execution_count": 58,
   "metadata": {},
   "outputs": [],
   "source": [
    "def solution(n, info):\n",
    "    from itertools import combinations_with_replacement\n",
    "    from collections import Counter\n",
    "    \n",
    "    score = [i for i in range(10, -1, -1)]\n",
    "    max_diff = 0\n",
    "    for i in combinations_with_replacement(score, n):\n",
    "    \n",
    "        a = Counter(i)\n",
    "        ryan_info = [0] * 11\n",
    "\n",
    "        for j in range(11):\n",
    "            if j in a.keys():\n",
    "                ryan_info[10 - j] = a[j]\n",
    "    \n",
    "        app_score, ryan_score = 0, 0\n",
    "        for app, ryan in zip(enumerate(info), enumerate(ryan_info)):\n",
    "            if app[1] == 0 and ryan[1] == 0:\n",
    "                pass\n",
    "            else:\n",
    "                if app[1] >= ryan[1]:\n",
    "                    app_score += 10 - app[0]\n",
    "                else:\n",
    "                    ryan_score += 10 - ryan[0]\n",
    "        \n",
    "        if max(ryan_score - app_score, 0) == max(max_diff, max(ryan_score - app_score, 0)):\n",
    "            max_diff = max(ryan_score - app_score, 0)\n",
    "            remember = ryan_info\n",
    "            \n",
    "    # 점수 차이가 같은 경우 낮은 점수에 맞춘 벡터를 리턴하지 않아서\n",
    "    \n",
    "    if max_diff == 0:\n",
    "        return [-1]\n",
    "\n",
    "    return remember"
   ]
  },
  {
   "cell_type": "code",
   "execution_count": 62,
   "metadata": {},
   "outputs": [
    {
     "data": {
      "text/plain": [
       "[1, 0, 2, 0, 0, 0, 0, 0, 0, 0, 0]"
      ]
     },
     "execution_count": 62,
     "metadata": {},
     "output_type": "execute_result"
    }
   ],
   "source": [
    "solution(3, [0,0,1,0,0,0,0,0,0,1,1])"
   ]
  },
  {
   "cell_type": "code",
   "execution_count": 52,
   "metadata": {},
   "outputs": [
    {
     "name": "stdout",
     "output_type": "stream",
     "text": [
      "6 [0, 2, 2, 0, 1, 0, 0, 0, 0, 0, 0]\n"
     ]
    }
   ],
   "source": [
    "from itertools import combinations_with_replacement\n",
    "from collections import Counter\n",
    "\n",
    "max_diff = 0\n",
    "for i in combinations_with_replacement(score, 5):\n",
    "    \n",
    "    a = Counter(i)\n",
    "    ryan_info = [0] * 11\n",
    "\n",
    "    for j in range(11):\n",
    "        if j in a.keys():\n",
    "            ryan_info[10 - j] = a[j]\n",
    "    \n",
    "    app_score, ryan_score = 0, 0\n",
    "    for app, ryan in zip(enumerate(info), enumerate(ryan_info)):\n",
    "        if app[1] == 0 and ryan[1] == 0:\n",
    "            pass\n",
    "        else:\n",
    "            if app[1] >= ryan[1]:\n",
    "                app_score += 10 - app[0]\n",
    "            else:\n",
    "                ryan_score += 10 - ryan[0]\n",
    "        \n",
    "    if max(ryan_score - app_score, 0) == max(max_diff, max(ryan_score - app_score, 0)):\n",
    "        max_diff = max(ryan_score - app_score, 0)\n",
    "        remember = ryan_info\n",
    "\n",
    "print(max_diff, remember)\n",
    "    "
   ]
  }
 ],
 "metadata": {
  "kernelspec": {
   "display_name": "Python 3.10.2 64-bit",
   "language": "python",
   "name": "python3"
  },
  "language_info": {
   "codemirror_mode": {
    "name": "ipython",
    "version": 3
   },
   "file_extension": ".py",
   "mimetype": "text/x-python",
   "name": "python",
   "nbconvert_exporter": "python",
   "pygments_lexer": "ipython3",
   "version": "3.10.2"
  },
  "orig_nbformat": 4,
  "vscode": {
   "interpreter": {
    "hash": "35a709b18549f3821755cf447a624debe2d5757e6152a382261c019f6f81fca7"
   }
  }
 },
 "nbformat": 4,
 "nbformat_minor": 2
}
