{
 "cells": [
  {
   "cell_type": "markdown",
   "metadata": {},
   "source": [
    "# 프로그래머스 - 순위 검색"
   ]
  },
  {
   "cell_type": "code",
   "execution_count": 2,
   "metadata": {},
   "outputs": [],
   "source": [
    "info = [\"java backend junior pizza 150\",\"python frontend senior chicken 210\",\"python frontend senior chicken 150\",\"cpp backend senior pizza 260\",\"java backend junior chicken 80\",\"python backend senior chicken 50\"]\n",
    "query = [\"java and backend and junior and pizza 100\",\"python and frontend and senior and chicken 200\",\"cpp and - and senior and pizza 250\",\"- and backend and senior and - 150\",\"- and - and - and chicken 100\",\"- and - and - and - 150\"]"
   ]
  },
  {
   "cell_type": "code",
   "execution_count": 93,
   "metadata": {},
   "outputs": [],
   "source": [
    "def solution(info, query):\n",
    "    \n",
    "    a = [i.split() for i in info]\n",
    "    b = [i.replace('and', '').split() for i in query]\n",
    "    result = []\n",
    "    for cond in b:\n",
    "\n",
    "        cnt_p = 0\n",
    "\n",
    "        for p in a:\n",
    "\n",
    "            score = 0\n",
    "            for i in range(5):\n",
    "                if i != 4:\n",
    "                    if cond[i] == '-':\n",
    "                        score += 1\n",
    "                    else:\n",
    "                        if cond[i] == p[i]:\n",
    "                            score += 1\n",
    "                else:\n",
    "                    if int(cond[i]) <= int(p[i]):\n",
    "                        score += 1\n",
    "            \n",
    "            if score == 5:\n",
    "                cnt_p += 1\n",
    "    \n",
    "        result.append(cnt_p)\n",
    "\n",
    "    return result"
   ]
  },
  {
   "cell_type": "code",
   "execution_count": 94,
   "metadata": {},
   "outputs": [
    {
     "data": {
      "text/plain": [
       "[1, 1, 1, 1, 2, 4]"
      ]
     },
     "execution_count": 94,
     "metadata": {},
     "output_type": "execute_result"
    }
   ],
   "source": [
    "solution(info, query)"
   ]
  }
 ],
 "metadata": {
  "kernelspec": {
   "display_name": "Python 3.10.2 64-bit",
   "language": "python",
   "name": "python3"
  },
  "language_info": {
   "codemirror_mode": {
    "name": "ipython",
    "version": 3
   },
   "file_extension": ".py",
   "mimetype": "text/x-python",
   "name": "python",
   "nbconvert_exporter": "python",
   "pygments_lexer": "ipython3",
   "version": "3.10.2"
  },
  "orig_nbformat": 4,
  "vscode": {
   "interpreter": {
    "hash": "35a709b18549f3821755cf447a624debe2d5757e6152a382261c019f6f81fca7"
   }
  }
 },
 "nbformat": 4,
 "nbformat_minor": 2
}
