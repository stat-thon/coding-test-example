{
 "cells": [
  {
   "cell_type": "markdown",
   "metadata": {},
   "source": [
    "# 프로그래머스 - 프린터"
   ]
  },
  {
   "cell_type": "code",
   "execution_count": 2,
   "metadata": {},
   "outputs": [],
   "source": [
    "priorities = [2, 1, 3, 2]\n",
    "location = 2"
   ]
  },
  {
   "cell_type": "code",
   "execution_count": 9,
   "metadata": {},
   "outputs": [],
   "source": [
    "def solution(priorities, location):\n",
    "\n",
    "    from collections import deque\n",
    "    d = deque(priorities)\n",
    "    cnt = 0\n",
    "\n",
    "    while d: # 리스트가 빌 때까지 반복\n",
    "\n",
    "        # 큐의 첫번째 원소만 계속 확인\n",
    "\n",
    "        if d[0] == max(d): # 중요도 높아서 출력\n",
    "\n",
    "            cnt += 1 # 출력 순서 카운트\n",
    "            d.popleft() # 첫번째 원소 출력\n",
    "\n",
    "            if location == 0:\n",
    "                break\n",
    "            else: location -= 1\n",
    "\n",
    "        else: # 중요도 낮아서 넘김\n",
    "\n",
    "            d.append(d[0])\n",
    "            d.popleft()\n",
    "\n",
    "            if location == 0: location = len(d) - 1\n",
    "            else: location -= 1\n",
    "        \n",
    "    return cnt"
   ]
  },
  {
   "cell_type": "code",
   "execution_count": 10,
   "metadata": {},
   "outputs": [
    {
     "data": {
      "text/plain": [
       "5"
      ]
     },
     "execution_count": 10,
     "metadata": {},
     "output_type": "execute_result"
    }
   ],
   "source": [
    "solution([1, 1, 9, 1, 1, 1], 0)"
   ]
  }
 ],
 "metadata": {
  "kernelspec": {
   "display_name": "Python 3.10.2 64-bit",
   "language": "python",
   "name": "python3"
  },
  "language_info": {
   "codemirror_mode": {
    "name": "ipython",
    "version": 3
   },
   "file_extension": ".py",
   "mimetype": "text/x-python",
   "name": "python",
   "nbconvert_exporter": "python",
   "pygments_lexer": "ipython3",
   "version": "3.10.2"
  },
  "orig_nbformat": 4,
  "vscode": {
   "interpreter": {
    "hash": "35a709b18549f3821755cf447a624debe2d5757e6152a382261c019f6f81fca7"
   }
  }
 },
 "nbformat": 4,
 "nbformat_minor": 2
}
