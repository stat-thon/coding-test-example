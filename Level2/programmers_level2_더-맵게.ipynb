{
 "cells": [
  {
   "cell_type": "markdown",
   "metadata": {},
   "source": [
    "# 프로그래머스 - 더 맵게"
   ]
  },
  {
   "cell_type": "code",
   "execution_count": 30,
   "metadata": {},
   "outputs": [],
   "source": [
    "scoville = [1, 2, 3, 9, 10, 12]\n",
    "K = 7"
   ]
  },
  {
   "cell_type": "code",
   "execution_count": 31,
   "metadata": {},
   "outputs": [],
   "source": [
    "def solution(scoville, K):\n",
    "    import heapq\n",
    "    cnt = 0\n",
    "    heapq.heapify(scoville)\n",
    "\n",
    "    if len(scoville) == 2:\n",
    "        return 1\n",
    "        \n",
    "    min_scov1 = heapq.heappop(scoville)\n",
    "\n",
    "    while len(scoville) >= 2:\n",
    "        min_scov2 = heapq.heappop(scoville)\n",
    "        new_food = min_scov1 + min_scov2 * 2\n",
    "\n",
    "        min_scov1 = heapq.heappop(scoville)\n",
    "        cnt += 1\n",
    "        heapq.heappush(scoville, new_food)\n",
    "    \n",
    "        if new_food >= K and min_scov1 >= K:\n",
    "            break\n",
    "\n",
    "    if new_food < K and min_scov1 < K:\n",
    "        cnt = -1\n",
    "    \n",
    "    return cnt"
   ]
  },
  {
   "cell_type": "code",
   "execution_count": 32,
   "metadata": {},
   "outputs": [
    {
     "data": {
      "text/plain": [
       "2"
      ]
     },
     "execution_count": 32,
     "metadata": {},
     "output_type": "execute_result"
    }
   ],
   "source": [
    "solution(scoville, K)"
   ]
  }
 ],
 "metadata": {
  "kernelspec": {
   "display_name": "Python 3.10.2 64-bit",
   "language": "python",
   "name": "python3"
  },
  "language_info": {
   "codemirror_mode": {
    "name": "ipython",
    "version": 3
   },
   "file_extension": ".py",
   "mimetype": "text/x-python",
   "name": "python",
   "nbconvert_exporter": "python",
   "pygments_lexer": "ipython3",
   "version": "3.10.2"
  },
  "orig_nbformat": 4,
  "vscode": {
   "interpreter": {
    "hash": "35a709b18549f3821755cf447a624debe2d5757e6152a382261c019f6f81fca7"
   }
  }
 },
 "nbformat": 4,
 "nbformat_minor": 2
}
