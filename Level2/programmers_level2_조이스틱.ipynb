{
 "cells": [
  {
   "cell_type": "markdown",
   "metadata": {},
   "source": [
    "# 프로그래머스 - 조이스틱"
   ]
  },
  {
   "cell_type": "code",
   "execution_count": 33,
   "metadata": {},
   "outputs": [],
   "source": [
    "name = 'AABBAAA'"
   ]
  },
  {
   "cell_type": "code",
   "execution_count": 86,
   "metadata": {},
   "outputs": [],
   "source": [
    "def solution(name):\n",
    "    alpha = [chr(i) for i in range(65, 91)]\n",
    "    move = 0\n",
    "\n",
    "    # 상하 이동 카운트\n",
    "    for a in name:\n",
    "        move += min(alpha.index(a), 26 - alpha.index(a))\n",
    "\n",
    "    # 좌우 이동 카운트를 위한 DFS\n",
    "    \n",
    "\n",
    "    \n",
    "    return move"
   ]
  },
  {
   "cell_type": "code",
   "execution_count": 85,
   "metadata": {},
   "outputs": [
    {
     "data": {
      "text/plain": [
       "24"
      ]
     },
     "execution_count": 85,
     "metadata": {},
     "output_type": "execute_result"
    }
   ],
   "source": [
    "solution('JAN')"
   ]
  },
  {
   "cell_type": "code",
   "execution_count": 60,
   "metadata": {},
   "outputs": [
    {
     "name": "stdout",
     "output_type": "stream",
     "text": [
      "3\n"
     ]
    }
   ],
   "source": [
    "move = 0\n",
    "num_A_left, num_A_right = 0, 0\n",
    "\n",
    "for i in range(1, 21):\n",
    "    if name.startswith('A' * i): num_A_left = max(num_A_left, i)\n",
    "    if name.endswith('A' * i): num_A_right = max(num_A_right, i)\n",
    "\n",
    "# A가 들어있을 때\n",
    "if 'A' in name:\n",
    "    # A로 시작하고 A로 끝날 때\n",
    "    if num_A_left != 0 and num_A_right != 0:\n",
    "        if num_A_left <= num_A_right:\n",
    "            move += len(name) - 1 - num_A_right\n",
    "        else:\n",
    "            move += len(name) - num_A_left\n",
    "    \n",
    "    # A로 시작하고 A로 끝나지 않을 때\n",
    "    elif num_A_left != 0 and num_A_left == 0:\n",
    "        move += len(name) - num_A_left\n",
    "    \n",
    "    # A로 시작하지 않고 A로 끝날 때\n",
    "    elif num_A_left == 0 and num_A_left != 0:\n",
    "        new_name = name[name.index('A'):]\n",
    "        new_num_A_left = 0\n",
    "\n",
    "        for i in range(1, 21):\n",
    "            if new_name.startswith('A' * i): new_num_A_left = max(new_num_A_left, i)\n",
    "        \n",
    "        if new_num_A_left <= num_A_right:\n",
    "            move += len(new_name) - 1 - num_A_right + name.index('A')\n",
    "        else:\n",
    "            move += len(new_name) - new_num_A_left + name.index('A')\n",
    "    \n",
    "    # A로 시작하지도 않고 A로 끝나지도 않을 때\n",
    "    else:\n",
    "        new_name = name[name.index('A'):]\n",
    "        new_num_A_left = 0\n",
    "\n",
    "        for i in range(1, 21):\n",
    "            if new_name.startswith('A' * i): new_num_A_left = max(new_num_A_left, i)\n",
    "        \n",
    "        move += len(new_name) - new_num_A_left + name.index('A')\n",
    "\n",
    "else:\n",
    "    move += len(name) - 1\n",
    "\n",
    "print(move)"
   ]
  },
  {
   "cell_type": "code",
   "execution_count": 61,
   "metadata": {},
   "outputs": [
    {
     "data": {
      "text/plain": [
       "'AABBAAA'"
      ]
     },
     "execution_count": 61,
     "metadata": {},
     "output_type": "execute_result"
    }
   ],
   "source": [
    "name"
   ]
  },
  {
   "cell_type": "code",
   "execution_count": 59,
   "metadata": {},
   "outputs": [
    {
     "data": {
      "text/plain": [
       "'BBAAA'"
      ]
     },
     "execution_count": 59,
     "metadata": {},
     "output_type": "execute_result"
    }
   ],
   "source": [
    "name[name.index('B'):]"
   ]
  }
 ],
 "metadata": {
  "kernelspec": {
   "display_name": "Python 3.10.2 64-bit",
   "language": "python",
   "name": "python3"
  },
  "language_info": {
   "codemirror_mode": {
    "name": "ipython",
    "version": 3
   },
   "file_extension": ".py",
   "mimetype": "text/x-python",
   "name": "python",
   "nbconvert_exporter": "python",
   "pygments_lexer": "ipython3",
   "version": "3.10.2"
  },
  "orig_nbformat": 4,
  "vscode": {
   "interpreter": {
    "hash": "35a709b18549f3821755cf447a624debe2d5757e6152a382261c019f6f81fca7"
   }
  }
 },
 "nbformat": 4,
 "nbformat_minor": 2
}
