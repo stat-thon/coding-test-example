{
 "cells": [
  {
   "cell_type": "markdown",
   "metadata": {},
   "source": [
    "# 프로그래머스 - 조이스틱"
   ]
  },
  {
   "cell_type": "code",
   "execution_count": 1,
   "metadata": {},
   "outputs": [],
   "source": [
    "name = 'AABBAAA'"
   ]
  },
  {
   "cell_type": "code",
   "execution_count": 8,
   "metadata": {},
   "outputs": [],
   "source": [
    "def solution(name):\n",
    "\n",
    "    if set(name) == {'A'}:\n",
    "        return 0\n",
    "\n",
    "    answer = float('inf')\n",
    "\n",
    "    # 한 쪽으로 갔다가 다시 반대쪽으로 움직였을 때를 고려하기 위한 반복\n",
    "    for i in range(len(name) // 2): # 고로 전체 문자열의 반 이상 움직일 필요 없음\n",
    "\n",
    "        left_moved = name[-i:] + name[:-i] # 왼쪽으로 이동하다가 오른쪽으로 이동하는 것을 고려하려고 사용\n",
    "        right_moved = name[i:] + name[:i] # 오른쪽으로 이동하다가 왼쪽으로 이동하는 것을 고려하려고 사용\n",
    "\n",
    "        # 왼->오, 오->왼을 모두 고려\n",
    "        for n in [left_moved, right_moved[0] + right_moved[:0:-1]]:\n",
    "\n",
    "            # 마지막 글자가 A가 아닐 때까지 우측에서 한칸씩 줄임\n",
    "            while n and n[-1] == 'A':\n",
    "                n = n[:-1]\n",
    "\n",
    "            row_move = i + len(n) - 1 # i는 한쪽으로 움직인 카운트, len(n) - 1이 다시 반대쪽으로 움직였을 때 카운트\n",
    "            \n",
    "            # 상하 움직임 카운트\n",
    "            col_move = 0\n",
    "            for c in map(ord, n):\n",
    "                col_move += min(c - 65, 91 - c)\n",
    "\n",
    "            answer = min(answer, row_move + col_move)\n",
    "\n",
    "    return answer"
   ]
  }
 ],
 "metadata": {
  "kernelspec": {
   "display_name": "Python 3.10.2 64-bit",
   "language": "python",
   "name": "python3"
  },
  "language_info": {
   "codemirror_mode": {
    "name": "ipython",
    "version": 3
   },
   "file_extension": ".py",
   "mimetype": "text/x-python",
   "name": "python",
   "nbconvert_exporter": "python",
   "pygments_lexer": "ipython3",
   "version": "3.10.2"
  },
  "orig_nbformat": 4,
  "vscode": {
   "interpreter": {
    "hash": "35a709b18549f3821755cf447a624debe2d5757e6152a382261c019f6f81fca7"
   }
  }
 },
 "nbformat": 4,
 "nbformat_minor": 2
}
