{
 "cells": [
  {
   "cell_type": "markdown",
   "metadata": {},
   "source": [
    "# 프로그래머스 - 가장 큰 수"
   ]
  },
  {
   "cell_type": "code",
   "execution_count": 2,
   "metadata": {},
   "outputs": [],
   "source": [
    "numbers = [3, 30, 34, 5, 9]"
   ]
  },
  {
   "cell_type": "code",
   "execution_count": 126,
   "metadata": {},
   "outputs": [],
   "source": [
    "def solution(numbers):\n",
    "\n",
    "    num_len3 = [str(i) for i in range(999, 99, -1)]\n",
    "    num_len2 = [str(i) for i in range(99, 9, -1)]\n",
    "    num_len1 = [str(i) for i in range(9, 0, -1)]\n",
    "\n",
    "    for i in num_len2:\n",
    "        if i[0] > i[1]:\n",
    "            num_len3.insert(num_len3.index(i + i[0]) + 1, i)\n",
    "        else:\n",
    "            num_len3.insert(num_len3.index(i + i[0]), i)\n",
    "\n",
    "    for i in num_len1:\n",
    "        num_len3.insert(num_len3.index(i + i) + 1, i)\n",
    "\n",
    "    num_len3 = num_len3 + ['1000', '0']\n",
    "\n",
    "    return str(int(\"\".join(sorted([str(i) for i in numbers], key = num_len3.index))))"
   ]
  },
  {
   "cell_type": "code",
   "execution_count": 127,
   "metadata": {},
   "outputs": [
    {
     "data": {
      "text/plain": [
       "'666653131030122'"
      ]
     },
     "execution_count": 127,
     "metadata": {},
     "output_type": "execute_result"
    }
   ],
   "source": [
    "solution(numbers)"
   ]
  }
 ],
 "metadata": {
  "kernelspec": {
   "display_name": "Python 3.10.2 64-bit",
   "language": "python",
   "name": "python3"
  },
  "language_info": {
   "codemirror_mode": {
    "name": "ipython",
    "version": 3
   },
   "file_extension": ".py",
   "mimetype": "text/x-python",
   "name": "python",
   "nbconvert_exporter": "python",
   "pygments_lexer": "ipython3",
   "version": "3.10.2"
  },
  "orig_nbformat": 4,
  "vscode": {
   "interpreter": {
    "hash": "35a709b18549f3821755cf447a624debe2d5757e6152a382261c019f6f81fca7"
   }
  }
 },
 "nbformat": 4,
 "nbformat_minor": 2
}
