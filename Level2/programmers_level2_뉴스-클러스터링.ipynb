{
 "cells": [
  {
   "cell_type": "markdown",
   "metadata": {},
   "source": [
    "# 프로그래머스 - 뉴스 클러스터링"
   ]
  },
  {
   "cell_type": "code",
   "execution_count": 166,
   "metadata": {},
   "outputs": [],
   "source": [
    "str1 = 'aa+aa+bb+bb'\n",
    "str2 = 'AAAA+BBBB'"
   ]
  },
  {
   "cell_type": "code",
   "execution_count": 168,
   "metadata": {},
   "outputs": [],
   "source": [
    "def solution(str1, str2):\n",
    "\n",
    "    s1 = [str1[i: i + 2].lower() for i in range(len(str1) - 1) if str1[i:i + 2].isalpha()]\n",
    "    s2 = [str2[i: i + 2].lower() for i in range(len(str2) - 1) if str2[i:i + 2].isalpha()]\n",
    "\n",
    "    for i, word1 in enumerate(s1):\n",
    "        for j, word2 in enumerate(s1):\n",
    "            if i < j and word1 == word2:\n",
    "                s1[j] = word2 + '!'\n",
    "\n",
    "    for i, word1 in enumerate(s2):\n",
    "        for j, word2 in enumerate(s2):\n",
    "            if i < j and word1 == word2:\n",
    "                s2[j] = word2 + '!'\n",
    "    \n",
    "    len_inter, len_union = len(set(s1) & set(s2)), len(set(s1) | set(s2))\n",
    "    \n",
    "    if len_union == 0 and len_inter == 0: len_union, len_inter = 1, 1\n",
    "    \n",
    "    return int(len_inter / len_union * 65536)"
   ]
  },
  {
   "cell_type": "code",
   "execution_count": 170,
   "metadata": {},
   "outputs": [
    {
     "data": {
      "text/plain": [
       "43690"
      ]
     },
     "execution_count": 170,
     "metadata": {},
     "output_type": "execute_result"
    }
   ],
   "source": [
    "solution(str1, str2)"
   ]
  }
 ],
 "metadata": {
  "kernelspec": {
   "display_name": "Python 3.10.2 64-bit",
   "language": "python",
   "name": "python3"
  },
  "language_info": {
   "codemirror_mode": {
    "name": "ipython",
    "version": 3
   },
   "file_extension": ".py",
   "mimetype": "text/x-python",
   "name": "python",
   "nbconvert_exporter": "python",
   "pygments_lexer": "ipython3",
   "version": "3.10.2"
  },
  "orig_nbformat": 4,
  "vscode": {
   "interpreter": {
    "hash": "35a709b18549f3821755cf447a624debe2d5757e6152a382261c019f6f81fca7"
   }
  }
 },
 "nbformat": 4,
 "nbformat_minor": 2
}
