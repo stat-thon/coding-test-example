{
 "cells": [
  {
   "cell_type": "markdown",
   "metadata": {},
   "source": [
    "# 프로그래머스 - 전력망을 둘로 나누기"
   ]
  },
  {
   "cell_type": "code",
   "execution_count": 137,
   "metadata": {},
   "outputs": [],
   "source": [
    "n = 9\n",
    "wires = [[1, 3], [2, 3], [3, 4], [4, 5], [4, 6], [4, 7], [7, 8], [7, 9]]"
   ]
  },
  {
   "cell_type": "code",
   "execution_count": null,
   "metadata": {},
   "outputs": [],
   "source": [
    "def search_min_diff(n, wires):\n",
    "    group = {i + 1 for i in range(n)}\n",
    "    wires = sorted(wires, key = lambda a: a[0])\n",
    "    group1 = set(wires[0])\n",
    "    group2 = set()\n",
    "\n",
    "    for i in wires:\n",
    "        if i[0] in group1 or i[1] in group1: group1 = group1 | set(i)\n",
    "        else: group2 = group2 | set(i)\n",
    "\n",
    "    if group1 & group2:\n",
    "        group2 = set()\n",
    "        for i in wires:\n",
    "            if i[0] in group1 or i[1] in group1: group1 = group1 | set(i)\n",
    "            else: group2 = group2 | set(i)\n",
    "                \n",
    "    if group2 == set(): group2.add('a')\n",
    "        \n",
    "    abs = lambda x: -x if x < 0 else x\n",
    "    return abs(len(group1) - len(group2))\n",
    "    \n",
    "def solution(n, wires):\n",
    "    min_diff = 1e9\n",
    "    for i in wires:\n",
    "        a = wires.copy()\n",
    "        a.remove(i)\n",
    "        min_diff = min(min_diff, search_min_diff(n, a))\n",
    "    return min_diff"
   ]
  },
  {
   "cell_type": "code",
   "execution_count": 144,
   "metadata": {},
   "outputs": [],
   "source": [
    "def make_graph(n, wires):\n",
    "    graph = [set() for i in range(n + 1)]\n",
    "    for i in wires:\n",
    "        graph[i[0]].add(i[1])\n",
    "        graph[i[1]].add(i[0])\n",
    "    return [list(i) for i in graph]\n",
    "\n",
    "def dfs(graph, v, visited):\n",
    "    visited[v] = True\n",
    "    for i in graph[v]:\n",
    "        if not visited[i]:\n",
    "            dfs(graph, i, visited)\n",
    "\n",
    "def solution(n, wires):\n",
    "    abs = lambda x: -x if x < 0 else x\n",
    "    min_diff = 1e9\n",
    "    for i in wires:\n",
    "        a = wires.copy()\n",
    "        a.remove(i)\n",
    "        visited = [False] * (n + 1)\n",
    "        for i in a:\n",
    "            dfs(make_graph(n, a), a[0][0], visited)\n",
    "        min_diff = min(min_diff, (abs(sum(visited) - (n - sum(visited)))))\n",
    "\n",
    "    return min_diff"
   ]
  },
  {
   "cell_type": "code",
   "execution_count": 145,
   "metadata": {},
   "outputs": [
    {
     "data": {
      "text/plain": [
       "3"
      ]
     },
     "execution_count": 145,
     "metadata": {},
     "output_type": "execute_result"
    }
   ],
   "source": [
    "solution(n, wires)"
   ]
  }
 ],
 "metadata": {
  "kernelspec": {
   "display_name": "Python 3.10.2 64-bit",
   "language": "python",
   "name": "python3"
  },
  "language_info": {
   "codemirror_mode": {
    "name": "ipython",
    "version": 3
   },
   "file_extension": ".py",
   "mimetype": "text/x-python",
   "name": "python",
   "nbconvert_exporter": "python",
   "pygments_lexer": "ipython3",
   "version": "3.10.2"
  },
  "orig_nbformat": 4,
  "vscode": {
   "interpreter": {
    "hash": "35a709b18549f3821755cf447a624debe2d5757e6152a382261c019f6f81fca7"
   }
  }
 },
 "nbformat": 4,
 "nbformat_minor": 2
}
