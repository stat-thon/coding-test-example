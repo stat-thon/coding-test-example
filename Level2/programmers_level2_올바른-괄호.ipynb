{
 "cells": [
  {
   "cell_type": "markdown",
   "metadata": {},
   "source": [
    "# 프로그래머스 - 올바른 괄호"
   ]
  },
  {
   "cell_type": "code",
   "execution_count": null,
   "metadata": {},
   "outputs": [],
   "source": [
    "solution = lambda s: False if s[0] == ')' or s[-1] == '(' or len(s) % 2 == 1 or s.count('(') != s.count(')') else True"
   ]
  },
  {
   "cell_type": "code",
   "execution_count": 9,
   "metadata": {},
   "outputs": [],
   "source": [
    "p = '()))((()'"
   ]
  },
  {
   "cell_type": "code",
   "execution_count": 12,
   "metadata": {},
   "outputs": [],
   "source": [
    "def solution(s):\n",
    "    if s[0] == ')' or s[-1] == '(' or len(s) % 2 == 1 or s.count('(') != s.count(')'):\n",
    "        answer = False\n",
    "        return answer\n",
    "\n",
    "    else:\n",
    "        balance_list = []\n",
    "        for i in range(1, len(s), 2):\n",
    "            if s[:i + 1].count('(') == (i + 1) // 2 and s[:i + 1].count(')') == (i + 1) // 2:\n",
    "                u, s = s[:i + 1], s[i + 1:]\n",
    "                balance_list.append(u)\n",
    "        balance_list.append(s)\n",
    "    \n",
    "    for s in balance_list:\n",
    "        if s[0] == ')' or s[-1] == '(' or len(s) % 2 == 1 or s.count('(') != s.count(')'):\n",
    "            answer = False\n",
    "            return answer\n",
    "        else: answer = True\n",
    "\n",
    "    return answer"
   ]
  },
  {
   "cell_type": "code",
   "execution_count": 14,
   "metadata": {},
   "outputs": [
    {
     "data": {
      "text/plain": [
       "[1, 3, 5]"
      ]
     },
     "execution_count": 14,
     "metadata": {},
     "output_type": "execute_result"
    }
   ],
   "source": [
    "list(range(1, 7, 2))"
   ]
  },
  {
   "cell_type": "code",
   "execution_count": 17,
   "metadata": {},
   "outputs": [
    {
     "name": "stdout",
     "output_type": "stream",
     "text": [
      "['(())', '))()']\n"
     ]
    }
   ],
   "source": [
    "s = '(())))()'\n",
    "balance_list = []\n",
    "for i in range(1, len(s), 2):\n",
    "    if s[:i + 1].count('(') == (i + 1) // 2 and s[:i + 1].count(')') == (i + 1) // 2:\n",
    "        u, s = s[:i + 1], s[i + 1:]\n",
    "        balance_list.append(u)\n",
    "balance_list.append(s)\n",
    "\n",
    "print(balance_list)"
   ]
  },
  {
   "cell_type": "code",
   "execution_count": 6,
   "metadata": {},
   "outputs": [
    {
     "name": "stdout",
     "output_type": "stream",
     "text": [
      "['()', '))((', '()']\n"
     ]
    }
   ],
   "source": [
    "p = '()))((()'\n",
    "balance_list = []\n",
    "for i in range(1, len(p), 2):\n",
    "    if p[:i + 1].count('(') == (i + 1) // 2 and p[:i + 1].count(')') == (i + 1) // 2:\n",
    "        u, p = p[:i + 1], p[i + 1:]\n",
    "        balance_list.append(u)\n",
    "balance_list.append(p)\n",
    "\n",
    "for s in balance_list:\n",
    "    if s[0] == ')' or s[-1] == '(' or len(s) % 2 == 1 or s.count('(') != s.count(')'): answer = False\n",
    "    else: answer = True\n",
    "\n",
    "return answer"
   ]
  }
 ],
 "metadata": {
  "kernelspec": {
   "display_name": "Python 3.10.2 64-bit",
   "language": "python",
   "name": "python3"
  },
  "language_info": {
   "codemirror_mode": {
    "name": "ipython",
    "version": 3
   },
   "file_extension": ".py",
   "mimetype": "text/x-python",
   "name": "python",
   "nbconvert_exporter": "python",
   "pygments_lexer": "ipython3",
   "version": "3.10.2"
  },
  "orig_nbformat": 4,
  "vscode": {
   "interpreter": {
    "hash": "35a709b18549f3821755cf447a624debe2d5757e6152a382261c019f6f81fca7"
   }
  }
 },
 "nbformat": 4,
 "nbformat_minor": 2
}
