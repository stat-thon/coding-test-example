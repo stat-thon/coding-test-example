{
 "cells": [
  {
   "cell_type": "markdown",
   "metadata": {},
   "source": [
    "# 프로그래머스 - 올바른 괄호"
   ]
  },
  {
   "cell_type": "code",
   "execution_count": null,
   "metadata": {},
   "outputs": [],
   "source": [
    "solution = lambda s: False if s[0] == ')' or s[-1] == '(' or len(s) % 2 == 1 or s.count('(') != s.count(')') else True"
   ]
  },
  {
   "cell_type": "code",
   "execution_count": 6,
   "metadata": {},
   "outputs": [],
   "source": [
    "p = '()))((()'"
   ]
  },
  {
   "cell_type": "code",
   "execution_count": 29,
   "metadata": {},
   "outputs": [],
   "source": [
    "# 답은 맞지만 시간 초과\n",
    "def solution(p):\n",
    "    while p:\n",
    "        p = p.replace('()', '')\n",
    "        if not p:\n",
    "            break\n",
    "        if p[0] == ')' or p[-1] == '(':\n",
    "            break\n",
    "    \n",
    "    return False if p else True"
   ]
  },
  {
   "cell_type": "code",
   "execution_count": 60,
   "metadata": {},
   "outputs": [],
   "source": [
    "def solution(p):\n",
    "    \n",
    "    new_str = ''\n",
    "    left, right = 0, 0\n",
    "\n",
    "    for i in p:\n",
    "\n",
    "        if i == '(': left += 1\n",
    "        else: right += 1\n",
    "\n",
    "        new_str += i\n",
    "\n",
    "        if left == right:\n",
    "            if new_str[0] == '(' and new_str[-1] == ')':\n",
    "                new_str = ''\n",
    "                left, right = 0, 0\n",
    "            else:\n",
    "                new_str = ''\n",
    "                left, right = 0, 0\n",
    "                return False\n",
    "    \n",
    "    if left != right:\n",
    "        return False\n",
    "\n",
    "    return True"
   ]
  }
 ],
 "metadata": {
  "kernelspec": {
   "display_name": "Python 3.10.2 64-bit",
   "language": "python",
   "name": "python3"
  },
  "language_info": {
   "codemirror_mode": {
    "name": "ipython",
    "version": 3
   },
   "file_extension": ".py",
   "mimetype": "text/x-python",
   "name": "python",
   "nbconvert_exporter": "python",
   "pygments_lexer": "ipython3",
   "version": "3.10.2"
  },
  "orig_nbformat": 4,
  "vscode": {
   "interpreter": {
    "hash": "35a709b18549f3821755cf447a624debe2d5757e6152a382261c019f6f81fca7"
   }
  }
 },
 "nbformat": 4,
 "nbformat_minor": 2
}
