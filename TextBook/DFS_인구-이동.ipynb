{
 "cells": [
  {
   "cell_type": "markdown",
   "metadata": {},
   "source": [
    "# DFS - 인구 이동"
   ]
  },
  {
   "cell_type": "code",
   "execution_count": 60,
   "metadata": {},
   "outputs": [
    {
     "name": "stdout",
     "output_type": "stream",
     "text": [
      "2 20 50\n",
      "[[50, 30], [30, 40]]\n"
     ]
    }
   ],
   "source": [
    "n, l, r = list(map(int, input().split()))\n",
    "\n",
    "A = []\n",
    "for _ in range(n):\n",
    "    A.append(list(map(int, input().split())))\n",
    "\n",
    "print(n, l, r)\n",
    "print(A)    "
   ]
  },
  {
   "cell_type": "code",
   "execution_count": 64,
   "metadata": {},
   "outputs": [],
   "source": [
    "import copy\n",
    "from collections import deque\n",
    "\n",
    "# 국경 개방 한 연합의 인구 이동 후 인구 계산\n",
    "def pop_move(union, pop):\n",
    "    total_pop = 0\n",
    "    for r, c in union:\n",
    "        total_pop += pop[r][c]\n",
    "    moved_pop = int(total_pop / len(union))\n",
    "    return moved_pop\n",
    "\n",
    "# 절댓값으로 국경 간 인구 차이 계산\n",
    "abs = lambda x: - x if x < 0 else x\n",
    "\n",
    "# 그래프 방문 여부 확인-> 나중에 for문 안에 넣어서 초기화 시켜줘야함\n",
    "visit = [[0] * n for _ in range(n)]\n",
    "\n",
    "# 사방으로 퍼지기 위한 방향 설정\n",
    "dx = [-1, 1, 0, 0]\n",
    "dy = [0, 0, -1, 1]\n",
    "\n",
    "# 국경 개방한 연합 리스트\n",
    "union = []\n",
    "\n",
    "# DFS로 연합국 찾기\n",
    "def make_union(x, y):\n",
    "\n",
    "    visit[x][y] = 1 # check visited\n",
    "    union.append([x, y])\n",
    "\n",
    "    for i in range(4):\n",
    "        nx = x + dx[i]\n",
    "        ny = y + dy[i]\n",
    "\n",
    "        if nx >= 0 and nx < n and ny >= 0 and ny < n:\n",
    "\n",
    "            if visit[nx][ny] == 0:\n",
    "                pop_diff = abs(A[nx][ny] - A[x][y])\n",
    "\n",
    "                if l <= pop_diff <= r:\n",
    "                    make_union(nx, ny)\n",
    "\n",
    "\n",
    "def new_pop(a, union):\n",
    "    new_a = copy.deepcopy(a)\n",
    "    num_after_move = pop_move(union, new_a)\n",
    "    for r in range(n):\n",
    "        for c in range(n):\n",
    "            if [r, c] in union:\n",
    "                new_a[r][c] = num_after_move\n",
    "    return new_a"
   ]
  },
  {
   "cell_type": "code",
   "execution_count": 65,
   "metadata": {},
   "outputs": [
    {
     "name": "stdout",
     "output_type": "stream",
     "text": [
      "[[0, 0], [1, 0], [0, 1]]\n",
      "[[1, 1], [1, 0]]\n",
      "[[50, 30], [30, 40]]\n"
     ]
    }
   ],
   "source": [
    "make_union(0, 0)\n",
    "print(union)\n",
    "print(visit)\n",
    "print(A)"
   ]
  },
  {
   "cell_type": "code",
   "execution_count": 56,
   "metadata": {},
   "outputs": [
    {
     "name": "stdout",
     "output_type": "stream",
     "text": [
      "[[35, 35], [35, 35]]\n",
      "[[50, 30], [20, 40]]\n"
     ]
    }
   ],
   "source": [
    "import copy\n",
    "\n",
    "def new_pop(a, union):\n",
    "    new_a = copy.deepcopy(a)\n",
    "    num_after_move = pop_move(union, new_a)\n",
    "    for r in range(n):\n",
    "        for c in range(n):\n",
    "            if [r, c] in union:\n",
    "                new_a[r][c] = num_after_move\n",
    "    return new_a\n",
    "\n",
    "print(new_pop(A, union))\n",
    "print(A)"
   ]
  },
  {
   "cell_type": "code",
   "execution_count": 63,
   "metadata": {},
   "outputs": [
    {
     "ename": "IndexError",
     "evalue": "list index out of range",
     "output_type": "error",
     "traceback": [
      "\u001b[1;31m---------------------------------------------------------------------------\u001b[0m",
      "\u001b[1;31mIndexError\u001b[0m                                Traceback (most recent call last)",
      "\u001b[1;32md:\\thon\\coding-test-example\\TextBook\\DFS_인구-이동.ipynb 셀 6\u001b[0m in \u001b[0;36m<cell line: 6>\u001b[1;34m()\u001b[0m\n\u001b[0;32m     <a href='vscode-notebook-cell:/d%3A/thon/coding-test-example/TextBook/DFS_%EC%9D%B8%EA%B5%AC-%EC%9D%B4%EB%8F%99.ipynb#X24sZmlsZQ%3D%3D?line=12'>13</a>\u001b[0m \u001b[39mfor\u001b[39;00m i \u001b[39min\u001b[39;00m \u001b[39mrange\u001b[39m(n):\n\u001b[0;32m     <a href='vscode-notebook-cell:/d%3A/thon/coding-test-example/TextBook/DFS_%EC%9D%B8%EA%B5%AC-%EC%9D%B4%EB%8F%99.ipynb#X24sZmlsZQ%3D%3D?line=13'>14</a>\u001b[0m     \u001b[39mfor\u001b[39;00m j \u001b[39min\u001b[39;00m \u001b[39mrange\u001b[39m(n):\n\u001b[1;32m---> <a href='vscode-notebook-cell:/d%3A/thon/coding-test-example/TextBook/DFS_%EC%9D%B8%EA%B5%AC-%EC%9D%B4%EB%8F%99.ipynb#X24sZmlsZQ%3D%3D?line=14'>15</a>\u001b[0m         make_union(n, n)\n\u001b[0;32m     <a href='vscode-notebook-cell:/d%3A/thon/coding-test-example/TextBook/DFS_%EC%9D%B8%EA%B5%AC-%EC%9D%B4%EB%8F%99.ipynb#X24sZmlsZQ%3D%3D?line=15'>16</a>\u001b[0m         \u001b[39mif\u001b[39;00m \u001b[39mlen\u001b[39m(union) \u001b[39m==\u001b[39m \u001b[39m1\u001b[39m: \u001b[39m# dfs돌렸는데도 국경 개방 안 한 나라는 union길이가 1이므로\u001b[39;00m\n\u001b[0;32m     <a href='vscode-notebook-cell:/d%3A/thon/coding-test-example/TextBook/DFS_%EC%9D%B8%EA%B5%AC-%EC%9D%B4%EB%8F%99.ipynb#X24sZmlsZQ%3D%3D?line=16'>17</a>\u001b[0m             dq\u001b[39m.\u001b[39mremove([i, j]) \u001b[39m# 해당 나라인 [i, j]를 dq에서 삭제\u001b[39;00m\n",
      "\u001b[1;32md:\\thon\\coding-test-example\\TextBook\\DFS_인구-이동.ipynb 셀 6\u001b[0m in \u001b[0;36mmake_union\u001b[1;34m(x, y)\u001b[0m\n\u001b[0;32m     <a href='vscode-notebook-cell:/d%3A/thon/coding-test-example/TextBook/DFS_%EC%9D%B8%EA%B5%AC-%EC%9D%B4%EB%8F%99.ipynb#X24sZmlsZQ%3D%3D?line=24'>25</a>\u001b[0m \u001b[39mdef\u001b[39;00m \u001b[39mmake_union\u001b[39m(x, y):\n\u001b[1;32m---> <a href='vscode-notebook-cell:/d%3A/thon/coding-test-example/TextBook/DFS_%EC%9D%B8%EA%B5%AC-%EC%9D%B4%EB%8F%99.ipynb#X24sZmlsZQ%3D%3D?line=26'>27</a>\u001b[0m     visit[x][y] \u001b[39m=\u001b[39m \u001b[39m1\u001b[39m \u001b[39m# check visited\u001b[39;00m\n\u001b[0;32m     <a href='vscode-notebook-cell:/d%3A/thon/coding-test-example/TextBook/DFS_%EC%9D%B8%EA%B5%AC-%EC%9D%B4%EB%8F%99.ipynb#X24sZmlsZQ%3D%3D?line=27'>28</a>\u001b[0m     union\u001b[39m.\u001b[39mappend([x, y])\n\u001b[0;32m     <a href='vscode-notebook-cell:/d%3A/thon/coding-test-example/TextBook/DFS_%EC%9D%B8%EA%B5%AC-%EC%9D%B4%EB%8F%99.ipynb#X24sZmlsZQ%3D%3D?line=29'>30</a>\u001b[0m     \u001b[39mfor\u001b[39;00m i \u001b[39min\u001b[39;00m \u001b[39mrange\u001b[39m(\u001b[39m4\u001b[39m):\n",
      "\u001b[1;31mIndexError\u001b[0m: list index out of range"
     ]
    }
   ],
   "source": [
    "from collections import deque\n",
    "result = 0\n",
    "\n",
    "dq = deque([[i, j] for i in range(n) for j in range(n)])\n",
    "\n",
    "while dq: # 국경 개방 후보국 큐가 비어버리면 더 이상 인구이동 없으므로 break\n",
    "    \n",
    "    dq = deque([[i, j] for i in range(n) for j in range(n)]) # 빈 큐가 아니었으므로 dq를 일단 다시 초기화\n",
    "    visit = [[0] * n for _ in range(n)] \n",
    "    result += 1\n",
    "    \n",
    "    # 모든 x, y에 대해 다 훑어보기\n",
    "    for i in range(n):\n",
    "        for j in range(n):\n",
    "            make_union(n, n)\n",
    "            if len(union) == 1: # dfs돌렸는데도 국경 개방 안 한 나라는 union길이가 1이므로\n",
    "                dq.remove([i, j]) # 해당 나라인 [i, j]를 dq에서 삭제\n",
    "            else:\n",
    "                A = new_pop(A, union)\n",
    "\n",
    "print(result)"
   ]
  },
  {
   "cell_type": "code",
   "execution_count": 69,
   "metadata": {},
   "outputs": [
    {
     "name": "stdout",
     "output_type": "stream",
     "text": [
      "1\n"
     ]
    }
   ],
   "source": [
    "from collections import deque\n",
    "\n",
    "n, l, r = map(int, input().split())\n",
    "\n",
    "graph = []\n",
    "for _ in range(n):\n",
    "    graph.append(list(map(int, input().split())))\n",
    "\n",
    "dx = [-1, 0, 1, 0]\n",
    "dy = [0, -1, 0, 1]\n",
    "\n",
    "result = 0\n",
    "\n",
    "def process(x, y, index):\n",
    "\n",
    "    united = []\n",
    "    united.append((x, y))\n",
    "    \n",
    "    q = deque()\n",
    "    q.append((x, y))\n",
    "    union[x][y] = index\n",
    "\n",
    "    summary = graph[x][y]\n",
    "    count = 1\n",
    "\n",
    "    while q:\n",
    "        x, y = q.popleft()\n",
    "\n",
    "        for i in range(4):\n",
    "            nx = x + dx[i]\n",
    "            ny = y + dy[i]\n",
    "\n",
    "            if 0 <= nx < n and 0 <= ny < n and union[nx][ny] == -1:\n",
    "\n",
    "                if l <= abs(graph[nx][ny] - graph[x][y]) <= r:\n",
    "                    q.append((nx, ny))\n",
    "                    union[nx][ny] = index\n",
    "                    summary += graph[nx][ny]\n",
    "                    count += 1\n",
    "                    united.append((nx, ny))\n",
    "    \n",
    "    for i, j in united:\n",
    "        graph[i][j] = summary // count\n",
    "    \n",
    "    return count\n",
    "\n",
    "total_count = 0\n",
    "\n",
    "while True:\n",
    "\n",
    "    union = [[-1] * n for _ in range(n)]\n",
    "    index = 0\n",
    "\n",
    "    for i in range(n):\n",
    "        for j in range(n):\n",
    "            if union[i][j] == -1:\n",
    "                process(i, j, index)\n",
    "                index += 1\n",
    "    \n",
    "    if index == n * n:\n",
    "        break\n",
    "\n",
    "    total_count += 1\n",
    "\n",
    "print(total_count)"
   ]
  }
 ],
 "metadata": {
  "kernelspec": {
   "display_name": "Python 3.10.2 64-bit",
   "language": "python",
   "name": "python3"
  },
  "language_info": {
   "codemirror_mode": {
    "name": "ipython",
    "version": 3
   },
   "file_extension": ".py",
   "mimetype": "text/x-python",
   "name": "python",
   "nbconvert_exporter": "python",
   "pygments_lexer": "ipython3",
   "version": "3.10.2"
  },
  "orig_nbformat": 4,
  "vscode": {
   "interpreter": {
    "hash": "35a709b18549f3821755cf447a624debe2d5757e6152a382261c019f6f81fca7"
   }
  }
 },
 "nbformat": 4,
 "nbformat_minor": 2
}
