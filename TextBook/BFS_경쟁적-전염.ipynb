{
 "cells": [
  {
   "cell_type": "markdown",
   "metadata": {},
   "source": [
    "# BFS - 경쟁적 전염"
   ]
  },
  {
   "cell_type": "code",
   "execution_count": 1,
   "metadata": {},
   "outputs": [
    {
     "ename": "ValueError",
     "evalue": "not enough values to unpack (expected 2, got 0)",
     "output_type": "error",
     "traceback": [
      "\u001b[1;31m---------------------------------------------------------------------------\u001b[0m",
      "\u001b[1;31mValueError\u001b[0m                                Traceback (most recent call last)",
      "\u001b[1;32md:\\thon\\coding-test-example\\TextBook\\BFS_경쟁적-전염.ipynb 셀 2\u001b[0m in \u001b[0;36m<cell line: 1>\u001b[1;34m()\u001b[0m\n\u001b[1;32m----> <a href='vscode-notebook-cell:/d%3A/thon/coding-test-example/TextBook/BFS_%EA%B2%BD%EC%9F%81%EC%A0%81-%EC%A0%84%EC%97%BC.ipynb#W2sZmlsZQ%3D%3D?line=0'>1</a>\u001b[0m n, k \u001b[39m=\u001b[39m \u001b[39mlist\u001b[39m(\u001b[39mmap\u001b[39m(\u001b[39mint\u001b[39m, \u001b[39minput\u001b[39m()\u001b[39m.\u001b[39msplit()))\n\u001b[0;32m      <a href='vscode-notebook-cell:/d%3A/thon/coding-test-example/TextBook/BFS_%EA%B2%BD%EC%9F%81%EC%A0%81-%EC%A0%84%EC%97%BC.ipynb#W2sZmlsZQ%3D%3D?line=2'>3</a>\u001b[0m data \u001b[39m=\u001b[39m []\n\u001b[0;32m      <a href='vscode-notebook-cell:/d%3A/thon/coding-test-example/TextBook/BFS_%EA%B2%BD%EC%9F%81%EC%A0%81-%EC%A0%84%EC%97%BC.ipynb#W2sZmlsZQ%3D%3D?line=3'>4</a>\u001b[0m \u001b[39mfor\u001b[39;00m _ \u001b[39min\u001b[39;00m \u001b[39mrange\u001b[39m(n):\n",
      "\u001b[1;31mValueError\u001b[0m: not enough values to unpack (expected 2, got 0)"
     ]
    }
   ],
   "source": [
    "n, k = list(map(int, input().split()))\n",
    "\n",
    "data = []\n",
    "for _ in range(n):\n",
    "  data.append(list(map(int, input().split())))\n",
    "\n",
    "s, x, y = list(map(int, input().split()))\n",
    "\n",
    "from collections import deque\n",
    "\n",
    "new_list = []\n",
    "for i in range(n):\n",
    "  for j in range(n):\n",
    "    if data[i][j] != 0:\n",
    "      new_list.append([data[i][j], i, j, 0])\n",
    "\n",
    "\n",
    "dx = [1, -1, 0, 0]\n",
    "dy = [0, 0, 1, -1]\n",
    "\n",
    "\n",
    "sort_k = sorted(new_list, key = lambda x: x[0])  \n",
    "\n",
    "dq = deque(sort_k)\n",
    "  \n",
    "while dq:\n",
    "    \n",
    "  a = dq.popleft()\n",
    "  \n",
    "  if a[3] == s:\n",
    "    break\n",
    "\n",
    "  else:\n",
    "    for i in range(4):\n",
    "      nx = a[1] + dx[i]\n",
    "      ny = a[2] + dy[i]\n",
    "\n",
    "      if nx >= 0 and ny >= 0 and nx < n and ny < n:\n",
    "        if data[nx][ny] == 0:\n",
    "          data[nx][ny] = a[0]\n",
    "          dq.append([a[0], nx, ny, a[3] + 1])\n",
    "\n",
    "print(data[x - 1][y - 1])"
   ]
  }
 ],
 "metadata": {
  "kernelspec": {
   "display_name": "Python 3.10.2 64-bit",
   "language": "python",
   "name": "python3"
  },
  "language_info": {
   "codemirror_mode": {
    "name": "ipython",
    "version": 3
   },
   "file_extension": ".py",
   "mimetype": "text/x-python",
   "name": "python",
   "nbconvert_exporter": "python",
   "pygments_lexer": "ipython3",
   "version": "3.10.2"
  },
  "orig_nbformat": 4,
  "vscode": {
   "interpreter": {
    "hash": "35a709b18549f3821755cf447a624debe2d5757e6152a382261c019f6f81fca7"
   }
  }
 },
 "nbformat": 4,
 "nbformat_minor": 2
}
