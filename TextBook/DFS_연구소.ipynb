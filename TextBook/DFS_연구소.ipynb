{
 "cells": [
  {
   "cell_type": "markdown",
   "metadata": {},
   "source": [
    "# DFS_연구소"
   ]
  },
  {
   "cell_type": "code",
   "execution_count": 26,
   "metadata": {},
   "outputs": [
    {
     "name": "stdout",
     "output_type": "stream",
     "text": [
      "4 6\n",
      "[[0, 0, 0, 0, 0, 0], [1, 0, 0, 0, 0, 2], [1, 1, 1, 0, 0, 2], [0, 0, 0, 0, 0, 2]]\n"
     ]
    }
   ],
   "source": [
    "# 입력\n",
    "N, M = map(int, input().split())\n",
    "temp = [[0] * M for _ in range(N)]\n",
    "\n",
    "block = []\n",
    "for _ in range(N):\n",
    "    block.append(list(map(int, input().split())))\n",
    "\n",
    "print(N, M)\n",
    "print(block)"
   ]
  },
  {
   "cell_type": "code",
   "execution_count": 47,
   "metadata": {},
   "outputs": [],
   "source": [
    "dx = [-1, 0, 1, 0]\n",
    "dy = [0, 1, 0, -1]\n",
    "\n",
    "def virus(x, y):\n",
    "\n",
    "    for i in range(4):\n",
    "        nx = x + dx[i]\n",
    "        ny = y + dy[i]\n",
    "\n",
    "        if nx >= 0 and nx < N and ny >= 0 and ny < M: # 맵의 범위 안에 있고\n",
    "            if temp[nx][ny] == 0: # 0인 부분이면 바이러스가 퍼져서 2가 되도록 하고 재귀적으로 수행\n",
    "                temp[nx][ny] = 2\n",
    "                virus(nx, ny)\n",
    "\n"
   ]
  },
  {
   "cell_type": "code",
   "execution_count": 48,
   "metadata": {},
   "outputs": [],
   "source": [
    "def get_score():\n",
    "    score = 0\n",
    "\n",
    "    for i in range(N):\n",
    "        for j in range(M):\n",
    "            if temp[i][j] == 0:\n",
    "                score += 1\n",
    "    \n",
    "    return score"
   ]
  },
  {
   "cell_type": "code",
   "execution_count": 57,
   "metadata": {},
   "outputs": [],
   "source": [
    "import copy\n",
    "MAX = 0\n",
    "\n",
    "def make_fence(fence):\n",
    "\n",
    "    global MAX\n",
    "\n",
    "    # 울타리 3개 설치가 된 경우\n",
    "    if fence == 3:\n",
    "\n",
    "        for i in range(N):\n",
    "            for j in range(M):\n",
    "                temp[i][j] = block[i][j]\n",
    "        \n",
    "        # 울타리 설치가 반영된 temp 리스트에서 반복 돌려서 2인 부분을 만나면 바이러스 퍼뜨림\n",
    "        for i in range(N):\n",
    "            for j in range(M):\n",
    "                if temp[i][j] == 2:\n",
    "                    virus(i, j)\n",
    "        \n",
    "        MAX = max(MAX, get_score())\n",
    "        return\n",
    "    \n",
    "    # 울타리 설치를 위한 재귀\n",
    "    for i in range(N):\n",
    "        for j in range(M):\n",
    "            if block[i][j] == 0: # 빈 공간 찾으면 울타리 하나\n",
    "                block[i][j] = 1\n",
    "                fence += 1\n",
    "                make_fence(fence) # 재귀로 돌림. \n",
    "                # 이때 fence == 3이 되는 stop하는 조건 덕에 재귀가 가능한 것\n",
    "\n",
    "                block[i][j] = 0 # 하나 빼고 다른 좌표에 대해 재귀하려고\n",
    "                fence -= 1\n"
   ]
  },
  {
   "cell_type": "code",
   "execution_count": 61,
   "metadata": {},
   "outputs": [
    {
     "name": "stdout",
     "output_type": "stream",
     "text": [
      "9\n"
     ]
    }
   ],
   "source": [
    "make_fence(0)\n",
    "print(MAX)"
   ]
  }
 ],
 "metadata": {
  "kernelspec": {
   "display_name": "Python 3.10.2 64-bit",
   "language": "python",
   "name": "python3"
  },
  "language_info": {
   "codemirror_mode": {
    "name": "ipython",
    "version": 3
   },
   "file_extension": ".py",
   "mimetype": "text/x-python",
   "name": "python",
   "nbconvert_exporter": "python",
   "pygments_lexer": "ipython3",
   "version": "3.10.2"
  },
  "orig_nbformat": 4,
  "vscode": {
   "interpreter": {
    "hash": "35a709b18549f3821755cf447a624debe2d5757e6152a382261c019f6f81fca7"
   }
  }
 },
 "nbformat": 4,
 "nbformat_minor": 2
}
