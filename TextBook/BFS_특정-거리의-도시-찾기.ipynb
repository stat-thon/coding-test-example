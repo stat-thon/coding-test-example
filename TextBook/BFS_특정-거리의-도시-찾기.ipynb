{
 "cells": [
  {
   "cell_type": "markdown",
   "metadata": {},
   "source": [
    "# DFS - 특정 거리의 도시 찾기"
   ]
  },
  {
   "cell_type": "code",
   "execution_count": 62,
   "metadata": {},
   "outputs": [
    {
     "name": "stdout",
     "output_type": "stream",
     "text": [
      "4 4 2 1\n",
      "[[1, 2], [1, 3], [2, 3], [2, 4]]\n",
      "4\n"
     ]
    }
   ],
   "source": [
    "n, m, k, x = list(map(int, input().split()))\n",
    "\n",
    "# 방향 표시해주는 direction 리스트\n",
    "direction = []\n",
    "for _ in range(m):\n",
    "    direction.append(list(map(int, input().split())))\n",
    "\n",
    "def make_graph(direction):\n",
    "    graph = [[] for _ in range(n + 1)]\n",
    "    for dir in direction:\n",
    "        graph[dir[0]].append(dir[1])\n",
    "    return graph\n",
    "\n",
    "# 그래프 생성\n",
    "graph = make_graph(direction)\n",
    "\n",
    "## 여기서부터 정답 참고\n",
    "# 거리를 -1로 초기화 (단 출발지점인 x는 0으로 설정)\n",
    "distance = [-1] * (n + 1)\n",
    "distance[x] = 0\n",
    "\n",
    "from collections import deque\n",
    "q = deque([x])\n",
    "while q:\n",
    "    now = q.popleft()\n",
    "\n",
    "    for next_node in graph[now]:\n",
    "        if distance[next_node] == -1:\n",
    "            distance[next_node] = distance[now] + 1\n",
    "            q.append(next_node)\n",
    "\n",
    "check = False\n",
    "for i in range(1, n + 1):\n",
    "    if distance[i] == k:\n",
    "        print(i)\n",
    "        check = True\n",
    "\n",
    "if check == False:\n",
    "    print(-1)"
   ]
  }
 ],
 "metadata": {
  "kernelspec": {
   "display_name": "Python 3.10.2 64-bit",
   "language": "python",
   "name": "python3"
  },
  "language_info": {
   "codemirror_mode": {
    "name": "ipython",
    "version": 3
   },
   "file_extension": ".py",
   "mimetype": "text/x-python",
   "name": "python",
   "nbconvert_exporter": "python",
   "pygments_lexer": "ipython3",
   "version": "3.10.2"
  },
  "orig_nbformat": 4,
  "vscode": {
   "interpreter": {
    "hash": "35a709b18549f3821755cf447a624debe2d5757e6152a382261c019f6f81fca7"
   }
  }
 },
 "nbformat": 4,
 "nbformat_minor": 2
}
