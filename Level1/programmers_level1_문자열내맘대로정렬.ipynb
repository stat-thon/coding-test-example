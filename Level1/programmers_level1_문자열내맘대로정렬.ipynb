{
 "cells": [
  {
   "cell_type": "markdown",
   "metadata": {},
   "source": [
    "# 프로그래머스 - 문자열 내 마음대로 정렬하기"
   ]
  },
  {
   "cell_type": "code",
<<<<<<< HEAD
   "execution_count": 26,
   "metadata": {},
   "outputs": [],
   "source": [
    "strings = ['abcd', 'abce', 'cdx']\n",
=======
   "execution_count": 27,
   "metadata": {},
   "outputs": [],
   "source": [
    "strings = ['abce', 'abcd', 'cdcx', 'fcax']\n",
>>>>>>> fa639bebb8cd8c280be8fa409434874ecf4fc7be
    "n = 2"
   ]
  },
  {
   "cell_type": "code",
<<<<<<< HEAD
   "execution_count": 32,
=======
   "execution_count": 23,
   "metadata": {},
   "outputs": [],
   "source": [
    "strings = ['sun', 'bed', 'car']\n",
    "n = 1"
   ]
  },
  {
   "cell_type": "code",
   "execution_count": 19,
   "metadata": {},
   "outputs": [],
   "source": [
    "strings = ['abbe', 'abcd', 'cdx']\n",
    "n = 2"
   ]
  },
  {
   "cell_type": "code",
   "execution_count": null,
   "metadata": {},
   "outputs": [],
   "source": []
  },
  {
   "cell_type": "code",
   "execution_count": 15,
   "metadata": {},
   "outputs": [],
   "source": [
    "def solution(strings, n):\n",
    "    if len(sorted({i[n] for i in strings})) != len(strings):\n",
    "        answer = sorted(strings)\n",
    "    else: answer = (lambda strings, n: [{i[n]:i for i in strings}[i] for i in sorted({i[n]:i for i in strings})])(strings, n)\n",
    "    return answer"
   ]
  },
  {
   "cell_type": "code",
   "execution_count": 28,
>>>>>>> fa639bebb8cd8c280be8fa409434874ecf4fc7be
   "metadata": {},
   "outputs": [
    {
     "data": {
      "text/plain": [
<<<<<<< HEAD
       "[99, 99, 120]"
      ]
     },
     "execution_count": 32,
     "metadata": {},
     "output_type": "execute_result"
    }
   ],
   "source": [
    "[ord(i[n]) for i in strings]"
   ]
  },
  {
   "cell_type": "code",
   "execution_count": 22,
   "metadata": {},
   "outputs": [],
   "source": [
    "solution = lambda strings, n: [{i[n]:i for i in strings}[i] for i in sorted([i[n] for i in strings])]"
   ]
  },
  {
   "cell_type": "code",
   "execution_count": 16,
   "metadata": {},
   "outputs": [],
   "source": [
    "solution = lambda strings, n: [{i[n]:i for i in strings}[i] for i in sorted({i[n]:i for i in strings})]"
   ]
  },
  {
   "cell_type": "code",
   "execution_count": 27,
   "metadata": {},
   "outputs": [
    {
     "data": {
      "text/plain": [
       "['abce', 'abce', 'cdx']"
      ]
     },
     "execution_count": 27,
=======
       "['abcd', 'abce', 'cdcx', 'fcax']"
      ]
     },
     "execution_count": 28,
>>>>>>> fa639bebb8cd8c280be8fa409434874ecf4fc7be
     "metadata": {},
     "output_type": "execute_result"
    }
   ],
   "source": [
    "solution(strings, n)"
   ]
<<<<<<< HEAD
=======
  },
  {
   "cell_type": "code",
   "execution_count": 9,
   "metadata": {},
   "outputs": [
    {
     "data": {
      "text/plain": [
       "['abcd', 'abce', 'cdx']"
      ]
     },
     "execution_count": 9,
     "metadata": {},
     "output_type": "execute_result"
    }
   ],
   "source": [
    "sorted(strings)"
   ]
>>>>>>> fa639bebb8cd8c280be8fa409434874ecf4fc7be
  }
 ],
 "metadata": {
  "kernelspec": {
<<<<<<< HEAD
   "display_name": "Python 3.9.7 ('base')",
=======
   "display_name": "Python 3.10.2 64-bit",
>>>>>>> fa639bebb8cd8c280be8fa409434874ecf4fc7be
   "language": "python",
   "name": "python3"
  },
  "language_info": {
   "codemirror_mode": {
    "name": "ipython",
    "version": 3
   },
   "file_extension": ".py",
   "mimetype": "text/x-python",
   "name": "python",
   "nbconvert_exporter": "python",
   "pygments_lexer": "ipython3",
<<<<<<< HEAD
   "version": "3.9.7"
=======
   "version": "3.10.2"
>>>>>>> fa639bebb8cd8c280be8fa409434874ecf4fc7be
  },
  "orig_nbformat": 4,
  "vscode": {
   "interpreter": {
<<<<<<< HEAD
    "hash": "89ac6dd2201b5666063839014919a6a8e5ab411e0482cec326965e3203c35655"
=======
    "hash": "35a709b18549f3821755cf447a624debe2d5757e6152a382261c019f6f81fca7"
>>>>>>> fa639bebb8cd8c280be8fa409434874ecf4fc7be
   }
  }
 },
 "nbformat": 4,
 "nbformat_minor": 2
}
