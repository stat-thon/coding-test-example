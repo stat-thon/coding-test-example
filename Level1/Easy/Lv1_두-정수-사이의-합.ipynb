{
 "cells": [
  {
   "cell_type": "markdown",
   "metadata": {},
   "source": [
    "# 프로그래머스 - 두 정수 사이의 합"
   ]
  },
  {
   "cell_type": "code",
   "execution_count": null,
   "metadata": {},
   "outputs": [],
   "source": [
    "# 시간복잡도 높긴 함\n",
    "solution = lambda a, b: sum([i for i in range(min(a, b), max(a, b) + 1)])"
   ]
  }
 ],
 "metadata": {
  "language_info": {
   "name": "python"
  },
  "orig_nbformat": 4
 },
 "nbformat": 4,
 "nbformat_minor": 2
}
