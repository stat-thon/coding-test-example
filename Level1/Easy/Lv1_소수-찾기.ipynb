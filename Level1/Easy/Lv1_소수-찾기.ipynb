{
 "cells": [
  {
   "cell_type": "markdown",
   "metadata": {},
   "source": [
    "# 프로그래머스 - 소수 찾기"
   ]
  },
  {
   "cell_type": "code",
   "execution_count": 6,
   "metadata": {},
   "outputs": [],
   "source": [
    "n = 500"
   ]
  },
  {
   "cell_type": "code",
   "execution_count": 19,
   "metadata": {},
   "outputs": [],
   "source": [
    "def solution(n):\n",
    "    a = [True for i in range(n + 1)]\n",
    "    for i in range(2, int(n ** 0.5) + 1):\n",
    "        if a[i] == True:\n",
    "            j = 2\n",
    "            while i * j <= n:\n",
    "                a[i * j] = False\n",
    "                j += 1\n",
    "    cnt = 0\n",
    "    for i in range(2, n + 1):\n",
    "        if a[i]:\n",
    "            cnt += 1\n",
    "    return cnt"
   ]
  }
 ],
 "metadata": {
  "kernelspec": {
   "display_name": "Python 3.9.7 ('base')",
   "language": "python",
   "name": "python3"
  },
  "language_info": {
   "codemirror_mode": {
    "name": "ipython",
    "version": 3
   },
   "file_extension": ".py",
   "mimetype": "text/x-python",
   "name": "python",
   "nbconvert_exporter": "python",
   "pygments_lexer": "ipython3",
   "version": "3.9.7"
  },
  "orig_nbformat": 4,
  "vscode": {
   "interpreter": {
    "hash": "89ac6dd2201b5666063839014919a6a8e5ab411e0482cec326965e3203c35655"
   }
  }
 },
 "nbformat": 4,
 "nbformat_minor": 2
}
